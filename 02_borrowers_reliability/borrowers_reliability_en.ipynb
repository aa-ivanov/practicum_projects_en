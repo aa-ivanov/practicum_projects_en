{
 "cells": [
  {
   "cell_type": "markdown",
   "id": "2ee99557",
   "metadata": {},
   "source": [
    "# Reliability of borrowers"
   ]
  },
  {
   "cell_type": "markdown",
   "id": "a2d54ffc",
   "metadata": {},
   "source": [
    "## General information"
   ]
  },
  {
   "cell_type": "code",
   "execution_count": 1,
   "id": "fa7b4e1e",
   "metadata": {},
   "outputs": [],
   "source": [
    "import pandas as pd"
   ]
  },
  {
   "cell_type": "code",
   "execution_count": 2,
   "id": "74735ace",
   "metadata": {},
   "outputs": [],
   "source": [
    "data = pd.read_csv('data.csv')"
   ]
  },
  {
   "cell_type": "markdown",
   "id": "55db5ac7",
   "metadata": {},
   "source": [
    "We study the general information about the available data."
   ]
  },
  {
   "cell_type": "code",
   "execution_count": 3,
   "id": "437c893e",
   "metadata": {},
   "outputs": [
    {
     "data": {
      "text/html": [
       "<div>\n",
       "<style scoped>\n",
       "    .dataframe tbody tr th:only-of-type {\n",
       "        vertical-align: middle;\n",
       "    }\n",
       "\n",
       "    .dataframe tbody tr th {\n",
       "        vertical-align: top;\n",
       "    }\n",
       "\n",
       "    .dataframe thead th {\n",
       "        text-align: right;\n",
       "    }\n",
       "</style>\n",
       "<table border=\"1\" class=\"dataframe\">\n",
       "  <thead>\n",
       "    <tr style=\"text-align: right;\">\n",
       "      <th></th>\n",
       "      <th>children</th>\n",
       "      <th>days_employed</th>\n",
       "      <th>dob_years</th>\n",
       "      <th>education</th>\n",
       "      <th>education_id</th>\n",
       "      <th>family_status</th>\n",
       "      <th>family_status_id</th>\n",
       "      <th>gender</th>\n",
       "      <th>income_type</th>\n",
       "      <th>debt</th>\n",
       "      <th>total_income</th>\n",
       "      <th>purpose</th>\n",
       "    </tr>\n",
       "  </thead>\n",
       "  <tbody>\n",
       "    <tr>\n",
       "      <th>0</th>\n",
       "      <td>1</td>\n",
       "      <td>-8437.673028</td>\n",
       "      <td>42</td>\n",
       "      <td>высшее</td>\n",
       "      <td>0</td>\n",
       "      <td>женат / замужем</td>\n",
       "      <td>0</td>\n",
       "      <td>F</td>\n",
       "      <td>сотрудник</td>\n",
       "      <td>0</td>\n",
       "      <td>253875.639453</td>\n",
       "      <td>покупка жилья</td>\n",
       "    </tr>\n",
       "    <tr>\n",
       "      <th>1</th>\n",
       "      <td>1</td>\n",
       "      <td>-4024.803754</td>\n",
       "      <td>36</td>\n",
       "      <td>среднее</td>\n",
       "      <td>1</td>\n",
       "      <td>женат / замужем</td>\n",
       "      <td>0</td>\n",
       "      <td>F</td>\n",
       "      <td>сотрудник</td>\n",
       "      <td>0</td>\n",
       "      <td>112080.014102</td>\n",
       "      <td>приобретение автомобиля</td>\n",
       "    </tr>\n",
       "    <tr>\n",
       "      <th>2</th>\n",
       "      <td>0</td>\n",
       "      <td>-5623.422610</td>\n",
       "      <td>33</td>\n",
       "      <td>Среднее</td>\n",
       "      <td>1</td>\n",
       "      <td>женат / замужем</td>\n",
       "      <td>0</td>\n",
       "      <td>M</td>\n",
       "      <td>сотрудник</td>\n",
       "      <td>0</td>\n",
       "      <td>145885.952297</td>\n",
       "      <td>покупка жилья</td>\n",
       "    </tr>\n",
       "    <tr>\n",
       "      <th>3</th>\n",
       "      <td>3</td>\n",
       "      <td>-4124.747207</td>\n",
       "      <td>32</td>\n",
       "      <td>среднее</td>\n",
       "      <td>1</td>\n",
       "      <td>женат / замужем</td>\n",
       "      <td>0</td>\n",
       "      <td>M</td>\n",
       "      <td>сотрудник</td>\n",
       "      <td>0</td>\n",
       "      <td>267628.550329</td>\n",
       "      <td>дополнительное образование</td>\n",
       "    </tr>\n",
       "    <tr>\n",
       "      <th>4</th>\n",
       "      <td>0</td>\n",
       "      <td>340266.072047</td>\n",
       "      <td>53</td>\n",
       "      <td>среднее</td>\n",
       "      <td>1</td>\n",
       "      <td>гражданский брак</td>\n",
       "      <td>1</td>\n",
       "      <td>F</td>\n",
       "      <td>пенсионер</td>\n",
       "      <td>0</td>\n",
       "      <td>158616.077870</td>\n",
       "      <td>сыграть свадьбу</td>\n",
       "    </tr>\n",
       "    <tr>\n",
       "      <th>5</th>\n",
       "      <td>0</td>\n",
       "      <td>-926.185831</td>\n",
       "      <td>27</td>\n",
       "      <td>высшее</td>\n",
       "      <td>0</td>\n",
       "      <td>гражданский брак</td>\n",
       "      <td>1</td>\n",
       "      <td>M</td>\n",
       "      <td>компаньон</td>\n",
       "      <td>0</td>\n",
       "      <td>255763.565419</td>\n",
       "      <td>покупка жилья</td>\n",
       "    </tr>\n",
       "    <tr>\n",
       "      <th>6</th>\n",
       "      <td>0</td>\n",
       "      <td>-2879.202052</td>\n",
       "      <td>43</td>\n",
       "      <td>высшее</td>\n",
       "      <td>0</td>\n",
       "      <td>женат / замужем</td>\n",
       "      <td>0</td>\n",
       "      <td>F</td>\n",
       "      <td>компаньон</td>\n",
       "      <td>0</td>\n",
       "      <td>240525.971920</td>\n",
       "      <td>операции с жильем</td>\n",
       "    </tr>\n",
       "    <tr>\n",
       "      <th>7</th>\n",
       "      <td>0</td>\n",
       "      <td>-152.779569</td>\n",
       "      <td>50</td>\n",
       "      <td>СРЕДНЕЕ</td>\n",
       "      <td>1</td>\n",
       "      <td>женат / замужем</td>\n",
       "      <td>0</td>\n",
       "      <td>M</td>\n",
       "      <td>сотрудник</td>\n",
       "      <td>0</td>\n",
       "      <td>135823.934197</td>\n",
       "      <td>образование</td>\n",
       "    </tr>\n",
       "    <tr>\n",
       "      <th>8</th>\n",
       "      <td>2</td>\n",
       "      <td>-6929.865299</td>\n",
       "      <td>35</td>\n",
       "      <td>ВЫСШЕЕ</td>\n",
       "      <td>0</td>\n",
       "      <td>гражданский брак</td>\n",
       "      <td>1</td>\n",
       "      <td>F</td>\n",
       "      <td>сотрудник</td>\n",
       "      <td>0</td>\n",
       "      <td>95856.832424</td>\n",
       "      <td>на проведение свадьбы</td>\n",
       "    </tr>\n",
       "    <tr>\n",
       "      <th>9</th>\n",
       "      <td>0</td>\n",
       "      <td>-2188.756445</td>\n",
       "      <td>41</td>\n",
       "      <td>среднее</td>\n",
       "      <td>1</td>\n",
       "      <td>женат / замужем</td>\n",
       "      <td>0</td>\n",
       "      <td>M</td>\n",
       "      <td>сотрудник</td>\n",
       "      <td>0</td>\n",
       "      <td>144425.938277</td>\n",
       "      <td>покупка жилья для семьи</td>\n",
       "    </tr>\n",
       "  </tbody>\n",
       "</table>\n",
       "</div>"
      ],
      "text/plain": [
       "   children  days_employed  dob_years education  education_id  \\\n",
       "0         1   -8437.673028         42    высшее             0   \n",
       "1         1   -4024.803754         36   среднее             1   \n",
       "2         0   -5623.422610         33   Среднее             1   \n",
       "3         3   -4124.747207         32   среднее             1   \n",
       "4         0  340266.072047         53   среднее             1   \n",
       "5         0    -926.185831         27    высшее             0   \n",
       "6         0   -2879.202052         43    высшее             0   \n",
       "7         0    -152.779569         50   СРЕДНЕЕ             1   \n",
       "8         2   -6929.865299         35    ВЫСШЕЕ             0   \n",
       "9         0   -2188.756445         41   среднее             1   \n",
       "\n",
       "      family_status  family_status_id gender income_type  debt   total_income  \\\n",
       "0   женат / замужем                 0      F   сотрудник     0  253875.639453   \n",
       "1   женат / замужем                 0      F   сотрудник     0  112080.014102   \n",
       "2   женат / замужем                 0      M   сотрудник     0  145885.952297   \n",
       "3   женат / замужем                 0      M   сотрудник     0  267628.550329   \n",
       "4  гражданский брак                 1      F   пенсионер     0  158616.077870   \n",
       "5  гражданский брак                 1      M   компаньон     0  255763.565419   \n",
       "6   женат / замужем                 0      F   компаньон     0  240525.971920   \n",
       "7   женат / замужем                 0      M   сотрудник     0  135823.934197   \n",
       "8  гражданский брак                 1      F   сотрудник     0   95856.832424   \n",
       "9   женат / замужем                 0      M   сотрудник     0  144425.938277   \n",
       "\n",
       "                      purpose  \n",
       "0               покупка жилья  \n",
       "1     приобретение автомобиля  \n",
       "2               покупка жилья  \n",
       "3  дополнительное образование  \n",
       "4             сыграть свадьбу  \n",
       "5               покупка жилья  \n",
       "6           операции с жильем  \n",
       "7                 образование  \n",
       "8       на проведение свадьбы  \n",
       "9     покупка жилья для семьи  "
      ]
     },
     "execution_count": 3,
     "metadata": {},
     "output_type": "execute_result"
    }
   ],
   "source": [
    "data.head(10)"
   ]
  },
  {
   "cell_type": "code",
   "execution_count": 4,
   "id": "65ece648",
   "metadata": {},
   "outputs": [
    {
     "name": "stdout",
     "output_type": "stream",
     "text": [
      "<class 'pandas.core.frame.DataFrame'>\n",
      "RangeIndex: 21525 entries, 0 to 21524\n",
      "Data columns (total 12 columns):\n",
      " #   Column            Non-Null Count  Dtype  \n",
      "---  ------            --------------  -----  \n",
      " 0   children          21525 non-null  int64  \n",
      " 1   days_employed     19351 non-null  float64\n",
      " 2   dob_years         21525 non-null  int64  \n",
      " 3   education         21525 non-null  object \n",
      " 4   education_id      21525 non-null  int64  \n",
      " 5   family_status     21525 non-null  object \n",
      " 6   family_status_id  21525 non-null  int64  \n",
      " 7   gender            21525 non-null  object \n",
      " 8   income_type       21525 non-null  object \n",
      " 9   debt              21525 non-null  int64  \n",
      " 10  total_income      19351 non-null  float64\n",
      " 11  purpose           21525 non-null  object \n",
      "dtypes: float64(2), int64(5), object(5)\n",
      "memory usage: 2.0+ MB\n"
     ]
    }
   ],
   "source": [
    "data.info()"
   ]
  },
  {
   "cell_type": "markdown",
   "id": "558b958e",
   "metadata": {},
   "source": [
    "The dataset is represented by 21,525 rows and 12 columns. From the sample above, it is already noticeable that there are implicit duplicates and anomalous values in it. There are also gaps in the `days_employed` and `total_income` columns."
   ]
  },
  {
   "cell_type": "markdown",
   "id": "ae25eaf9",
   "metadata": {},
   "source": [
    "## Data preprocessing"
   ]
  },
  {
   "cell_type": "markdown",
   "id": "54e3b6a7",
   "metadata": {},
   "source": [
    "### Removing gaps"
   ]
  },
  {
   "cell_type": "markdown",
   "id": "b9c8465e",
   "metadata": {},
   "source": [
    "**Display the number of missing values for each column.**"
   ]
  },
  {
   "cell_type": "code",
   "execution_count": 5,
   "id": "8350bda2",
   "metadata": {},
   "outputs": [
    {
     "data": {
      "text/plain": [
       "children               0\n",
       "days_employed       2174\n",
       "dob_years              0\n",
       "education              0\n",
       "education_id           0\n",
       "family_status          0\n",
       "family_status_id       0\n",
       "gender                 0\n",
       "income_type            0\n",
       "debt                   0\n",
       "total_income        2174\n",
       "purpose                0\n",
       "dtype: int64"
      ]
     },
     "execution_count": 5,
     "metadata": {},
     "output_type": "execute_result"
    }
   ],
   "source": [
    "data.isna().sum()"
   ]
  },
  {
   "cell_type": "markdown",
   "id": "a41176cc",
   "metadata": {},
   "source": [
    "There are missing values in two columns. One of them is `days_employed`. The gaps in this column will be dealt with in the next step. Another column with missing values, `total_income`, stores income data. The amount of income is most affected by the type of employment, so fill in the gaps in this column with the median value for each type from the `income_type` column. For example, for a person with an employment type of `employee`, the gap in the `total_income` column must be filled by the median income among all records of the same type."
   ]
  },
  {
   "cell_type": "code",
   "execution_count": 6,
   "id": "4e9e667b",
   "metadata": {},
   "outputs": [
    {
     "data": {
      "text/html": [
       "<div>\n",
       "<style scoped>\n",
       "    .dataframe tbody tr th:only-of-type {\n",
       "        vertical-align: middle;\n",
       "    }\n",
       "\n",
       "    .dataframe tbody tr th {\n",
       "        vertical-align: top;\n",
       "    }\n",
       "\n",
       "    .dataframe thead th {\n",
       "        text-align: right;\n",
       "    }\n",
       "</style>\n",
       "<table border=\"1\" class=\"dataframe\">\n",
       "  <thead>\n",
       "    <tr style=\"text-align: right;\">\n",
       "      <th></th>\n",
       "      <th>children</th>\n",
       "      <th>days_employed</th>\n",
       "      <th>dob_years</th>\n",
       "      <th>education</th>\n",
       "      <th>education_id</th>\n",
       "      <th>family_status</th>\n",
       "      <th>family_status_id</th>\n",
       "      <th>gender</th>\n",
       "      <th>income_type</th>\n",
       "      <th>debt</th>\n",
       "      <th>total_income</th>\n",
       "      <th>purpose</th>\n",
       "    </tr>\n",
       "  </thead>\n",
       "  <tbody>\n",
       "    <tr>\n",
       "      <th>0</th>\n",
       "      <td>1</td>\n",
       "      <td>-8437.673028</td>\n",
       "      <td>42</td>\n",
       "      <td>высшее</td>\n",
       "      <td>0</td>\n",
       "      <td>женат / замужем</td>\n",
       "      <td>0</td>\n",
       "      <td>F</td>\n",
       "      <td>сотрудник</td>\n",
       "      <td>0</td>\n",
       "      <td>253875.639453</td>\n",
       "      <td>покупка жилья</td>\n",
       "    </tr>\n",
       "    <tr>\n",
       "      <th>1</th>\n",
       "      <td>1</td>\n",
       "      <td>-4024.803754</td>\n",
       "      <td>36</td>\n",
       "      <td>среднее</td>\n",
       "      <td>1</td>\n",
       "      <td>женат / замужем</td>\n",
       "      <td>0</td>\n",
       "      <td>F</td>\n",
       "      <td>сотрудник</td>\n",
       "      <td>0</td>\n",
       "      <td>112080.014102</td>\n",
       "      <td>приобретение автомобиля</td>\n",
       "    </tr>\n",
       "    <tr>\n",
       "      <th>2</th>\n",
       "      <td>0</td>\n",
       "      <td>-5623.422610</td>\n",
       "      <td>33</td>\n",
       "      <td>Среднее</td>\n",
       "      <td>1</td>\n",
       "      <td>женат / замужем</td>\n",
       "      <td>0</td>\n",
       "      <td>M</td>\n",
       "      <td>сотрудник</td>\n",
       "      <td>0</td>\n",
       "      <td>145885.952297</td>\n",
       "      <td>покупка жилья</td>\n",
       "    </tr>\n",
       "    <tr>\n",
       "      <th>3</th>\n",
       "      <td>3</td>\n",
       "      <td>-4124.747207</td>\n",
       "      <td>32</td>\n",
       "      <td>среднее</td>\n",
       "      <td>1</td>\n",
       "      <td>женат / замужем</td>\n",
       "      <td>0</td>\n",
       "      <td>M</td>\n",
       "      <td>сотрудник</td>\n",
       "      <td>0</td>\n",
       "      <td>267628.550329</td>\n",
       "      <td>дополнительное образование</td>\n",
       "    </tr>\n",
       "    <tr>\n",
       "      <th>4</th>\n",
       "      <td>0</td>\n",
       "      <td>340266.072047</td>\n",
       "      <td>53</td>\n",
       "      <td>среднее</td>\n",
       "      <td>1</td>\n",
       "      <td>гражданский брак</td>\n",
       "      <td>1</td>\n",
       "      <td>F</td>\n",
       "      <td>пенсионер</td>\n",
       "      <td>0</td>\n",
       "      <td>158616.077870</td>\n",
       "      <td>сыграть свадьбу</td>\n",
       "    </tr>\n",
       "    <tr>\n",
       "      <th>...</th>\n",
       "      <td>...</td>\n",
       "      <td>...</td>\n",
       "      <td>...</td>\n",
       "      <td>...</td>\n",
       "      <td>...</td>\n",
       "      <td>...</td>\n",
       "      <td>...</td>\n",
       "      <td>...</td>\n",
       "      <td>...</td>\n",
       "      <td>...</td>\n",
       "      <td>...</td>\n",
       "      <td>...</td>\n",
       "    </tr>\n",
       "    <tr>\n",
       "      <th>21520</th>\n",
       "      <td>1</td>\n",
       "      <td>-4529.316663</td>\n",
       "      <td>43</td>\n",
       "      <td>среднее</td>\n",
       "      <td>1</td>\n",
       "      <td>гражданский брак</td>\n",
       "      <td>1</td>\n",
       "      <td>F</td>\n",
       "      <td>компаньон</td>\n",
       "      <td>0</td>\n",
       "      <td>224791.862382</td>\n",
       "      <td>операции с жильем</td>\n",
       "    </tr>\n",
       "    <tr>\n",
       "      <th>21521</th>\n",
       "      <td>0</td>\n",
       "      <td>343937.404131</td>\n",
       "      <td>67</td>\n",
       "      <td>среднее</td>\n",
       "      <td>1</td>\n",
       "      <td>женат / замужем</td>\n",
       "      <td>0</td>\n",
       "      <td>F</td>\n",
       "      <td>пенсионер</td>\n",
       "      <td>0</td>\n",
       "      <td>155999.806512</td>\n",
       "      <td>сделка с автомобилем</td>\n",
       "    </tr>\n",
       "    <tr>\n",
       "      <th>21522</th>\n",
       "      <td>1</td>\n",
       "      <td>-2113.346888</td>\n",
       "      <td>38</td>\n",
       "      <td>среднее</td>\n",
       "      <td>1</td>\n",
       "      <td>гражданский брак</td>\n",
       "      <td>1</td>\n",
       "      <td>M</td>\n",
       "      <td>сотрудник</td>\n",
       "      <td>1</td>\n",
       "      <td>89672.561153</td>\n",
       "      <td>недвижимость</td>\n",
       "    </tr>\n",
       "    <tr>\n",
       "      <th>21523</th>\n",
       "      <td>3</td>\n",
       "      <td>-3112.481705</td>\n",
       "      <td>38</td>\n",
       "      <td>среднее</td>\n",
       "      <td>1</td>\n",
       "      <td>женат / замужем</td>\n",
       "      <td>0</td>\n",
       "      <td>M</td>\n",
       "      <td>сотрудник</td>\n",
       "      <td>1</td>\n",
       "      <td>244093.050500</td>\n",
       "      <td>на покупку своего автомобиля</td>\n",
       "    </tr>\n",
       "    <tr>\n",
       "      <th>21524</th>\n",
       "      <td>2</td>\n",
       "      <td>-1984.507589</td>\n",
       "      <td>40</td>\n",
       "      <td>среднее</td>\n",
       "      <td>1</td>\n",
       "      <td>женат / замужем</td>\n",
       "      <td>0</td>\n",
       "      <td>F</td>\n",
       "      <td>сотрудник</td>\n",
       "      <td>0</td>\n",
       "      <td>82047.418899</td>\n",
       "      <td>на покупку автомобиля</td>\n",
       "    </tr>\n",
       "  </tbody>\n",
       "</table>\n",
       "<p>21525 rows × 12 columns</p>\n",
       "</div>"
      ],
      "text/plain": [
       "       children  days_employed  dob_years education  education_id  \\\n",
       "0             1   -8437.673028         42    высшее             0   \n",
       "1             1   -4024.803754         36   среднее             1   \n",
       "2             0   -5623.422610         33   Среднее             1   \n",
       "3             3   -4124.747207         32   среднее             1   \n",
       "4             0  340266.072047         53   среднее             1   \n",
       "...         ...            ...        ...       ...           ...   \n",
       "21520         1   -4529.316663         43   среднее             1   \n",
       "21521         0  343937.404131         67   среднее             1   \n",
       "21522         1   -2113.346888         38   среднее             1   \n",
       "21523         3   -3112.481705         38   среднее             1   \n",
       "21524         2   -1984.507589         40   среднее             1   \n",
       "\n",
       "          family_status  family_status_id gender income_type  debt  \\\n",
       "0       женат / замужем                 0      F   сотрудник     0   \n",
       "1       женат / замужем                 0      F   сотрудник     0   \n",
       "2       женат / замужем                 0      M   сотрудник     0   \n",
       "3       женат / замужем                 0      M   сотрудник     0   \n",
       "4      гражданский брак                 1      F   пенсионер     0   \n",
       "...                 ...               ...    ...         ...   ...   \n",
       "21520  гражданский брак                 1      F   компаньон     0   \n",
       "21521   женат / замужем                 0      F   пенсионер     0   \n",
       "21522  гражданский брак                 1      M   сотрудник     1   \n",
       "21523   женат / замужем                 0      M   сотрудник     1   \n",
       "21524   женат / замужем                 0      F   сотрудник     0   \n",
       "\n",
       "        total_income                       purpose  \n",
       "0      253875.639453                 покупка жилья  \n",
       "1      112080.014102       приобретение автомобиля  \n",
       "2      145885.952297                 покупка жилья  \n",
       "3      267628.550329    дополнительное образование  \n",
       "4      158616.077870               сыграть свадьбу  \n",
       "...              ...                           ...  \n",
       "21520  224791.862382             операции с жильем  \n",
       "21521  155999.806512          сделка с автомобилем  \n",
       "21522   89672.561153                  недвижимость  \n",
       "21523  244093.050500  на покупку своего автомобиля  \n",
       "21524   82047.418899         на покупку автомобиля  \n",
       "\n",
       "[21525 rows x 12 columns]"
      ]
     },
     "execution_count": 6,
     "metadata": {},
     "output_type": "execute_result"
    }
   ],
   "source": [
    "for income_type in data.income_type.unique():\n",
    "    #income_median = data[data.income_type == income_type].total_income.median()\n",
    "    data.loc[(data.income_type == income_type) & (data.total_income.isna()), 'total_income'] = \\\n",
    "    data.loc[data.income_type == income_type, 'total_income'].median()\n",
    "    #data.isna().sum()\n",
    "data"
   ]
  },
  {
   "cell_type": "markdown",
   "id": "536d75ce",
   "metadata": {},
   "source": [
    "### Handling anomalous values"
   ]
  },
  {
   "cell_type": "markdown",
   "id": "374dfa65",
   "metadata": {},
   "source": [
    "Artifacts (anomalies) can occur in the data - values that do not reflect reality and appeared due to some kind of error. This artifact would be the negative number of days of work experience in the `days_employed` column. Let's process the values in this column: replace all negative values with positive ones using the `abs()` method."
   ]
  },
  {
   "cell_type": "code",
   "execution_count": 7,
   "id": "0f6b2276",
   "metadata": {},
   "outputs": [],
   "source": [
    "data.days_employed = data.days_employed.abs()"
   ]
  },
  {
   "cell_type": "markdown",
   "id": "70441e9a",
   "metadata": {},
   "source": [
    "**For each type of employment, we will display the median value of the work experience `days_employed` in days.**"
   ]
  },
  {
   "cell_type": "code",
   "execution_count": 8,
   "id": "99c861f3",
   "metadata": {},
   "outputs": [
    {
     "data": {
      "text/plain": [
       "income_type\n",
       "безработный        366413.652744\n",
       "в декрете            3296.759962\n",
       "госслужащий          2689.368353\n",
       "компаньон            1547.382223\n",
       "пенсионер          365213.306266\n",
       "предприниматель       520.848083\n",
       "сотрудник            1574.202821\n",
       "студент               578.751554\n",
       "Name: days_employed, dtype: float64"
      ]
     },
     "execution_count": 8,
     "metadata": {},
     "output_type": "execute_result"
    }
   ],
   "source": [
    "data.groupby('income_type')['days_employed'].median()"
   ]
  },
  {
   "cell_type": "markdown",
   "id": "6dab7158",
   "metadata": {},
   "source": [
    "Two types (unemployed ['безработный'] and pensioners ['пенсионер']) will get abnormally large values. Correcting such values is difficult, so we will leave them as they are. Moreover, we will not need this column for research."
   ]
  },
  {
   "cell_type": "markdown",
   "id": "7088f23d",
   "metadata": {},
   "source": [
    "**Display the list of unique values of the `children` column.**"
   ]
  },
  {
   "cell_type": "code",
   "execution_count": 9,
   "id": "fbcab1db",
   "metadata": {},
   "outputs": [
    {
     "data": {
      "text/plain": [
       "array([ 1,  0,  3,  2, -1,  4, 20,  5])"
      ]
     },
     "execution_count": 9,
     "metadata": {},
     "output_type": "execute_result"
    }
   ],
   "source": [
    "data.children.unique()"
   ]
  },
  {
   "cell_type": "markdown",
   "id": "260fc482",
   "metadata": {},
   "source": [
    "There are two anomalous values in the `children` column. Let's remove the rows containing such anomalous values from the `data` dataframe."
   ]
  },
  {
   "cell_type": "code",
   "execution_count": 10,
   "id": "0159bd3a",
   "metadata": {},
   "outputs": [],
   "source": [
    "data = data[~(data.children == -1)]\n",
    "data = data[~(data.children == 20)]"
   ]
  },
  {
   "cell_type": "markdown",
   "id": "2aec1707",
   "metadata": {},
   "source": [
    "### Removing gaps (continued)"
   ]
  },
  {
   "cell_type": "markdown",
   "id": "4c18180d",
   "metadata": {},
   "source": [
    "Fill in the gaps in the `days_employed` column with the median values for each `income_type` employment type."
   ]
  },
  {
   "cell_type": "code",
   "execution_count": 11,
   "id": "913412f9",
   "metadata": {},
   "outputs": [],
   "source": [
    "for income_type in data.income_type.unique():\n",
    "    data.loc[((data.income_type == income_type) & (data.days_employed.isna())), 'days_employed'] = \\\n",
    "    data.loc[data.income_type == income_type, 'days_employed'].median()"
   ]
  },
  {
   "cell_type": "markdown",
   "id": "d604a0b7",
   "metadata": {},
   "source": [
    "Make sure all gaps are filled."
   ]
  },
  {
   "cell_type": "code",
   "execution_count": 12,
   "id": "96087c37",
   "metadata": {},
   "outputs": [
    {
     "data": {
      "text/plain": [
       "children            0\n",
       "days_employed       0\n",
       "dob_years           0\n",
       "education           0\n",
       "education_id        0\n",
       "family_status       0\n",
       "family_status_id    0\n",
       "gender              0\n",
       "income_type         0\n",
       "debt                0\n",
       "total_income        0\n",
       "purpose             0\n",
       "dtype: int64"
      ]
     },
     "execution_count": 12,
     "metadata": {},
     "output_type": "execute_result"
    }
   ],
   "source": [
    "data.isna().sum()"
   ]
  },
  {
   "cell_type": "markdown",
   "id": "ba5d927f",
   "metadata": {},
   "source": [
    "### Changing data types"
   ]
  },
  {
   "cell_type": "markdown",
   "id": "dc3bce49",
   "metadata": {},
   "source": [
    "Let's replace the real data type in the `total_income` column with an integer one using the `astype()` method."
   ]
  },
  {
   "cell_type": "code",
   "execution_count": 13,
   "id": "0f4234c9",
   "metadata": {},
   "outputs": [],
   "source": [
    "data.total_income = data.total_income.astype('int')"
   ]
  },
  {
   "cell_type": "markdown",
   "id": "a1ca73df",
   "metadata": {},
   "source": [
    "### Handling duplicates"
   ]
  },
  {
   "cell_type": "markdown",
   "id": "82ffdcaa",
   "metadata": {},
   "source": [
    "Let's handle implicit duplicates in the `education` column. This column has the same values, but written differently: using uppercase and lowercase letters. Let's convert them to lower case."
   ]
  },
  {
   "cell_type": "code",
   "execution_count": 14,
   "id": "ada6d8dd",
   "metadata": {},
   "outputs": [],
   "source": [
    "data.education = data.education.str.lower()"
   ]
  },
  {
   "cell_type": "markdown",
   "id": "ce54dd93",
   "metadata": {},
   "source": [
    "**Display the number of duplicate rows in the data. If such lines are present, delete them.**"
   ]
  },
  {
   "cell_type": "code",
   "execution_count": 15,
   "id": "413a978c",
   "metadata": {},
   "outputs": [
    {
     "data": {
      "text/plain": [
       "71"
      ]
     },
     "execution_count": 15,
     "metadata": {},
     "output_type": "execute_result"
    }
   ],
   "source": [
    "data.duplicated().sum()"
   ]
  },
  {
   "cell_type": "code",
   "execution_count": 16,
   "id": "85f23f37",
   "metadata": {},
   "outputs": [],
   "source": [
    "data.drop_duplicates(inplace=True)"
   ]
  },
  {
   "cell_type": "markdown",
   "id": "8ac93ca2",
   "metadata": {},
   "source": [
    "### Data categorization"
   ]
  },
  {
   "cell_type": "markdown",
   "id": "8eeda71f",
   "metadata": {},
   "source": [
    "Based on the ranges below, create a `total_income_category` column in the `data` dataframe with categories:\n",
    "\n",
    "- 0–30000 - `'E'`;\n",
    "- 30001–50000 - ``D'`;\n",
    "- 50001–200000 - ``C'`;\n",
    "- 200001–1000000 - ``B'`;\n",
    "- 1000001 and above - `'A'`."
   ]
  },
  {
   "cell_type": "code",
   "execution_count": 17,
   "id": "4d2547ec",
   "metadata": {},
   "outputs": [],
   "source": [
    "def categorize_income(income_value):\n",
    "    if income_value <= 30000:\n",
    "        return 'E'\n",
    "    elif 30001 <= income_value <= 50000:\n",
    "        return 'D'\n",
    "    elif 50001 <= income_value <= 200000:\n",
    "        return 'C'\n",
    "    elif 200001 <= income_value <= 1000000:\n",
    "        return 'B'\n",
    "    elif income_value >= 1000001:\n",
    "        return 'A'"
   ]
  },
  {
   "cell_type": "code",
   "execution_count": 18,
   "id": "b0b79d6d",
   "metadata": {},
   "outputs": [],
   "source": [
    "data['total_income_category'] = data.total_income.apply(categorize_income)"
   ]
  },
  {
   "cell_type": "markdown",
   "id": "5fa52f05",
   "metadata": {},
   "source": [
    "**Display a list of unique loan purposes from the `purpose` column.**"
   ]
  },
  {
   "cell_type": "code",
   "execution_count": 19,
   "id": "41599baf",
   "metadata": {},
   "outputs": [
    {
     "data": {
      "text/plain": [
       "array(['покупка жилья', 'приобретение автомобиля',\n",
       "       'дополнительное образование', 'сыграть свадьбу',\n",
       "       'операции с жильем', 'образование', 'на проведение свадьбы',\n",
       "       'покупка жилья для семьи', 'покупка недвижимости',\n",
       "       'покупка коммерческой недвижимости', 'покупка жилой недвижимости',\n",
       "       'строительство собственной недвижимости', 'недвижимость',\n",
       "       'строительство недвижимости', 'на покупку подержанного автомобиля',\n",
       "       'на покупку своего автомобиля',\n",
       "       'операции с коммерческой недвижимостью',\n",
       "       'строительство жилой недвижимости', 'жилье',\n",
       "       'операции со своей недвижимостью', 'автомобили',\n",
       "       'заняться образованием', 'сделка с подержанным автомобилем',\n",
       "       'получение образования', 'автомобиль', 'свадьба',\n",
       "       'получение дополнительного образования', 'покупка своего жилья',\n",
       "       'операции с недвижимостью', 'получение высшего образования',\n",
       "       'свой автомобиль', 'сделка с автомобилем',\n",
       "       'профильное образование', 'высшее образование',\n",
       "       'покупка жилья для сдачи', 'на покупку автомобиля', 'ремонт жилью',\n",
       "       'заняться высшим образованием'], dtype=object)"
      ]
     },
     "execution_count": 19,
     "metadata": {},
     "output_type": "execute_result"
    }
   ],
   "source": [
    "data.purpose.unique()"
   ]
  },
  {
   "cell_type": "markdown",
   "id": "eb3251aa",
   "metadata": {},
   "source": [
    "**Let's create a function that, based on the data from the `purpose` column, will form a new `purpose_category` column, which will include the following categories:**\n",
    "\n",
    "- `'операции с автомобилем'` ['car operations'],\n",
    "- `'операции с недвижимостью'` ['real estate transactions'],\n",
    "- `'проведение свадьбы'` ['conducting a wedding'],\n",
    "- `'получение образования'` ['getting an education']."
   ]
  },
  {
   "cell_type": "code",
   "execution_count": 20,
   "id": "0ab6e239",
   "metadata": {},
   "outputs": [],
   "source": [
    "def categorize_purpose(purpose):\n",
    "    if 'автомобил' in purpose:\n",
    "        return 'операции с автомобилем'\n",
    "    elif 'жиль' in purpose or 'недвижимост' in purpose:\n",
    "        return 'операции с недвижимостью'\n",
    "    elif 'свадьб' in purpose:\n",
    "        return 'проведение свадьбы'\n",
    "    elif 'образован' in purpose:\n",
    "        return 'получение образования'"
   ]
  },
  {
   "cell_type": "code",
   "execution_count": 21,
   "id": "73b1016c",
   "metadata": {},
   "outputs": [],
   "source": [
    "data['purpose_category'] = data.purpose.apply(categorize_purpose)"
   ]
  },
  {
   "cell_type": "markdown",
   "id": "5d4389bd",
   "metadata": {},
   "source": [
    "## Exploratory data analysis"
   ]
  },
  {
   "cell_type": "markdown",
   "id": "b5e9999a",
   "metadata": {},
   "source": [
    "### Is there a relationship between the number of children and loan repayment on time?"
   ]
  },
  {
   "cell_type": "markdown",
   "id": "6cbcb567",
   "metadata": {},
   "source": [
    "Let's see the borrowers with how many children are represented in the dataset."
   ]
  },
  {
   "cell_type": "code",
   "execution_count": 22,
   "id": "2530423a",
   "metadata": {},
   "outputs": [
    {
     "data": {
      "text/plain": [
       "array([1, 0, 3, 2, 4, 5])"
      ]
     },
     "execution_count": 22,
     "metadata": {},
     "output_type": "execute_result"
    }
   ],
   "source": [
    "data.children.unique()"
   ]
  },
  {
   "cell_type": "markdown",
   "id": "8252a643",
   "metadata": {},
   "source": [
    "All borrowers can be categorized by the number of children:\n",
    "- **without children** (category `0`),\n",
    "- **1-2 child(s)** (category `1`),\n",
    "- **large family (3 or more children)** (category `2`).\n",
    "\n",
    "Let's create the `categorize_children` function, which, based on the data from the `children` column, will form a new `children_category` column, which will include the categories described above."
   ]
  },
  {
   "cell_type": "code",
   "execution_count": 23,
   "id": "c52101bc",
   "metadata": {},
   "outputs": [],
   "source": [
    "def categorize_children(children):\n",
    "    if children == 0:\n",
    "        return 0\n",
    "    elif 1 <= children <= 2:\n",
    "        return 1\n",
    "    else:\n",
    "        return 2"
   ]
  },
  {
   "cell_type": "markdown",
   "id": "c3f78de7",
   "metadata": {},
   "source": [
    "Let's apply the function and check the result of the execution by displaying the first 10 rows of the dataset."
   ]
  },
  {
   "cell_type": "code",
   "execution_count": 24,
   "id": "798fd657",
   "metadata": {},
   "outputs": [
    {
     "data": {
      "text/html": [
       "<div>\n",
       "<style scoped>\n",
       "    .dataframe tbody tr th:only-of-type {\n",
       "        vertical-align: middle;\n",
       "    }\n",
       "\n",
       "    .dataframe tbody tr th {\n",
       "        vertical-align: top;\n",
       "    }\n",
       "\n",
       "    .dataframe thead th {\n",
       "        text-align: right;\n",
       "    }\n",
       "</style>\n",
       "<table border=\"1\" class=\"dataframe\">\n",
       "  <thead>\n",
       "    <tr style=\"text-align: right;\">\n",
       "      <th></th>\n",
       "      <th>children</th>\n",
       "      <th>days_employed</th>\n",
       "      <th>dob_years</th>\n",
       "      <th>education</th>\n",
       "      <th>education_id</th>\n",
       "      <th>family_status</th>\n",
       "      <th>family_status_id</th>\n",
       "      <th>gender</th>\n",
       "      <th>income_type</th>\n",
       "      <th>debt</th>\n",
       "      <th>total_income</th>\n",
       "      <th>purpose</th>\n",
       "      <th>total_income_category</th>\n",
       "      <th>purpose_category</th>\n",
       "      <th>children_category</th>\n",
       "    </tr>\n",
       "  </thead>\n",
       "  <tbody>\n",
       "    <tr>\n",
       "      <th>0</th>\n",
       "      <td>1</td>\n",
       "      <td>8437.673028</td>\n",
       "      <td>42</td>\n",
       "      <td>высшее</td>\n",
       "      <td>0</td>\n",
       "      <td>женат / замужем</td>\n",
       "      <td>0</td>\n",
       "      <td>F</td>\n",
       "      <td>сотрудник</td>\n",
       "      <td>0</td>\n",
       "      <td>253875</td>\n",
       "      <td>покупка жилья</td>\n",
       "      <td>B</td>\n",
       "      <td>операции с недвижимостью</td>\n",
       "      <td>1</td>\n",
       "    </tr>\n",
       "    <tr>\n",
       "      <th>1</th>\n",
       "      <td>1</td>\n",
       "      <td>4024.803754</td>\n",
       "      <td>36</td>\n",
       "      <td>среднее</td>\n",
       "      <td>1</td>\n",
       "      <td>женат / замужем</td>\n",
       "      <td>0</td>\n",
       "      <td>F</td>\n",
       "      <td>сотрудник</td>\n",
       "      <td>0</td>\n",
       "      <td>112080</td>\n",
       "      <td>приобретение автомобиля</td>\n",
       "      <td>C</td>\n",
       "      <td>операции с автомобилем</td>\n",
       "      <td>1</td>\n",
       "    </tr>\n",
       "    <tr>\n",
       "      <th>2</th>\n",
       "      <td>0</td>\n",
       "      <td>5623.422610</td>\n",
       "      <td>33</td>\n",
       "      <td>среднее</td>\n",
       "      <td>1</td>\n",
       "      <td>женат / замужем</td>\n",
       "      <td>0</td>\n",
       "      <td>M</td>\n",
       "      <td>сотрудник</td>\n",
       "      <td>0</td>\n",
       "      <td>145885</td>\n",
       "      <td>покупка жилья</td>\n",
       "      <td>C</td>\n",
       "      <td>операции с недвижимостью</td>\n",
       "      <td>0</td>\n",
       "    </tr>\n",
       "    <tr>\n",
       "      <th>3</th>\n",
       "      <td>3</td>\n",
       "      <td>4124.747207</td>\n",
       "      <td>32</td>\n",
       "      <td>среднее</td>\n",
       "      <td>1</td>\n",
       "      <td>женат / замужем</td>\n",
       "      <td>0</td>\n",
       "      <td>M</td>\n",
       "      <td>сотрудник</td>\n",
       "      <td>0</td>\n",
       "      <td>267628</td>\n",
       "      <td>дополнительное образование</td>\n",
       "      <td>B</td>\n",
       "      <td>получение образования</td>\n",
       "      <td>2</td>\n",
       "    </tr>\n",
       "    <tr>\n",
       "      <th>4</th>\n",
       "      <td>0</td>\n",
       "      <td>340266.072047</td>\n",
       "      <td>53</td>\n",
       "      <td>среднее</td>\n",
       "      <td>1</td>\n",
       "      <td>гражданский брак</td>\n",
       "      <td>1</td>\n",
       "      <td>F</td>\n",
       "      <td>пенсионер</td>\n",
       "      <td>0</td>\n",
       "      <td>158616</td>\n",
       "      <td>сыграть свадьбу</td>\n",
       "      <td>C</td>\n",
       "      <td>проведение свадьбы</td>\n",
       "      <td>0</td>\n",
       "    </tr>\n",
       "    <tr>\n",
       "      <th>5</th>\n",
       "      <td>0</td>\n",
       "      <td>926.185831</td>\n",
       "      <td>27</td>\n",
       "      <td>высшее</td>\n",
       "      <td>0</td>\n",
       "      <td>гражданский брак</td>\n",
       "      <td>1</td>\n",
       "      <td>M</td>\n",
       "      <td>компаньон</td>\n",
       "      <td>0</td>\n",
       "      <td>255763</td>\n",
       "      <td>покупка жилья</td>\n",
       "      <td>B</td>\n",
       "      <td>операции с недвижимостью</td>\n",
       "      <td>0</td>\n",
       "    </tr>\n",
       "    <tr>\n",
       "      <th>6</th>\n",
       "      <td>0</td>\n",
       "      <td>2879.202052</td>\n",
       "      <td>43</td>\n",
       "      <td>высшее</td>\n",
       "      <td>0</td>\n",
       "      <td>женат / замужем</td>\n",
       "      <td>0</td>\n",
       "      <td>F</td>\n",
       "      <td>компаньон</td>\n",
       "      <td>0</td>\n",
       "      <td>240525</td>\n",
       "      <td>операции с жильем</td>\n",
       "      <td>B</td>\n",
       "      <td>операции с недвижимостью</td>\n",
       "      <td>0</td>\n",
       "    </tr>\n",
       "    <tr>\n",
       "      <th>7</th>\n",
       "      <td>0</td>\n",
       "      <td>152.779569</td>\n",
       "      <td>50</td>\n",
       "      <td>среднее</td>\n",
       "      <td>1</td>\n",
       "      <td>женат / замужем</td>\n",
       "      <td>0</td>\n",
       "      <td>M</td>\n",
       "      <td>сотрудник</td>\n",
       "      <td>0</td>\n",
       "      <td>135823</td>\n",
       "      <td>образование</td>\n",
       "      <td>C</td>\n",
       "      <td>получение образования</td>\n",
       "      <td>0</td>\n",
       "    </tr>\n",
       "    <tr>\n",
       "      <th>8</th>\n",
       "      <td>2</td>\n",
       "      <td>6929.865299</td>\n",
       "      <td>35</td>\n",
       "      <td>высшее</td>\n",
       "      <td>0</td>\n",
       "      <td>гражданский брак</td>\n",
       "      <td>1</td>\n",
       "      <td>F</td>\n",
       "      <td>сотрудник</td>\n",
       "      <td>0</td>\n",
       "      <td>95856</td>\n",
       "      <td>на проведение свадьбы</td>\n",
       "      <td>C</td>\n",
       "      <td>проведение свадьбы</td>\n",
       "      <td>1</td>\n",
       "    </tr>\n",
       "    <tr>\n",
       "      <th>9</th>\n",
       "      <td>0</td>\n",
       "      <td>2188.756445</td>\n",
       "      <td>41</td>\n",
       "      <td>среднее</td>\n",
       "      <td>1</td>\n",
       "      <td>женат / замужем</td>\n",
       "      <td>0</td>\n",
       "      <td>M</td>\n",
       "      <td>сотрудник</td>\n",
       "      <td>0</td>\n",
       "      <td>144425</td>\n",
       "      <td>покупка жилья для семьи</td>\n",
       "      <td>C</td>\n",
       "      <td>операции с недвижимостью</td>\n",
       "      <td>0</td>\n",
       "    </tr>\n",
       "  </tbody>\n",
       "</table>\n",
       "</div>"
      ],
      "text/plain": [
       "   children  days_employed  dob_years education  education_id  \\\n",
       "0         1    8437.673028         42    высшее             0   \n",
       "1         1    4024.803754         36   среднее             1   \n",
       "2         0    5623.422610         33   среднее             1   \n",
       "3         3    4124.747207         32   среднее             1   \n",
       "4         0  340266.072047         53   среднее             1   \n",
       "5         0     926.185831         27    высшее             0   \n",
       "6         0    2879.202052         43    высшее             0   \n",
       "7         0     152.779569         50   среднее             1   \n",
       "8         2    6929.865299         35    высшее             0   \n",
       "9         0    2188.756445         41   среднее             1   \n",
       "\n",
       "      family_status  family_status_id gender income_type  debt  total_income  \\\n",
       "0   женат / замужем                 0      F   сотрудник     0        253875   \n",
       "1   женат / замужем                 0      F   сотрудник     0        112080   \n",
       "2   женат / замужем                 0      M   сотрудник     0        145885   \n",
       "3   женат / замужем                 0      M   сотрудник     0        267628   \n",
       "4  гражданский брак                 1      F   пенсионер     0        158616   \n",
       "5  гражданский брак                 1      M   компаньон     0        255763   \n",
       "6   женат / замужем                 0      F   компаньон     0        240525   \n",
       "7   женат / замужем                 0      M   сотрудник     0        135823   \n",
       "8  гражданский брак                 1      F   сотрудник     0         95856   \n",
       "9   женат / замужем                 0      M   сотрудник     0        144425   \n",
       "\n",
       "                      purpose total_income_category          purpose_category  \\\n",
       "0               покупка жилья                     B  операции с недвижимостью   \n",
       "1     приобретение автомобиля                     C    операции с автомобилем   \n",
       "2               покупка жилья                     C  операции с недвижимостью   \n",
       "3  дополнительное образование                     B     получение образования   \n",
       "4             сыграть свадьбу                     C        проведение свадьбы   \n",
       "5               покупка жилья                     B  операции с недвижимостью   \n",
       "6           операции с жильем                     B  операции с недвижимостью   \n",
       "7                 образование                     C     получение образования   \n",
       "8       на проведение свадьбы                     C        проведение свадьбы   \n",
       "9     покупка жилья для семьи                     C  операции с недвижимостью   \n",
       "\n",
       "   children_category  \n",
       "0                  1  \n",
       "1                  1  \n",
       "2                  0  \n",
       "3                  2  \n",
       "4                  0  \n",
       "5                  0  \n",
       "6                  0  \n",
       "7                  0  \n",
       "8                  1  \n",
       "9                  0  "
      ]
     },
     "execution_count": 24,
     "metadata": {},
     "output_type": "execute_result"
    }
   ],
   "source": [
    "data['children_category'] = data.children.apply(categorize_children)\n",
    "data.head(10)"
   ]
  },
  {
   "cell_type": "markdown",
   "id": "e7cc22f6",
   "metadata": {},
   "source": [
    "Let's see how the categories are presented."
   ]
  },
  {
   "cell_type": "code",
   "execution_count": 25,
   "id": "76ece047",
   "metadata": {},
   "outputs": [
    {
     "data": {
      "text/plain": [
       "0    14091\n",
       "1     6860\n",
       "2      380\n",
       "Name: children_category, dtype: int64"
      ]
     },
     "execution_count": 25,
     "metadata": {},
     "output_type": "execute_result"
    }
   ],
   "source": [
    "data.children_category.value_counts()"
   ]
  },
  {
   "cell_type": "markdown",
   "id": "6cb7a010",
   "metadata": {},
   "source": [
    "We see that the number of borrowers without children is twice as many as those with one or two children. Parents with many children make up no more than 2% of the total number of borrowers."
   ]
  },
  {
   "cell_type": "markdown",
   "id": "26963744",
   "metadata": {},
   "source": [
    "Now let's group the borrowers into categories assigned based on the number of children, and calculate the relative number of delinquencies in payments in each of them."
   ]
  },
  {
   "cell_type": "code",
   "execution_count": 26,
   "id": "2b39fdde",
   "metadata": {},
   "outputs": [
    {
     "data": {
      "text/plain": [
       "children_category\n",
       "0    0.075438\n",
       "1    0.093003\n",
       "2    0.081579\n",
       "Name: debt, dtype: float64"
      ]
     },
     "execution_count": 26,
     "metadata": {},
     "output_type": "execute_result"
    }
   ],
   "source": [
    "data.groupby('children_category')['debt'].mean()"
   ]
  },
  {
   "cell_type": "markdown",
   "id": "6a623d41",
   "metadata": {},
   "source": [
    "**Conclusion:** There is a noticeable peak in loan defaults for borrowers with `1-2 children` (almost 25% more than for people with `no children`).\n",
    "\"Borrowers with many children\" are less likely to be late with payment payments, but still their share is 8% higher than that of \"childless\" ones.\n",
    "Thus, it can be argued that the relationship between the number of children and the repayment of the loan on time **is present** and is significant."
   ]
  },
  {
   "cell_type": "markdown",
   "id": "bc52f34a",
   "metadata": {},
   "source": [
    "### Is there a relationship between marital status and loan repayment on time?"
   ]
  },
  {
   "cell_type": "markdown",
   "id": "56cad453",
   "metadata": {},
   "source": [
    "Let's look at the distribution of the number of people in these categories."
   ]
  },
  {
   "cell_type": "code",
   "execution_count": 27,
   "id": "a6848dbb",
   "metadata": {},
   "outputs": [
    {
     "data": {
      "text/plain": [
       "женат / замужем          12261\n",
       "гражданский брак          4134\n",
       "Не женат / не замужем     2796\n",
       "в разводе                 1189\n",
       "вдовец / вдова             951\n",
       "Name: family_status, dtype: int64"
      ]
     },
     "execution_count": 27,
     "metadata": {},
     "output_type": "execute_result"
    }
   ],
   "source": [
    "data.family_status.value_counts()"
   ]
  },
  {
   "cell_type": "markdown",
   "id": "c61ca104",
   "metadata": {},
   "source": [
    "In the dataset, all categories are sufficiently represented, therefore, similarly to the previous calculation, we will group borrowers by marital status and consider the relative number of overdue payments by category."
   ]
  },
  {
   "cell_type": "code",
   "execution_count": 28,
   "id": "a1def031",
   "metadata": {},
   "outputs": [
    {
     "data": {
      "text/plain": [
       "Не женат / не замужем    0.097639\n",
       "в разводе                0.070648\n",
       "вдовец / вдова           0.066246\n",
       "гражданский брак         0.093130\n",
       "женат / замужем          0.075606\n",
       "dtype: float64"
      ]
     },
     "execution_count": 28,
     "metadata": {},
     "output_type": "execute_result"
    }
   ],
   "source": [
    "data.groupby('family_status')['debt'].sum() / data.family_status.value_counts()"
   ]
  },
  {
   "cell_type": "markdown",
   "id": "5a04bb40",
   "metadata": {},
   "source": [
    "**Conclusion:** The largest number of non-returns is observed among people in the category \"Single\" (9.8%). Common-law borrowers are almost as likely to default on time. On the contrary, widows and widowers most often pay off their loans on time (arrears occur in 6.6% of cases).\n",
    "\n",
    "Thus, the relationship between marital status and repayment of the loan on time <b>is</b>. However, there is no direct connection with the fact that the lender has a partner, that is, a person who could potentially help with repaying the debt and repaying the loan on time.\n",
    "\n",
    "For example, for the categories \"Single / not married\" and \"civil marriage\", as well as for \"divorced\" and \"married / married\", the shares of non-returns are quite close in value, although representatives of one category lead an independent life, and the other - a joint . At the same time, the difference between these pairs of categories is significant.\n",
    "\n",
    "In other words, the circumstances of the creation or dissolution of an alliance between people rather than the very fact of its existence (divorce / death of a spouse, official marriage / cohabitation) more likely affect the likelihood of timely payment of a loan."
   ]
  },
  {
   "cell_type": "markdown",
   "id": "ecdf9cd5",
   "metadata": {},
   "source": [
    "### Is there a relationship between income and loan repayment on time?"
   ]
  },
  {
   "cell_type": "markdown",
   "id": "d6c48c69",
   "metadata": {},
   "source": [
    "Category distribution:"
   ]
  },
  {
   "cell_type": "code",
   "execution_count": 29,
   "id": "c365ff43",
   "metadata": {},
   "outputs": [
    {
     "data": {
      "text/plain": [
       "C    15921\n",
       "B     5014\n",
       "D      349\n",
       "A       25\n",
       "E       22\n",
       "Name: total_income_category, dtype: int64"
      ]
     },
     "execution_count": 29,
     "metadata": {},
     "output_type": "execute_result"
    }
   ],
   "source": [
    "data.total_income_category.value_counts()"
   ]
  },
  {
   "cell_type": "markdown",
   "id": "e585307a",
   "metadata": {},
   "source": [
    "We see that the categories of people with incomes up to 30 tons and from 1 million rubles are not sufficiently represented, so the conclusions for them may be erroneous.\n",
    "\n",
    "Let's consider the relative number of delays for the previously selected salary categories (the `total_income_category` column of the dataframe)."
   ]
  },
  {
   "cell_type": "code",
   "execution_count": 30,
   "id": "bf991e3f",
   "metadata": {},
   "outputs": [
    {
     "data": {
      "text/plain": [
       "A    0.080000\n",
       "B    0.070602\n",
       "C    0.084982\n",
       "D    0.060172\n",
       "E    0.090909\n",
       "dtype: float64"
      ]
     },
     "execution_count": 30,
     "metadata": {},
     "output_type": "execute_result"
    }
   ],
   "source": [
    "data.groupby('total_income_category')['debt'].sum() / data.total_income_category.value_counts()"
   ]
  },
  {
   "cell_type": "markdown",
   "id": "400b2572",
   "metadata": {},
   "source": [
    "**Conclusion:**\n",
    "Contrary to the intuitive assumption that wages will be inversely proportional to the number of loan arrears, people with a salary of `from 1 million rubles` per month are late with payments *a third more often* than those who earn `from 30 to 50 thousand rubles`. \\\n",
    "Borrowers who receive `up to 30 thousand rubles` per month, more than others have delinquencies on loans (*9.1%*).\\\n",
    "However, it should be noted once again that representatives of these categories make up only 0.1% of the total number of borrowers. Therefore, these statements require further study.\n",
    "\n",
    "However, this hypothesis is also confirmed: the repayment of the loan on time really **depends** on the level of income."
   ]
  },
  {
   "cell_type": "markdown",
   "id": "170c049b",
   "metadata": {},
   "source": [
    "### How do different purposes of a loan affect its repayment on time?"
   ]
  },
  {
   "cell_type": "markdown",
   "id": "52c7006d",
   "metadata": {},
   "source": [
    "Category distribution:"
   ]
  },
  {
   "cell_type": "code",
   "execution_count": 31,
   "id": "097916b6",
   "metadata": {},
   "outputs": [
    {
     "data": {
      "text/plain": [
       "операции с недвижимостью    10751\n",
       "операции с автомобилем       4279\n",
       "получение образования        3988\n",
       "проведение свадьбы           2313\n",
       "Name: purpose_category, dtype: int64"
      ]
     },
     "execution_count": 31,
     "metadata": {},
     "output_type": "execute_result"
    }
   ],
   "source": [
    "data.purpose_category.value_counts()"
   ]
  },
  {
   "cell_type": "markdown",
   "id": "8359b5f1",
   "metadata": {
    "deletable": false,
    "id": "2b687290"
   },
   "source": [
    "The categories are fairly broad. The conclusions drawn on the basis of such data can be considered with a high probability reflecting reality.\n",
    "\n",
    "Let's calculate the relative number of delinquencies for borrowers grouped into categories by the purpose of the loan."
   ]
  },
  {
   "cell_type": "code",
   "execution_count": 32,
   "id": "90321c2b",
   "metadata": {},
   "outputs": [
    {
     "data": {
      "text/plain": [
       "операции с автомобилем      0.093480\n",
       "операции с недвижимостью    0.072551\n",
       "получение образования       0.092528\n",
       "проведение свадьбы          0.079118\n",
       "dtype: float64"
      ]
     },
     "execution_count": 32,
     "metadata": {},
     "output_type": "execute_result"
    }
   ],
   "source": [
    "data.groupby('purpose_category')['debt'].sum() / data.purpose_category.value_counts()"
   ]
  },
  {
   "cell_type": "markdown",
   "id": "ecaf7214",
   "metadata": {
    "deletable": false,
    "id": "b4bb2ce6"
   },
   "source": [
    "**Conclusion:** The purpose of the loan **affects** the fact that it is repaid on time.\n",
    "\n",
    "Payments on `auto- and educational loans` overstay equally often - in *9.3%* of cases.\\\n",
    "Borrowers who take money for `real estate transactions` and `weddings` repay the loan on time by *15 - 22%* more often. \\\n",
    "The fact that borrowers purchase physical objects (car, apartment) or services (education, wedding) with credit money does not affect the return of the amount on time."
   ]
  },
  {
   "cell_type": "markdown",
   "id": "7ec990f6",
   "metadata": {},
   "source": [
    "### Possible causes of gaps in the source data"
   ]
  },
  {
   "cell_type": "markdown",
   "id": "860216b5",
   "metadata": {},
   "source": [
    "In the source data, gaps occur in the `days_employed` and `total_income` columns. Moreover, they are located in the same lines, and their numbers are equal.\n",
    "- The most likely reason for their existence is the fact that the borrower does not have any work experience, and hence wages. To do this, let's check if there are rows in the dataset in which the value `0` occurs in the mentioned columns."
   ]
  },
  {
   "cell_type": "code",
   "execution_count": 33,
   "id": "ff5c88c4",
   "metadata": {},
   "outputs": [
    {
     "data": {
      "text/plain": [
       "0"
      ]
     },
     "execution_count": 33,
     "metadata": {},
     "output_type": "execute_result"
    }
   ],
   "source": [
    "data[data.total_income == 0]['total_income'].sum()"
   ]
  },
  {
   "cell_type": "code",
   "execution_count": 34,
   "id": "e49db409",
   "metadata": {},
   "outputs": [
    {
     "data": {
      "text/plain": [
       "0.0"
      ]
     },
     "execution_count": 34,
     "metadata": {},
     "output_type": "execute_result"
    }
   ],
   "source": [
    "data[data.days_employed == 0]['days_employed'].sum()"
   ]
  },
  {
   "cell_type": "markdown",
   "id": "0b23d857",
   "metadata": {},
   "source": [
    "Neither the `days_employed` column nor the `total_income` column has values ​​equal to zero. That is, most likely, for borrowers who never worked, this data was simply not entered.\n",
    "- There is no connection between the gaps and the values ​​of other columns - the lack of information about wages and length of service is found in all categories of citizens.\n",
    "- Also, with a high degree of probability, it can be argued that there was a technical error in the formation of the table with the initial data (either some kind of failure during uploading the data for analysis, or when combining the data into a single file, which should also have been sent for analysis)."
   ]
  },
  {
   "cell_type": "markdown",
   "id": "88a417ed",
   "metadata": {},
   "source": [
    "## General conclusion"
   ]
  },
  {
   "cell_type": "markdown",
   "id": "afaf33a0",
   "metadata": {
    "deletable": false,
    "id": "bad65432"
   },
   "source": [
    "**Based on the study, it can be argued that the loan repayment on time is affected by the number of children of the borrower, his income level, marital status, as well as the very purpose for which the money is taken.**\n",
    "\n",
    "To understand the maximum spread of probabilities of not receiving money from the borrower on time, we calculate the indicators of untimely repayment of borrowed funds for the most reliable and unreliable categories of citizens from the point of view of the lender.\n",
    "\n",
    "So, you can make a \"portrait\" of the most conscientious borrower:\n",
    "- a person without children,\n",
    "- widower / widow,\n",
    "- earns from 30 to 50 thousand roubles,\n",
    "- Takes out a loan for real estate transactions."
   ]
  },
  {
   "cell_type": "code",
   "execution_count": 35,
   "id": "00af093c",
   "metadata": {
    "deletable": false,
    "id": "bad65432"
   },
   "outputs": [
    {
     "data": {
      "text/plain": [
       "11"
      ]
     },
     "execution_count": 35,
     "metadata": {},
     "output_type": "execute_result"
    }
   ],
   "source": [
    "#Select rows that match all parameters\n",
    "data_best = data[data.children_category == 0]\n",
    "data_best = data_best[data_best.family_status_id == 2]\n",
    "data_best = data_best[data_best.total_income_category == 'D']\n",
    "data_best = data_best[data_best.purpose_category == 'операции с недвижимостью']\n",
    "\n",
    "#Display the number of borrowers that fit the selected criteria\n",
    "data_best.debt.count()"
   ]
  },
  {
   "cell_type": "markdown",
   "id": "2143c619",
   "metadata": {},
   "source": [
    "Of the entire data set, only 11 people fit the proposed parameters, which is 0.05% of the total number of borrowers, so no conclusions should be drawn based on this sample.\\\n",
    "Let's try to remove one of the parameters. We choose the one that cuts off the largest number of people."
   ]
  },
  {
   "cell_type": "code",
   "execution_count": 36,
   "id": "5a924f5a",
   "metadata": {},
   "outputs": [
    {
     "data": {
      "text/plain": [
       "children_category\n",
       "0    14091\n",
       "1     6860\n",
       "2      380\n",
       "Name: children_category, dtype: int64"
      ]
     },
     "execution_count": 36,
     "metadata": {},
     "output_type": "execute_result"
    }
   ],
   "source": [
    "data.groupby('children_category')['children_category'].count()"
   ]
  },
  {
   "cell_type": "code",
   "execution_count": 37,
   "id": "d1d5801a",
   "metadata": {},
   "outputs": [
    {
     "data": {
      "text/plain": [
       "family_status_id\n",
       "0    12261\n",
       "1     4134\n",
       "2      951\n",
       "3     1189\n",
       "4     2796\n",
       "Name: family_status_id, dtype: int64"
      ]
     },
     "execution_count": 37,
     "metadata": {},
     "output_type": "execute_result"
    }
   ],
   "source": [
    "data.groupby('family_status_id')['family_status_id'].count()"
   ]
  },
  {
   "cell_type": "code",
   "execution_count": 38,
   "id": "f83b92cc",
   "metadata": {},
   "outputs": [
    {
     "data": {
      "text/plain": [
       "total_income_category\n",
       "A       25\n",
       "B     5014\n",
       "C    15921\n",
       "D      349\n",
       "E       22\n",
       "Name: total_income_category, dtype: int64"
      ]
     },
     "execution_count": 38,
     "metadata": {},
     "output_type": "execute_result"
    }
   ],
   "source": [
    "data.groupby('total_income_category')['total_income_category'].count()"
   ]
  },
  {
   "cell_type": "code",
   "execution_count": 39,
   "id": "2996cf41",
   "metadata": {},
   "outputs": [
    {
     "data": {
      "text/plain": [
       "purpose_category\n",
       "операции с автомобилем       4279\n",
       "операции с недвижимостью    10751\n",
       "получение образования        3988\n",
       "проведение свадьбы           2313\n",
       "Name: purpose_category, dtype: int64"
      ]
     },
     "execution_count": 39,
     "metadata": {},
     "output_type": "execute_result"
    }
   ],
   "source": [
    "data.groupby('purpose_category')['purpose_category'].count()"
   ]
  },
  {
   "cell_type": "markdown",
   "id": "9fa708dc",
   "metadata": {},
   "source": [
    "We see that of the parameters of interest to us, the income category `D` cuts off the most lines. Let's remove it and see how many people fall under the new filter."
   ]
  },
  {
   "cell_type": "code",
   "execution_count": 40,
   "id": "5eca2c73",
   "metadata": {},
   "outputs": [
    {
     "data": {
      "text/plain": [
       "470"
      ]
     },
     "execution_count": 40,
     "metadata": {},
     "output_type": "execute_result"
    }
   ],
   "source": [
    "#Select rows that match all parameters\n",
    "data_best = data[data.children_category == 0]\n",
    "data_best = data_best[data_best.family_status_id == 2]\n",
    "data_best = data_best[data_best.purpose_category == 'операции с недвижимостью']\n",
    "\n",
    "#Display the number of borrowers that fit the selected criteria\n",
    "data_best.debt.count()"
   ]
  },
  {
   "cell_type": "markdown",
   "id": "a951b0ad",
   "metadata": {},
   "source": [
    "The sample consists of 470 people, i.e. 2.2% of the total. Let's look at the percentage of non-return on time among people who meet all these parameters."
   ]
  },
  {
   "cell_type": "code",
   "execution_count": 41,
   "id": "573528fe",
   "metadata": {},
   "outputs": [
    {
     "data": {
      "text/plain": [
       "0.04680851063829787"
      ]
     },
     "execution_count": 41,
     "metadata": {},
     "output_type": "execute_result"
    }
   ],
   "source": [
    "data_best.debt.sum() / data_best.debt.count()"
   ]
  },
  {
   "cell_type": "markdown",
   "id": "2f8ccb90",
   "metadata": {},
   "source": [
    "For this sample, the percentage of non-repaid loans was only 4.7%.\n",
    "\n",
    "Let's see what result the most \"unreliable\" category of citizens will have. Let's make their \"portrait\":\n",
    "- 1-2 children,\n",
    "- unmarried\n",
    "- income up to 30 thousand roubles per month,\n",
    "- purpose: car operations.\n",
    "\n",
    "Based on previous experience, we will immediately consider which parameters cut off the sample as much as possible. It turns out that this is an income category `E`, that is, up to 30k rub.\\\n",
    "You can not get rid of this filter, but change the category to `C` (people with monthly income from 50k to 200k rub.), since the percentage of overdue loan payments for these two categories is close (9.1% versus 8.5%, respectively). Then the new set of parameters will be as follows:\n",
    "- 1-2 children,\n",
    "- unmarried / unmarried\n",
    "- income from 50 to 200 thousand roubles per month,\n",
    "- purpose: car operations."
   ]
  },
  {
   "cell_type": "code",
   "execution_count": 42,
   "id": "3005e3dd",
   "metadata": {},
   "outputs": [
    {
     "data": {
      "text/plain": [
       "89"
      ]
     },
     "execution_count": 42,
     "metadata": {},
     "output_type": "execute_result"
    }
   ],
   "source": [
    "#Select rows that match all parameters\n",
    "data_worst = data[data.children_category == 1]\n",
    "data_worst = data_worst[data_worst.family_status_id == 4]\n",
    "data_worst = data_worst[data_worst.total_income_category == 'C']\n",
    "data_worst = data_worst[data_worst.purpose_category == 'операции с автомобилем']\n",
    "\n",
    "#Display the number of borrowers that fit the selected criteria\n",
    "data_worst.debt.count()"
   ]
  },
  {
   "cell_type": "markdown",
   "id": "ac1fe468",
   "metadata": {},
   "source": [
    "The sample is still too small - only 0.4% of borrowers are represented in it. Nevertheless, we calculate the percentage of delays:"
   ]
  },
  {
   "cell_type": "code",
   "execution_count": 43,
   "id": "4c17840e",
   "metadata": {},
   "outputs": [
    {
     "data": {
      "text/plain": [
       "0.1797752808988764"
      ]
     },
     "execution_count": 43,
     "metadata": {},
     "output_type": "execute_result"
    }
   ],
   "source": [
    "data_worst.debt.sum() / data_worst.debt.count()"
   ]
  },
  {
   "cell_type": "markdown",
   "id": "2adf1bf9",
   "metadata": {},
   "source": [
    "**Thus, in addition to the main conclusion that such parameters as the number of children, income level, marital status of the borrower and the purpose of the loan affect its repayment on time, some additional remarks can be made.**\n",
    "\n",
    "Although when considering the \"portraits\" of citizens, the most reliable and unreliable from the point of view of the creditor, the samples were not representative enough to draw unambiguous conclusions, there is undoubtedly ground for further research.\n",
    "\n",
    "**According to the few available data, it can be seen that a well-designed credit scoring model will allow avoiding significant risks when making positive decisions on issuing a loan.\\\n",
    "Thus, for a borrower that falls under the description of \"unreliable\", the probability of default on the loan is as much as 3.8 times greater than for one whom we have defined as \"reliable\".**"
   ]
  },
  {
   "cell_type": "code",
   "execution_count": null,
   "id": "40edc137",
   "metadata": {},
   "outputs": [],
   "source": []
  }
 ],
 "metadata": {
  "kernelspec": {
   "display_name": "Python 3 (ipykernel)",
   "language": "python",
   "name": "python3"
  },
  "language_info": {
   "codemirror_mode": {
    "name": "ipython",
    "version": 3
   },
   "file_extension": ".py",
   "mimetype": "text/x-python",
   "name": "python",
   "nbconvert_exporter": "python",
   "pygments_lexer": "ipython3",
   "version": "3.10.6"
  },
  "toc": {
   "base_numbering": 1,
   "nav_menu": {},
   "number_sections": true,
   "sideBar": true,
   "skip_h1_title": true,
   "title_cell": "Содержание",
   "title_sidebar": "Содержание",
   "toc_cell": false,
   "toc_position": {},
   "toc_section_display": true,
   "toc_window_display": false
  }
 },
 "nbformat": 4,
 "nbformat_minor": 5
}
