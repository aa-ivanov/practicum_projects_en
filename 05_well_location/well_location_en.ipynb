{
 "cells": [
  {
   "cell_type": "markdown",
   "metadata": {},
   "source": [
    "# Well location selection"
   ]
  },
  {
   "cell_type": "markdown",
   "metadata": {},
   "source": [
    "The oil producing company GlavRosGosNeft needs to decide where to drill a new well.\n",
    "\n",
    "We were provided with oil samples in three regions: in each 100,000 deposits, where we measured the quality of oil and the volume of its reserves. Let's build a machine learning model that will help determine the region where oil production will bring the most profit. Let's analyze the possible profit and risks using the *Bootstrap.* technique.\n",
    "\n",
    "Steps to choose a location:\n",
    "\n",
    "- Determine feature values of each deposit in the selected region;\n",
    "- Build a model and estimate the volume of reserves;\n",
    "- Select the deposits with the highest value estimates. The number of fields depends on the company's budget and the cost of developing one well;\n",
    "- The profit is equal to the total profit of the selected fields."
   ]
  },
  {
   "cell_type": "markdown",
   "metadata": {},
   "source": [
    "## Data preparation"
   ]
  },
  {
   "cell_type": "code",
   "execution_count": 1,
   "metadata": {},
   "outputs": [],
   "source": [
    "import pandas as pd\n",
    "import numpy as np\n",
    "import matplotlib.pyplot as plt\n",
    "import seaborn as sns\n",
    "from sklearn.model_selection import train_test_split\n",
    "from sklearn.preprocessing import StandardScaler\n",
    "from sklearn.linear_model import LinearRegression\n",
    "from sklearn.metrics import mean_squared_error as mse\n",
    "\n",
    "sns.set(style=\"darkgrid\")"
   ]
  },
  {
   "cell_type": "code",
   "execution_count": 2,
   "metadata": {},
   "outputs": [],
   "source": [
    "region_1 = pd.read_csv('geo_data_0.csv')\n",
    "region_2 = pd.read_csv('geo_data_1.csv')\n",
    "region_3 = pd.read_csv('geo_data_2.csv')"
   ]
  },
  {
   "cell_type": "markdown",
   "metadata": {},
   "source": [
    "### General information"
   ]
  },
  {
   "cell_type": "markdown",
   "metadata": {},
   "source": [
    "Let's study the quality of the provided exploration data in three regions, and also consider the distributions of the measured values."
   ]
  },
  {
   "cell_type": "code",
   "execution_count": 3,
   "metadata": {},
   "outputs": [],
   "source": [
    "def dataset_info(dataset):\n",
    "    pd.set_option('display.max_columns', None)\n",
    "    print('\\033[1m' + 'GENERAL INFORMATION:' + '\\033[0m', end='\\n\\n')\n",
    "    dataset.info()\n",
    "    display(dataset.describe())\n",
    "    print()\n",
    "    print('\\033[1m' + 'FIRST 10 ROWS:' + '\\033[0m')\n",
    "    display(dataset.head(10))\n",
    "    print()\n",
    "    print('\\033[1m' + 'DUPLICATES:' + '\\033[0m', \n",
    "          dataset.duplicated().sum(), end='\\n\\n')\n",
    "    print('\\033[1m' + 'MISSING VALUES BY COLUMNS:' + '\\033[0m', \n",
    "          dataset.isna().sum(), sep='\\n\\n', end='\\n\\n')\n",
    "    print('\\033[1m' + 'VALUES DISTRIBUTION BY COLUMNS:' + '\\033[0m')\n",
    "    dataset.hist(figsize=(15, 20), bins=20);"
   ]
  },
  {
   "cell_type": "markdown",
   "metadata": {},
   "source": [
    "#### Region 1"
   ]
  },
  {
   "cell_type": "code",
   "execution_count": 4,
   "metadata": {
    "scrolled": false
   },
   "outputs": [
    {
     "name": "stdout",
     "output_type": "stream",
     "text": [
      "\u001b[1mGENERAL INFORMATION:\u001b[0m\n",
      "\n",
      "<class 'pandas.core.frame.DataFrame'>\n",
      "RangeIndex: 100000 entries, 0 to 99999\n",
      "Data columns (total 5 columns):\n",
      " #   Column   Non-Null Count   Dtype  \n",
      "---  ------   --------------   -----  \n",
      " 0   id       100000 non-null  object \n",
      " 1   f0       100000 non-null  float64\n",
      " 2   f1       100000 non-null  float64\n",
      " 3   f2       100000 non-null  float64\n",
      " 4   product  100000 non-null  float64\n",
      "dtypes: float64(4), object(1)\n",
      "memory usage: 3.8+ MB\n"
     ]
    },
    {
     "data": {
      "text/html": [
       "<div>\n",
       "<style scoped>\n",
       "    .dataframe tbody tr th:only-of-type {\n",
       "        vertical-align: middle;\n",
       "    }\n",
       "\n",
       "    .dataframe tbody tr th {\n",
       "        vertical-align: top;\n",
       "    }\n",
       "\n",
       "    .dataframe thead th {\n",
       "        text-align: right;\n",
       "    }\n",
       "</style>\n",
       "<table border=\"1\" class=\"dataframe\">\n",
       "  <thead>\n",
       "    <tr style=\"text-align: right;\">\n",
       "      <th></th>\n",
       "      <th>f0</th>\n",
       "      <th>f1</th>\n",
       "      <th>f2</th>\n",
       "      <th>product</th>\n",
       "    </tr>\n",
       "  </thead>\n",
       "  <tbody>\n",
       "    <tr>\n",
       "      <th>count</th>\n",
       "      <td>100000.000000</td>\n",
       "      <td>100000.000000</td>\n",
       "      <td>100000.000000</td>\n",
       "      <td>100000.000000</td>\n",
       "    </tr>\n",
       "    <tr>\n",
       "      <th>mean</th>\n",
       "      <td>0.500419</td>\n",
       "      <td>0.250143</td>\n",
       "      <td>2.502647</td>\n",
       "      <td>92.500000</td>\n",
       "    </tr>\n",
       "    <tr>\n",
       "      <th>std</th>\n",
       "      <td>0.871832</td>\n",
       "      <td>0.504433</td>\n",
       "      <td>3.248248</td>\n",
       "      <td>44.288691</td>\n",
       "    </tr>\n",
       "    <tr>\n",
       "      <th>min</th>\n",
       "      <td>-1.408605</td>\n",
       "      <td>-0.848218</td>\n",
       "      <td>-12.088328</td>\n",
       "      <td>0.000000</td>\n",
       "    </tr>\n",
       "    <tr>\n",
       "      <th>25%</th>\n",
       "      <td>-0.072580</td>\n",
       "      <td>-0.200881</td>\n",
       "      <td>0.287748</td>\n",
       "      <td>56.497507</td>\n",
       "    </tr>\n",
       "    <tr>\n",
       "      <th>50%</th>\n",
       "      <td>0.502360</td>\n",
       "      <td>0.250252</td>\n",
       "      <td>2.515969</td>\n",
       "      <td>91.849972</td>\n",
       "    </tr>\n",
       "    <tr>\n",
       "      <th>75%</th>\n",
       "      <td>1.073581</td>\n",
       "      <td>0.700646</td>\n",
       "      <td>4.715088</td>\n",
       "      <td>128.564089</td>\n",
       "    </tr>\n",
       "    <tr>\n",
       "      <th>max</th>\n",
       "      <td>2.362331</td>\n",
       "      <td>1.343769</td>\n",
       "      <td>16.003790</td>\n",
       "      <td>185.364347</td>\n",
       "    </tr>\n",
       "  </tbody>\n",
       "</table>\n",
       "</div>"
      ],
      "text/plain": [
       "                  f0             f1             f2        product\n",
       "count  100000.000000  100000.000000  100000.000000  100000.000000\n",
       "mean        0.500419       0.250143       2.502647      92.500000\n",
       "std         0.871832       0.504433       3.248248      44.288691\n",
       "min        -1.408605      -0.848218     -12.088328       0.000000\n",
       "25%        -0.072580      -0.200881       0.287748      56.497507\n",
       "50%         0.502360       0.250252       2.515969      91.849972\n",
       "75%         1.073581       0.700646       4.715088     128.564089\n",
       "max         2.362331       1.343769      16.003790     185.364347"
      ]
     },
     "metadata": {},
     "output_type": "display_data"
    },
    {
     "name": "stdout",
     "output_type": "stream",
     "text": [
      "\n",
      "\u001b[1mFIRST 10 ROWS:\u001b[0m\n"
     ]
    },
    {
     "data": {
      "text/html": [
       "<div>\n",
       "<style scoped>\n",
       "    .dataframe tbody tr th:only-of-type {\n",
       "        vertical-align: middle;\n",
       "    }\n",
       "\n",
       "    .dataframe tbody tr th {\n",
       "        vertical-align: top;\n",
       "    }\n",
       "\n",
       "    .dataframe thead th {\n",
       "        text-align: right;\n",
       "    }\n",
       "</style>\n",
       "<table border=\"1\" class=\"dataframe\">\n",
       "  <thead>\n",
       "    <tr style=\"text-align: right;\">\n",
       "      <th></th>\n",
       "      <th>id</th>\n",
       "      <th>f0</th>\n",
       "      <th>f1</th>\n",
       "      <th>f2</th>\n",
       "      <th>product</th>\n",
       "    </tr>\n",
       "  </thead>\n",
       "  <tbody>\n",
       "    <tr>\n",
       "      <th>0</th>\n",
       "      <td>txEyH</td>\n",
       "      <td>0.705745</td>\n",
       "      <td>-0.497823</td>\n",
       "      <td>1.221170</td>\n",
       "      <td>105.280062</td>\n",
       "    </tr>\n",
       "    <tr>\n",
       "      <th>1</th>\n",
       "      <td>2acmU</td>\n",
       "      <td>1.334711</td>\n",
       "      <td>-0.340164</td>\n",
       "      <td>4.365080</td>\n",
       "      <td>73.037750</td>\n",
       "    </tr>\n",
       "    <tr>\n",
       "      <th>2</th>\n",
       "      <td>409Wp</td>\n",
       "      <td>1.022732</td>\n",
       "      <td>0.151990</td>\n",
       "      <td>1.419926</td>\n",
       "      <td>85.265647</td>\n",
       "    </tr>\n",
       "    <tr>\n",
       "      <th>3</th>\n",
       "      <td>iJLyR</td>\n",
       "      <td>-0.032172</td>\n",
       "      <td>0.139033</td>\n",
       "      <td>2.978566</td>\n",
       "      <td>168.620776</td>\n",
       "    </tr>\n",
       "    <tr>\n",
       "      <th>4</th>\n",
       "      <td>Xdl7t</td>\n",
       "      <td>1.988431</td>\n",
       "      <td>0.155413</td>\n",
       "      <td>4.751769</td>\n",
       "      <td>154.036647</td>\n",
       "    </tr>\n",
       "    <tr>\n",
       "      <th>5</th>\n",
       "      <td>wX4Hy</td>\n",
       "      <td>0.969570</td>\n",
       "      <td>0.489775</td>\n",
       "      <td>-0.735383</td>\n",
       "      <td>64.741541</td>\n",
       "    </tr>\n",
       "    <tr>\n",
       "      <th>6</th>\n",
       "      <td>tL6pL</td>\n",
       "      <td>0.645075</td>\n",
       "      <td>0.530656</td>\n",
       "      <td>1.780266</td>\n",
       "      <td>49.055285</td>\n",
       "    </tr>\n",
       "    <tr>\n",
       "      <th>7</th>\n",
       "      <td>BYPU6</td>\n",
       "      <td>-0.400648</td>\n",
       "      <td>0.808337</td>\n",
       "      <td>-5.624670</td>\n",
       "      <td>72.943292</td>\n",
       "    </tr>\n",
       "    <tr>\n",
       "      <th>8</th>\n",
       "      <td>j9Oui</td>\n",
       "      <td>0.643105</td>\n",
       "      <td>-0.551583</td>\n",
       "      <td>2.372141</td>\n",
       "      <td>113.356160</td>\n",
       "    </tr>\n",
       "    <tr>\n",
       "      <th>9</th>\n",
       "      <td>OLuZU</td>\n",
       "      <td>2.173381</td>\n",
       "      <td>0.563698</td>\n",
       "      <td>9.441852</td>\n",
       "      <td>127.910945</td>\n",
       "    </tr>\n",
       "  </tbody>\n",
       "</table>\n",
       "</div>"
      ],
      "text/plain": [
       "      id        f0        f1        f2     product\n",
       "0  txEyH  0.705745 -0.497823  1.221170  105.280062\n",
       "1  2acmU  1.334711 -0.340164  4.365080   73.037750\n",
       "2  409Wp  1.022732  0.151990  1.419926   85.265647\n",
       "3  iJLyR -0.032172  0.139033  2.978566  168.620776\n",
       "4  Xdl7t  1.988431  0.155413  4.751769  154.036647\n",
       "5  wX4Hy  0.969570  0.489775 -0.735383   64.741541\n",
       "6  tL6pL  0.645075  0.530656  1.780266   49.055285\n",
       "7  BYPU6 -0.400648  0.808337 -5.624670   72.943292\n",
       "8  j9Oui  0.643105 -0.551583  2.372141  113.356160\n",
       "9  OLuZU  2.173381  0.563698  9.441852  127.910945"
      ]
     },
     "metadata": {},
     "output_type": "display_data"
    },
    {
     "name": "stdout",
     "output_type": "stream",
     "text": [
      "\n",
      "\u001b[1mDUPLICATES:\u001b[0m 0\n",
      "\n",
      "\u001b[1mMISSING VALUES BY COLUMNS:\u001b[0m\n",
      "\n",
      "id         0\n",
      "f0         0\n",
      "f1         0\n",
      "f2         0\n",
      "product    0\n",
      "dtype: int64\n",
      "\n",
      "\u001b[1mVALUES DISTRIBUTION BY COLUMNS:\u001b[0m\n"
     ]
    },
    {
     "data": {
      "image/png": "[encoded data removed]",
      "text/plain": [
       "<Figure size 1500x2000 with 4 Axes>"
      ]
     },
     "metadata": {},
     "output_type": "display_data"
    }
   ],
   "source": [
    "dataset_info(region_1)"
   ]
  },
  {
   "cell_type": "markdown",
   "metadata": {},
   "source": [
    "- There are no gaps in the data.\n",
    "- There are no complete duplicates.\n",
    "- The distributions of all features look relatively normal.\n",
    "- It is interesting to study the characteristics of the well(s) with zero reserves. Are these depleted deposits or errors in the data?\n",
    "\n",
    "However, the first step is to change the name of the `product` feature in all three datasets so that the column can be accessed as follows: *data.column_name*. Since *product* is the name of a function, this method is not applicable to call a column, which creates some inconvenience."
   ]
  },
  {
   "cell_type": "code",
   "execution_count": 5,
   "metadata": {},
   "outputs": [],
   "source": [
    "region_1.rename(columns={'product': 'well_product'}, inplace=True)\n",
    "region_2.rename(columns={'product': 'well_product'}, inplace=True)\n",
    "region_3.rename(columns={'product': 'well_product'}, inplace=True)"
   ]
  },
  {
   "cell_type": "markdown",
   "metadata": {},
   "source": [
    "Let's study the number of unique wells."
   ]
  },
  {
   "cell_type": "code",
   "execution_count": 6,
   "metadata": {},
   "outputs": [
    {
     "data": {
      "text/plain": [
       "99990"
      ]
     },
     "execution_count": 6,
     "metadata": {},
     "output_type": "execute_result"
    }
   ],
   "source": [
    "len(region_1.id.unique())"
   ]
  },
  {
   "cell_type": "code",
   "execution_count": 7,
   "metadata": {
    "scrolled": false
   },
   "outputs": [
    {
     "data": {
      "text/plain": [
       "fiKDv    2\n",
       "QcMuo    2\n",
       "AGS9W    2\n",
       "Tdehs    2\n",
       "74z30    2\n",
       "A5aEY    2\n",
       "bsk9y    2\n",
       "TtcGQ    2\n",
       "HZww2    2\n",
       "bxg6G    2\n",
       "Name: id, dtype: int64"
      ]
     },
     "execution_count": 7,
     "metadata": {},
     "output_type": "execute_result"
    }
   ],
   "source": [
    "region_1.id.value_counts().head(10)"
   ]
  },
  {
   "cell_type": "code",
   "execution_count": 8,
   "metadata": {
    "scrolled": true
   },
   "outputs": [
    {
     "data": {
      "text/html": [
       "<div>\n",
       "<style scoped>\n",
       "    .dataframe tbody tr th:only-of-type {\n",
       "        vertical-align: middle;\n",
       "    }\n",
       "\n",
       "    .dataframe tbody tr th {\n",
       "        vertical-align: top;\n",
       "    }\n",
       "\n",
       "    .dataframe thead th {\n",
       "        text-align: right;\n",
       "    }\n",
       "</style>\n",
       "<table border=\"1\" class=\"dataframe\">\n",
       "  <thead>\n",
       "    <tr style=\"text-align: right;\">\n",
       "      <th></th>\n",
       "      <th>id</th>\n",
       "      <th>f0</th>\n",
       "      <th>f1</th>\n",
       "      <th>f2</th>\n",
       "      <th>well_product</th>\n",
       "    </tr>\n",
       "  </thead>\n",
       "  <tbody>\n",
       "    <tr>\n",
       "      <th>60140</th>\n",
       "      <td>TtcGQ</td>\n",
       "      <td>0.569276</td>\n",
       "      <td>-0.104876</td>\n",
       "      <td>6.440215</td>\n",
       "      <td>85.350186</td>\n",
       "    </tr>\n",
       "    <tr>\n",
       "      <th>92341</th>\n",
       "      <td>TtcGQ</td>\n",
       "      <td>0.110711</td>\n",
       "      <td>1.022689</td>\n",
       "      <td>0.911381</td>\n",
       "      <td>101.318008</td>\n",
       "    </tr>\n",
       "  </tbody>\n",
       "</table>\n",
       "</div>"
      ],
      "text/plain": [
       "          id        f0        f1        f2  well_product\n",
       "60140  TtcGQ  0.569276 -0.104876  6.440215     85.350186\n",
       "92341  TtcGQ  0.110711  1.022689  0.911381    101.318008"
      ]
     },
     "execution_count": 8,
     "metadata": {},
     "output_type": "execute_result"
    }
   ],
   "source": [
    "region_1[region_1.id == 'TtcGQ']"
   ]
  },
  {
   "cell_type": "markdown",
   "metadata": {},
   "source": [
    "It turns out that, with the exception of 10 wells, for which geological exploration was carried out twice, all other wells are unique. Let's get rid of duplicates, leaving the average values of features."
   ]
  },
  {
   "cell_type": "code",
   "execution_count": 9,
   "metadata": {},
   "outputs": [],
   "source": [
    "for well_id in region_1.id.value_counts().head(10).index:\n",
    "    region_1.loc[region_1.id == well_id, ['f0', 'f1', 'f2', 'well_product']] = \\\n",
    "        region_1[region_1.id == well_id].mean(axis=0, numeric_only=True).values\n",
    "    \n",
    "region_1.drop_duplicates(subset='id', keep='first', inplace=True)"
   ]
  },
  {
   "cell_type": "markdown",
   "metadata": {},
   "source": [
    "Consider a well(s) with zero reserves."
   ]
  },
  {
   "cell_type": "code",
   "execution_count": 10,
   "metadata": {
    "scrolled": true
   },
   "outputs": [
    {
     "data": {
      "text/html": [
       "<div>\n",
       "<style scoped>\n",
       "    .dataframe tbody tr th:only-of-type {\n",
       "        vertical-align: middle;\n",
       "    }\n",
       "\n",
       "    .dataframe tbody tr th {\n",
       "        vertical-align: top;\n",
       "    }\n",
       "\n",
       "    .dataframe thead th {\n",
       "        text-align: right;\n",
       "    }\n",
       "</style>\n",
       "<table border=\"1\" class=\"dataframe\">\n",
       "  <thead>\n",
       "    <tr style=\"text-align: right;\">\n",
       "      <th></th>\n",
       "      <th>id</th>\n",
       "      <th>f0</th>\n",
       "      <th>f1</th>\n",
       "      <th>f2</th>\n",
       "      <th>well_product</th>\n",
       "    </tr>\n",
       "  </thead>\n",
       "  <tbody>\n",
       "    <tr>\n",
       "      <th>57263</th>\n",
       "      <td>zCM5W</td>\n",
       "      <td>-0.702064</td>\n",
       "      <td>0.375992</td>\n",
       "      <td>0.236572</td>\n",
       "      <td>0.0</td>\n",
       "    </tr>\n",
       "  </tbody>\n",
       "</table>\n",
       "</div>"
      ],
      "text/plain": [
       "          id        f0        f1        f2  well_product\n",
       "57263  zCM5W -0.702064  0.375992  0.236572           0.0"
      ]
     },
     "execution_count": 10,
     "metadata": {},
     "output_type": "execute_result"
    }
   ],
   "source": [
    "region_1[region_1.well_product == 0]"
   ]
  },
  {
   "cell_type": "markdown",
   "metadata": {},
   "source": [
    "There is only one, and the values of the features are not zero. That is, most likely, geological exploration really discovered its complete lack of prospects."
   ]
  },
  {
   "cell_type": "markdown",
   "metadata": {},
   "source": [
    "#### Region 2"
   ]
  },
  {
   "cell_type": "code",
   "execution_count": 11,
   "metadata": {
    "scrolled": false
   },
   "outputs": [
    {
     "name": "stdout",
     "output_type": "stream",
     "text": [
      "\u001b[1mGENERAL INFORMATION:\u001b[0m\n",
      "\n",
      "<class 'pandas.core.frame.DataFrame'>\n",
      "RangeIndex: 100000 entries, 0 to 99999\n",
      "Data columns (total 5 columns):\n",
      " #   Column        Non-Null Count   Dtype  \n",
      "---  ------        --------------   -----  \n",
      " 0   id            100000 non-null  object \n",
      " 1   f0            100000 non-null  float64\n",
      " 2   f1            100000 non-null  float64\n",
      " 3   f2            100000 non-null  float64\n",
      " 4   well_product  100000 non-null  float64\n",
      "dtypes: float64(4), object(1)\n",
      "memory usage: 3.8+ MB\n"
     ]
    },
    {
     "data": {
      "text/html": [
       "<div>\n",
       "<style scoped>\n",
       "    .dataframe tbody tr th:only-of-type {\n",
       "        vertical-align: middle;\n",
       "    }\n",
       "\n",
       "    .dataframe tbody tr th {\n",
       "        vertical-align: top;\n",
       "    }\n",
       "\n",
       "    .dataframe thead th {\n",
       "        text-align: right;\n",
       "    }\n",
       "</style>\n",
       "<table border=\"1\" class=\"dataframe\">\n",
       "  <thead>\n",
       "    <tr style=\"text-align: right;\">\n",
       "      <th></th>\n",
       "      <th>f0</th>\n",
       "      <th>f1</th>\n",
       "      <th>f2</th>\n",
       "      <th>well_product</th>\n",
       "    </tr>\n",
       "  </thead>\n",
       "  <tbody>\n",
       "    <tr>\n",
       "      <th>count</th>\n",
       "      <td>100000.000000</td>\n",
       "      <td>100000.000000</td>\n",
       "      <td>100000.000000</td>\n",
       "      <td>100000.000000</td>\n",
       "    </tr>\n",
       "    <tr>\n",
       "      <th>mean</th>\n",
       "      <td>1.141296</td>\n",
       "      <td>-4.796579</td>\n",
       "      <td>2.494541</td>\n",
       "      <td>68.825000</td>\n",
       "    </tr>\n",
       "    <tr>\n",
       "      <th>std</th>\n",
       "      <td>8.965932</td>\n",
       "      <td>5.119872</td>\n",
       "      <td>1.703572</td>\n",
       "      <td>45.944423</td>\n",
       "    </tr>\n",
       "    <tr>\n",
       "      <th>min</th>\n",
       "      <td>-31.609576</td>\n",
       "      <td>-26.358598</td>\n",
       "      <td>-0.018144</td>\n",
       "      <td>0.000000</td>\n",
       "    </tr>\n",
       "    <tr>\n",
       "      <th>25%</th>\n",
       "      <td>-6.298551</td>\n",
       "      <td>-8.267985</td>\n",
       "      <td>1.000021</td>\n",
       "      <td>26.953261</td>\n",
       "    </tr>\n",
       "    <tr>\n",
       "      <th>50%</th>\n",
       "      <td>1.153055</td>\n",
       "      <td>-4.813172</td>\n",
       "      <td>2.011479</td>\n",
       "      <td>57.085625</td>\n",
       "    </tr>\n",
       "    <tr>\n",
       "      <th>75%</th>\n",
       "      <td>8.621015</td>\n",
       "      <td>-1.332816</td>\n",
       "      <td>3.999904</td>\n",
       "      <td>107.813044</td>\n",
       "    </tr>\n",
       "    <tr>\n",
       "      <th>max</th>\n",
       "      <td>29.421755</td>\n",
       "      <td>18.734063</td>\n",
       "      <td>5.019721</td>\n",
       "      <td>137.945408</td>\n",
       "    </tr>\n",
       "  </tbody>\n",
       "</table>\n",
       "</div>"
      ],
      "text/plain": [
       "                  f0             f1             f2   well_product\n",
       "count  100000.000000  100000.000000  100000.000000  100000.000000\n",
       "mean        1.141296      -4.796579       2.494541      68.825000\n",
       "std         8.965932       5.119872       1.703572      45.944423\n",
       "min       -31.609576     -26.358598      -0.018144       0.000000\n",
       "25%        -6.298551      -8.267985       1.000021      26.953261\n",
       "50%         1.153055      -4.813172       2.011479      57.085625\n",
       "75%         8.621015      -1.332816       3.999904     107.813044\n",
       "max        29.421755      18.734063       5.019721     137.945408"
      ]
     },
     "metadata": {},
     "output_type": "display_data"
    },
    {
     "name": "stdout",
     "output_type": "stream",
     "text": [
      "\n",
      "\u001b[1mFIRST 10 ROWS:\u001b[0m\n"
     ]
    },
    {
     "data": {
      "text/html": [
       "<div>\n",
       "<style scoped>\n",
       "    .dataframe tbody tr th:only-of-type {\n",
       "        vertical-align: middle;\n",
       "    }\n",
       "\n",
       "    .dataframe tbody tr th {\n",
       "        vertical-align: top;\n",
       "    }\n",
       "\n",
       "    .dataframe thead th {\n",
       "        text-align: right;\n",
       "    }\n",
       "</style>\n",
       "<table border=\"1\" class=\"dataframe\">\n",
       "  <thead>\n",
       "    <tr style=\"text-align: right;\">\n",
       "      <th></th>\n",
       "      <th>id</th>\n",
       "      <th>f0</th>\n",
       "      <th>f1</th>\n",
       "      <th>f2</th>\n",
       "      <th>well_product</th>\n",
       "    </tr>\n",
       "  </thead>\n",
       "  <tbody>\n",
       "    <tr>\n",
       "      <th>0</th>\n",
       "      <td>kBEdx</td>\n",
       "      <td>-15.001348</td>\n",
       "      <td>-8.276000</td>\n",
       "      <td>-0.005876</td>\n",
       "      <td>3.179103</td>\n",
       "    </tr>\n",
       "    <tr>\n",
       "      <th>1</th>\n",
       "      <td>62mP7</td>\n",
       "      <td>14.272088</td>\n",
       "      <td>-3.475083</td>\n",
       "      <td>0.999183</td>\n",
       "      <td>26.953261</td>\n",
       "    </tr>\n",
       "    <tr>\n",
       "      <th>2</th>\n",
       "      <td>vyE1P</td>\n",
       "      <td>6.263187</td>\n",
       "      <td>-5.948386</td>\n",
       "      <td>5.001160</td>\n",
       "      <td>134.766305</td>\n",
       "    </tr>\n",
       "    <tr>\n",
       "      <th>3</th>\n",
       "      <td>KcrkZ</td>\n",
       "      <td>-13.081196</td>\n",
       "      <td>-11.506057</td>\n",
       "      <td>4.999415</td>\n",
       "      <td>137.945408</td>\n",
       "    </tr>\n",
       "    <tr>\n",
       "      <th>4</th>\n",
       "      <td>AHL4O</td>\n",
       "      <td>12.702195</td>\n",
       "      <td>-8.147433</td>\n",
       "      <td>5.004363</td>\n",
       "      <td>134.766305</td>\n",
       "    </tr>\n",
       "    <tr>\n",
       "      <th>5</th>\n",
       "      <td>HHckp</td>\n",
       "      <td>-3.327590</td>\n",
       "      <td>-2.205276</td>\n",
       "      <td>3.003647</td>\n",
       "      <td>84.038886</td>\n",
       "    </tr>\n",
       "    <tr>\n",
       "      <th>6</th>\n",
       "      <td>h5Ujo</td>\n",
       "      <td>-11.142655</td>\n",
       "      <td>-10.133399</td>\n",
       "      <td>4.002382</td>\n",
       "      <td>110.992147</td>\n",
       "    </tr>\n",
       "    <tr>\n",
       "      <th>7</th>\n",
       "      <td>muH9x</td>\n",
       "      <td>4.234715</td>\n",
       "      <td>-0.001354</td>\n",
       "      <td>2.004588</td>\n",
       "      <td>53.906522</td>\n",
       "    </tr>\n",
       "    <tr>\n",
       "      <th>8</th>\n",
       "      <td>YiRkx</td>\n",
       "      <td>13.355129</td>\n",
       "      <td>-0.332068</td>\n",
       "      <td>4.998647</td>\n",
       "      <td>134.766305</td>\n",
       "    </tr>\n",
       "    <tr>\n",
       "      <th>9</th>\n",
       "      <td>jG6Gi</td>\n",
       "      <td>1.069227</td>\n",
       "      <td>-11.025667</td>\n",
       "      <td>4.997844</td>\n",
       "      <td>137.945408</td>\n",
       "    </tr>\n",
       "  </tbody>\n",
       "</table>\n",
       "</div>"
      ],
      "text/plain": [
       "      id         f0         f1        f2  well_product\n",
       "0  kBEdx -15.001348  -8.276000 -0.005876      3.179103\n",
       "1  62mP7  14.272088  -3.475083  0.999183     26.953261\n",
       "2  vyE1P   6.263187  -5.948386  5.001160    134.766305\n",
       "3  KcrkZ -13.081196 -11.506057  4.999415    137.945408\n",
       "4  AHL4O  12.702195  -8.147433  5.004363    134.766305\n",
       "5  HHckp  -3.327590  -2.205276  3.003647     84.038886\n",
       "6  h5Ujo -11.142655 -10.133399  4.002382    110.992147\n",
       "7  muH9x   4.234715  -0.001354  2.004588     53.906522\n",
       "8  YiRkx  13.355129  -0.332068  4.998647    134.766305\n",
       "9  jG6Gi   1.069227 -11.025667  4.997844    137.945408"
      ]
     },
     "metadata": {},
     "output_type": "display_data"
    },
    {
     "name": "stdout",
     "output_type": "stream",
     "text": [
      "\n",
      "\u001b[1mDUPLICATES:\u001b[0m 0\n",
      "\n",
      "\u001b[1mMISSING VALUES BY COLUMNS:\u001b[0m\n",
      "\n",
      "id              0\n",
      "f0              0\n",
      "f1              0\n",
      "f2              0\n",
      "well_product    0\n",
      "dtype: int64\n",
      "\n",
      "\u001b[1mVALUES DISTRIBUTION BY COLUMNS:\u001b[0m\n"
     ]
    },
    {
     "data": {
      "image/png": "[encoded data removed]",
      "text/plain": [
       "<Figure size 1500x2000 with 4 Axes>"
      ]
     },
     "metadata": {},
     "output_type": "display_data"
    }
   ],
   "source": [
    "dataset_info(region_2)"
   ]
  },
  {
   "cell_type": "markdown",
   "metadata": {},
   "source": [
    "- No complete duplicates and missing values.\n",
    "- The dataset is represented by 100 thousand lines.\n",
    "- The features `f2` and `well_product` are distributed extremely \"non-randomly\", we need to consider them in more detail."
   ]
  },
  {
   "cell_type": "code",
   "execution_count": 12,
   "metadata": {},
   "outputs": [
    {
     "data": {
      "text/plain": [
       "99996"
      ]
     },
     "execution_count": 12,
     "metadata": {},
     "output_type": "execute_result"
    }
   ],
   "source": [
    "len(region_2.id.unique())"
   ]
  },
  {
   "cell_type": "code",
   "execution_count": 13,
   "metadata": {
    "scrolled": true
   },
   "outputs": [
    {
     "data": {
      "text/plain": [
       "wt4Uk    2\n",
       "LHZR0    2\n",
       "5ltQ6    2\n",
       "bfPNe    2\n",
       "kBEdx    1\n",
       "Name: id, dtype: int64"
      ]
     },
     "execution_count": 13,
     "metadata": {},
     "output_type": "execute_result"
    }
   ],
   "source": [
    "region_2.id.value_counts().head()"
   ]
  },
  {
   "cell_type": "markdown",
   "metadata": {},
   "source": [
    "There are also several wells studied twice. We remove duplicates by writing the average of two measurements into the feature values."
   ]
  },
  {
   "cell_type": "code",
   "execution_count": 14,
   "metadata": {},
   "outputs": [],
   "source": [
    "for well_id in region_2.id.value_counts().head(4).index:\n",
    "    region_2.loc[region_2.id == well_id, ['f0', 'f1', 'f2', 'well_product']] = \\\n",
    "        region_2[region_2.id == well_id].mean(axis=0, numeric_only=True).values\n",
    "    \n",
    "region_2.drop_duplicates(subset='id', keep='first', inplace=True)"
   ]
  },
  {
   "cell_type": "markdown",
   "metadata": {},
   "source": [
    "Consider the distribution of feature values `f2` and `product`."
   ]
  },
  {
   "cell_type": "code",
   "execution_count": 15,
   "metadata": {},
   "outputs": [
    {
     "data": {
      "image/png": "[encoded data removed]",
      "text/plain": [
       "<Figure size 700x600 with 2 Axes>"
      ]
     },
     "metadata": {},
     "output_type": "display_data"
    }
   ],
   "source": [
    "fig, axs = plt.subplots(1, 2, figsize=(7, 6))\n",
    "fig.suptitle('Distribution of features f2 and well_product')\n",
    "sns.violinplot(ax=axs[0], data=region_2, y='f2', palette='Accent')\n",
    "sns.violinplot(ax=axs[1], data=region_2, y='well_product', palette='Pastel1')\n",
    "\n",
    "axs[0].set_title('f2')\n",
    "axs[0].set_ylabel('')\n",
    "axs[1].set_title('well_product')\n",
    "axs[1].set_ylabel('')\n",
    "\n",
    "plt.show()"
   ]
  },
  {
   "cell_type": "markdown",
   "metadata": {},
   "source": [
    "For both signs, 6 groups of objects are visible with clear boundaries between categories, evenly distributed along the axis of values of these signs. Moreover, the number of objects in groups approximately coincides, and there is an extremely strong positive correlation between the `f2` feature and the target."
   ]
  },
  {
   "cell_type": "code",
   "execution_count": 16,
   "metadata": {
    "scrolled": false
   },
   "outputs": [
    {
     "data": {
      "text/plain": [
       "0.99939697627093"
      ]
     },
     "execution_count": 16,
     "metadata": {},
     "output_type": "execute_result"
    }
   ],
   "source": [
    "region_2.f2.corr(region_2.well_product)"
   ]
  },
  {
   "cell_type": "markdown",
   "metadata": {},
   "source": [
    "With \"zero\" wells in the second region, the situation is more interesting. It is not alone, as in the case of region 1. There are as many as 8% of the total."
   ]
  },
  {
   "cell_type": "code",
   "execution_count": 17,
   "metadata": {
    "scrolled": false
   },
   "outputs": [
    {
     "data": {
      "text/plain": [
       "8235"
      ]
     },
     "execution_count": 17,
     "metadata": {},
     "output_type": "execute_result"
    }
   ],
   "source": [
    "len(region_2[region_2.well_product == 0])"
   ]
  },
  {
   "cell_type": "markdown",
   "metadata": {},
   "source": [
    "Let's see how the feature `f2` is distributed only for \"empty\" wells."
   ]
  },
  {
   "cell_type": "code",
   "execution_count": 18,
   "metadata": {
    "scrolled": false
   },
   "outputs": [
    {
     "data": {
      "image/png": "[encoded data removed]",
      "text/plain": [
       "<Figure size 400x600 with 1 Axes>"
      ]
     },
     "metadata": {},
     "output_type": "display_data"
    }
   ],
   "source": [
    "fig = plt.figure(figsize=(4, 6))\n",
    "fig.suptitle('Distribution of f2 feature for \"empty\" wells')\n",
    "sns.violinplot(data=region_2[region_2.well_product == 0], y='f2', palette='Accent')\n",
    "\n",
    "plt.show()"
   ]
  },
  {
   "cell_type": "markdown",
   "metadata": {},
   "source": [
    "For all of them, the value of the feature `f2` is zero with high accuracy."
   ]
  },
  {
   "cell_type": "markdown",
   "metadata": {},
   "source": [
    "#### Region 3"
   ]
  },
  {
   "cell_type": "code",
   "execution_count": 19,
   "metadata": {
    "scrolled": false
   },
   "outputs": [
    {
     "name": "stdout",
     "output_type": "stream",
     "text": [
      "\u001b[1mGENERAL INFORMATION:\u001b[0m\n",
      "\n",
      "<class 'pandas.core.frame.DataFrame'>\n",
      "RangeIndex: 100000 entries, 0 to 99999\n",
      "Data columns (total 5 columns):\n",
      " #   Column        Non-Null Count   Dtype  \n",
      "---  ------        --------------   -----  \n",
      " 0   id            100000 non-null  object \n",
      " 1   f0            100000 non-null  float64\n",
      " 2   f1            100000 non-null  float64\n",
      " 3   f2            100000 non-null  float64\n",
      " 4   well_product  100000 non-null  float64\n",
      "dtypes: float64(4), object(1)\n",
      "memory usage: 3.8+ MB\n"
     ]
    },
    {
     "data": {
      "text/html": [
       "<div>\n",
       "<style scoped>\n",
       "    .dataframe tbody tr th:only-of-type {\n",
       "        vertical-align: middle;\n",
       "    }\n",
       "\n",
       "    .dataframe tbody tr th {\n",
       "        vertical-align: top;\n",
       "    }\n",
       "\n",
       "    .dataframe thead th {\n",
       "        text-align: right;\n",
       "    }\n",
       "</style>\n",
       "<table border=\"1\" class=\"dataframe\">\n",
       "  <thead>\n",
       "    <tr style=\"text-align: right;\">\n",
       "      <th></th>\n",
       "      <th>f0</th>\n",
       "      <th>f1</th>\n",
       "      <th>f2</th>\n",
       "      <th>well_product</th>\n",
       "    </tr>\n",
       "  </thead>\n",
       "  <tbody>\n",
       "    <tr>\n",
       "      <th>count</th>\n",
       "      <td>100000.000000</td>\n",
       "      <td>100000.000000</td>\n",
       "      <td>100000.000000</td>\n",
       "      <td>100000.000000</td>\n",
       "    </tr>\n",
       "    <tr>\n",
       "      <th>mean</th>\n",
       "      <td>0.002023</td>\n",
       "      <td>-0.002081</td>\n",
       "      <td>2.495128</td>\n",
       "      <td>95.000000</td>\n",
       "    </tr>\n",
       "    <tr>\n",
       "      <th>std</th>\n",
       "      <td>1.732045</td>\n",
       "      <td>1.730417</td>\n",
       "      <td>3.473445</td>\n",
       "      <td>44.749921</td>\n",
       "    </tr>\n",
       "    <tr>\n",
       "      <th>min</th>\n",
       "      <td>-8.760004</td>\n",
       "      <td>-7.084020</td>\n",
       "      <td>-11.970335</td>\n",
       "      <td>0.000000</td>\n",
       "    </tr>\n",
       "    <tr>\n",
       "      <th>25%</th>\n",
       "      <td>-1.162288</td>\n",
       "      <td>-1.174820</td>\n",
       "      <td>0.130359</td>\n",
       "      <td>59.450441</td>\n",
       "    </tr>\n",
       "    <tr>\n",
       "      <th>50%</th>\n",
       "      <td>0.009424</td>\n",
       "      <td>-0.009482</td>\n",
       "      <td>2.484236</td>\n",
       "      <td>94.925613</td>\n",
       "    </tr>\n",
       "    <tr>\n",
       "      <th>75%</th>\n",
       "      <td>1.158535</td>\n",
       "      <td>1.163678</td>\n",
       "      <td>4.858794</td>\n",
       "      <td>130.595027</td>\n",
       "    </tr>\n",
       "    <tr>\n",
       "      <th>max</th>\n",
       "      <td>7.238262</td>\n",
       "      <td>7.844801</td>\n",
       "      <td>16.739402</td>\n",
       "      <td>190.029838</td>\n",
       "    </tr>\n",
       "  </tbody>\n",
       "</table>\n",
       "</div>"
      ],
      "text/plain": [
       "                  f0             f1             f2   well_product\n",
       "count  100000.000000  100000.000000  100000.000000  100000.000000\n",
       "mean        0.002023      -0.002081       2.495128      95.000000\n",
       "std         1.732045       1.730417       3.473445      44.749921\n",
       "min        -8.760004      -7.084020     -11.970335       0.000000\n",
       "25%        -1.162288      -1.174820       0.130359      59.450441\n",
       "50%         0.009424      -0.009482       2.484236      94.925613\n",
       "75%         1.158535       1.163678       4.858794     130.595027\n",
       "max         7.238262       7.844801      16.739402     190.029838"
      ]
     },
     "metadata": {},
     "output_type": "display_data"
    },
    {
     "name": "stdout",
     "output_type": "stream",
     "text": [
      "\n",
      "\u001b[1mFIRST 10 ROWS:\u001b[0m\n"
     ]
    },
    {
     "data": {
      "text/html": [
       "<div>\n",
       "<style scoped>\n",
       "    .dataframe tbody tr th:only-of-type {\n",
       "        vertical-align: middle;\n",
       "    }\n",
       "\n",
       "    .dataframe tbody tr th {\n",
       "        vertical-align: top;\n",
       "    }\n",
       "\n",
       "    .dataframe thead th {\n",
       "        text-align: right;\n",
       "    }\n",
       "</style>\n",
       "<table border=\"1\" class=\"dataframe\">\n",
       "  <thead>\n",
       "    <tr style=\"text-align: right;\">\n",
       "      <th></th>\n",
       "      <th>id</th>\n",
       "      <th>f0</th>\n",
       "      <th>f1</th>\n",
       "      <th>f2</th>\n",
       "      <th>well_product</th>\n",
       "    </tr>\n",
       "  </thead>\n",
       "  <tbody>\n",
       "    <tr>\n",
       "      <th>0</th>\n",
       "      <td>fwXo0</td>\n",
       "      <td>-1.146987</td>\n",
       "      <td>0.963328</td>\n",
       "      <td>-0.828965</td>\n",
       "      <td>27.758673</td>\n",
       "    </tr>\n",
       "    <tr>\n",
       "      <th>1</th>\n",
       "      <td>WJtFt</td>\n",
       "      <td>0.262778</td>\n",
       "      <td>0.269839</td>\n",
       "      <td>-2.530187</td>\n",
       "      <td>56.069697</td>\n",
       "    </tr>\n",
       "    <tr>\n",
       "      <th>2</th>\n",
       "      <td>ovLUW</td>\n",
       "      <td>0.194587</td>\n",
       "      <td>0.289035</td>\n",
       "      <td>-5.586433</td>\n",
       "      <td>62.871910</td>\n",
       "    </tr>\n",
       "    <tr>\n",
       "      <th>3</th>\n",
       "      <td>q6cA6</td>\n",
       "      <td>2.236060</td>\n",
       "      <td>-0.553760</td>\n",
       "      <td>0.930038</td>\n",
       "      <td>114.572842</td>\n",
       "    </tr>\n",
       "    <tr>\n",
       "      <th>4</th>\n",
       "      <td>WPMUX</td>\n",
       "      <td>-0.515993</td>\n",
       "      <td>1.716266</td>\n",
       "      <td>5.899011</td>\n",
       "      <td>149.600746</td>\n",
       "    </tr>\n",
       "    <tr>\n",
       "      <th>5</th>\n",
       "      <td>LzZXx</td>\n",
       "      <td>-0.758092</td>\n",
       "      <td>0.710691</td>\n",
       "      <td>2.585887</td>\n",
       "      <td>90.222465</td>\n",
       "    </tr>\n",
       "    <tr>\n",
       "      <th>6</th>\n",
       "      <td>WBHRv</td>\n",
       "      <td>-0.574891</td>\n",
       "      <td>0.317727</td>\n",
       "      <td>1.773745</td>\n",
       "      <td>45.641478</td>\n",
       "    </tr>\n",
       "    <tr>\n",
       "      <th>7</th>\n",
       "      <td>XO8fn</td>\n",
       "      <td>-1.906649</td>\n",
       "      <td>-2.458350</td>\n",
       "      <td>-0.177097</td>\n",
       "      <td>72.480640</td>\n",
       "    </tr>\n",
       "    <tr>\n",
       "      <th>8</th>\n",
       "      <td>ybmQ5</td>\n",
       "      <td>1.776292</td>\n",
       "      <td>-0.279356</td>\n",
       "      <td>3.004156</td>\n",
       "      <td>106.616832</td>\n",
       "    </tr>\n",
       "    <tr>\n",
       "      <th>9</th>\n",
       "      <td>OilcN</td>\n",
       "      <td>-1.214452</td>\n",
       "      <td>-0.439314</td>\n",
       "      <td>5.922514</td>\n",
       "      <td>52.954532</td>\n",
       "    </tr>\n",
       "  </tbody>\n",
       "</table>\n",
       "</div>"
      ],
      "text/plain": [
       "      id        f0        f1        f2  well_product\n",
       "0  fwXo0 -1.146987  0.963328 -0.828965     27.758673\n",
       "1  WJtFt  0.262778  0.269839 -2.530187     56.069697\n",
       "2  ovLUW  0.194587  0.289035 -5.586433     62.871910\n",
       "3  q6cA6  2.236060 -0.553760  0.930038    114.572842\n",
       "4  WPMUX -0.515993  1.716266  5.899011    149.600746\n",
       "5  LzZXx -0.758092  0.710691  2.585887     90.222465\n",
       "6  WBHRv -0.574891  0.317727  1.773745     45.641478\n",
       "7  XO8fn -1.906649 -2.458350 -0.177097     72.480640\n",
       "8  ybmQ5  1.776292 -0.279356  3.004156    106.616832\n",
       "9  OilcN -1.214452 -0.439314  5.922514     52.954532"
      ]
     },
     "metadata": {},
     "output_type": "display_data"
    },
    {
     "name": "stdout",
     "output_type": "stream",
     "text": [
      "\n",
      "\u001b[1mDUPLICATES:\u001b[0m 0\n",
      "\n",
      "\u001b[1mMISSING VALUES BY COLUMNS:\u001b[0m\n",
      "\n",
      "id              0\n",
      "f0              0\n",
      "f1              0\n",
      "f2              0\n",
      "well_product    0\n",
      "dtype: int64\n",
      "\n",
      "\u001b[1mVALUES DISTRIBUTION BY COLUMNS:\u001b[0m\n"
     ]
    },
    {
     "data": {
      "image/png": "[encoded data removed]",
      "text/plain": [
       "<Figure size 1500x2000 with 4 Axes>"
      ]
     },
     "metadata": {},
     "output_type": "display_data"
    }
   ],
   "source": [
    "dataset_info(region_3)"
   ]
  },
  {
   "cell_type": "markdown",
   "metadata": {},
   "source": [
    "- There are no gaps or complete duplicates in the data.\n",
    "- The distributions of features look normal, the target has \"tails cut off\".\n",
    "\n",
    "Let's check if there are duplicate wells here and process them in the same way if so."
   ]
  },
  {
   "cell_type": "code",
   "execution_count": 20,
   "metadata": {
    "scrolled": true
   },
   "outputs": [
    {
     "data": {
      "text/plain": [
       "99996"
      ]
     },
     "execution_count": 20,
     "metadata": {},
     "output_type": "execute_result"
    }
   ],
   "source": [
    "len(region_3.id.unique())"
   ]
  },
  {
   "cell_type": "code",
   "execution_count": 21,
   "metadata": {
    "scrolled": true
   },
   "outputs": [
    {
     "data": {
      "text/plain": [
       "VF7Jo    2\n",
       "KUPhW    2\n",
       "xCHr8    2\n",
       "Vcm5J    2\n",
       "Name: id, dtype: int64"
      ]
     },
     "execution_count": 21,
     "metadata": {},
     "output_type": "execute_result"
    }
   ],
   "source": [
    "region_3.id.value_counts().head(4)"
   ]
  },
  {
   "cell_type": "code",
   "execution_count": 22,
   "metadata": {},
   "outputs": [],
   "source": [
    "for well_id in region_3.id.value_counts().head(4).index:\n",
    "    region_3.loc[region_3.id == well_id, ['f0', 'f1', 'f2', 'well_product']] = \\\n",
    "        region_3[region_3.id == well_id].mean(axis=0, numeric_only=True).values\n",
    "    \n",
    "region_3.drop_duplicates(subset='id', keep='first', inplace=True)"
   ]
  },
  {
   "cell_type": "markdown",
   "metadata": {},
   "source": [
    "\"Zero\" wells:"
   ]
  },
  {
   "cell_type": "code",
   "execution_count": 23,
   "metadata": {
    "scrolled": true
   },
   "outputs": [
    {
     "data": {
      "text/html": [
       "<div>\n",
       "<style scoped>\n",
       "    .dataframe tbody tr th:only-of-type {\n",
       "        vertical-align: middle;\n",
       "    }\n",
       "\n",
       "    .dataframe tbody tr th {\n",
       "        vertical-align: top;\n",
       "    }\n",
       "\n",
       "    .dataframe thead th {\n",
       "        text-align: right;\n",
       "    }\n",
       "</style>\n",
       "<table border=\"1\" class=\"dataframe\">\n",
       "  <thead>\n",
       "    <tr style=\"text-align: right;\">\n",
       "      <th></th>\n",
       "      <th>id</th>\n",
       "      <th>f0</th>\n",
       "      <th>f1</th>\n",
       "      <th>f2</th>\n",
       "      <th>well_product</th>\n",
       "    </tr>\n",
       "  </thead>\n",
       "  <tbody>\n",
       "    <tr>\n",
       "      <th>68149</th>\n",
       "      <td>qeefd</td>\n",
       "      <td>-0.865596</td>\n",
       "      <td>-1.615247</td>\n",
       "      <td>-4.126441</td>\n",
       "      <td>0.0</td>\n",
       "    </tr>\n",
       "  </tbody>\n",
       "</table>\n",
       "</div>"
      ],
      "text/plain": [
       "          id        f0        f1        f2  well_product\n",
       "68149  qeefd -0.865596 -1.615247 -4.126441           0.0"
      ]
     },
     "execution_count": 23,
     "metadata": {},
     "output_type": "execute_result"
    }
   ],
   "source": [
    "region_3[region_3.well_product == 0]"
   ]
  },
  {
   "cell_type": "markdown",
   "metadata": {},
   "source": [
    "Again, just one.\n",
    "\n",
    "**To sum up,** we have three regions in which geological exploration was carried out. One of them - the second - strongly stands out among the rest by a large number of explored wells with zero reserves."
   ]
  },
  {
   "cell_type": "markdown",
   "metadata": {},
   "source": [
    "## Model training and validation"
   ]
  },
  {
   "cell_type": "markdown",
   "metadata": {},
   "source": [
    "Let's prepare data for training models:\n",
    "1. Exclude columns with well identification numbers from datasets.\n",
    "2. Let's split the data into training and validation samples in the ratio of 75:25.\n",
    "3. Separate the target feature from the rest.\n",
    "4. Let's scale the numerical features.\n",
    "\n",
    "According to the task, only a linear regression model is suitable for training."
   ]
  },
  {
   "cell_type": "code",
   "execution_count": 24,
   "metadata": {},
   "outputs": [],
   "source": [
    "def prepare_data_for_ml(dataset, target, redundant_features, test_split_size):\n",
    "    \n",
    "    # Excluding unnecessary features and divide the dataset into samples\n",
    "    data_train, data_valid = train_test_split(\n",
    "        dataset.drop(redundant_features, axis=1),\n",
    "        test_size=test_split_size,\n",
    "        random_state=36\n",
    "    )\n",
    "    \n",
    "    # Separating features\n",
    "    features_train = data_train.drop(target, axis=1)\n",
    "    target_train = data_train[target]\n",
    "    features_valid = data_valid.drop(target, axis=1)\n",
    "    target_valid = data_valid[target]\n",
    "    \n",
    "    # Scaling numeric features\n",
    "    scaler = StandardScaler()\n",
    "    scaler.fit(features_train)\n",
    "    features_train = scaler.transform(features_train)\n",
    "    features_valid = scaler.transform(features_valid)\n",
    "    \n",
    "    return features_train, target_train, features_valid, target_valid"
   ]
  },
  {
   "cell_type": "markdown",
   "metadata": {},
   "source": [
    "### Region 1"
   ]
  },
  {
   "cell_type": "code",
   "execution_count": 25,
   "metadata": {},
   "outputs": [],
   "source": [
    "features_1_train, target_1_train, features_1_valid, target_1_valid = prepare_data_for_ml(\n",
    "    region_1,\n",
    "    'well_product',\n",
    "    'id',\n",
    "    0.25\n",
    ")"
   ]
  },
  {
   "cell_type": "markdown",
   "metadata": {},
   "source": [
    "Let's train the model:"
   ]
  },
  {
   "cell_type": "code",
   "execution_count": 26,
   "metadata": {},
   "outputs": [],
   "source": [
    "model_1 = LinearRegression()\n",
    "model_1.fit(features_1_train, target_1_train)\n",
    "preds_1 = model_1.predict(features_1_valid)"
   ]
  },
  {
   "cell_type": "markdown",
   "metadata": {},
   "source": [
    "Model predictions:"
   ]
  },
  {
   "cell_type": "code",
   "execution_count": 27,
   "metadata": {},
   "outputs": [
    {
     "name": "stdout",
     "output_type": "stream",
     "text": [
      "Average stock of predicted raw materials (per well): 92.515\n",
      "RMSE: 37.886\n"
     ]
    }
   ],
   "source": [
    "print(f'Average stock of predicted raw materials (per well): {preds_1.mean():.3f}')\n",
    "print(f'RMSE: {mse(target_1_valid, preds_1, squared=False):.3f}')"
   ]
  },
  {
   "cell_type": "markdown",
   "metadata": {},
   "source": [
    "To evaluate the result, you need to compare the model with a random one.\n",
    "Let's create a list of model predictions that always gives the average value of the target feature as an answer."
   ]
  },
  {
   "cell_type": "code",
   "execution_count": 28,
   "metadata": {},
   "outputs": [
    {
     "name": "stdout",
     "output_type": "stream",
     "text": [
      "Random model's RMSE: 44.506\n"
     ]
    }
   ],
   "source": [
    "preds_1_mean = [target_1_train.mean()]*len(target_1_valid)\n",
    "print(f\"Random model's RMSE: {mse(target_1_valid, preds_1_mean, squared=False):.3f}\")"
   ]
  },
  {
   "cell_type": "markdown",
   "metadata": {},
   "source": [
    "The possible deviation from the average stock of predicted raw materials is quite large (40%), but 15% better than the random model."
   ]
  },
  {
   "cell_type": "markdown",
   "metadata": {},
   "source": [
    "### Region 2"
   ]
  },
  {
   "cell_type": "code",
   "execution_count": 29,
   "metadata": {},
   "outputs": [],
   "source": [
    "features_2_train, target_2_train, features_2_valid, target_2_valid = prepare_data_for_ml(\n",
    "    region_2,\n",
    "    'well_product',\n",
    "    'id',\n",
    "    0.25\n",
    ")"
   ]
  },
  {
   "cell_type": "markdown",
   "metadata": {},
   "source": [
    "Let's train the model:"
   ]
  },
  {
   "cell_type": "code",
   "execution_count": 30,
   "metadata": {},
   "outputs": [],
   "source": [
    "model_2 = LinearRegression()\n",
    "model_2.fit(features_2_train, target_2_train)\n",
    "preds_2 = model_2.predict(features_2_valid)"
   ]
  },
  {
   "cell_type": "markdown",
   "metadata": {},
   "source": [
    "Model predictions:"
   ]
  },
  {
   "cell_type": "code",
   "execution_count": 31,
   "metadata": {},
   "outputs": [
    {
     "name": "stdout",
     "output_type": "stream",
     "text": [
      "Average stock of predicted raw materials (per well): 68.769\n",
      "RMSE: 0.889\n"
     ]
    }
   ],
   "source": [
    "print(f'Average stock of predicted raw materials (per well): {preds_2.mean():.3f}')\n",
    "print(f'RMSE: {mse(target_2_valid, preds_2, squared=False):.3f}')"
   ]
  },
  {
   "cell_type": "markdown",
   "metadata": {},
   "source": [
    "Here, there is not even a big need to compare the model with a random one: we had a feature that had a correlation coefficient of more than 0.99 with the target. The model will have very high accuracy. But nonetheless:"
   ]
  },
  {
   "cell_type": "code",
   "execution_count": 32,
   "metadata": {},
   "outputs": [
    {
     "name": "stdout",
     "output_type": "stream",
     "text": [
      "Random model's RMSE: 45.813\n"
     ]
    }
   ],
   "source": [
    "preds_2_mean = [target_2_train.mean()]*len(target_2_valid)\n",
    "print(f\"Random model's RMSE: {mse(target_2_valid, preds_2_mean, squared=False):.3f}\")"
   ]
  },
  {
   "cell_type": "markdown",
   "metadata": {},
   "source": [
    "The RMSE of the trained model is 98% less than that of the random one. At the same time, the average stock of predicted raw materials in this region is a quarter less than in the first one."
   ]
  },
  {
   "cell_type": "markdown",
   "metadata": {},
   "source": [
    "### Region 3"
   ]
  },
  {
   "cell_type": "code",
   "execution_count": 33,
   "metadata": {},
   "outputs": [],
   "source": [
    "features_3_train, target_3_train, features_3_valid, target_3_valid = prepare_data_for_ml(\n",
    "    region_3,\n",
    "    'well_product',\n",
    "    'id',\n",
    "    0.25\n",
    ")"
   ]
  },
  {
   "cell_type": "markdown",
   "metadata": {},
   "source": [
    "Let's train the model:"
   ]
  },
  {
   "cell_type": "code",
   "execution_count": 34,
   "metadata": {},
   "outputs": [],
   "source": [
    "model_3 = LinearRegression()\n",
    "model_3.fit(features_3_train, target_3_train)\n",
    "preds_3 = model_3.predict(features_3_valid)"
   ]
  },
  {
   "cell_type": "markdown",
   "metadata": {},
   "source": [
    "Model predictions:"
   ]
  },
  {
   "cell_type": "code",
   "execution_count": 35,
   "metadata": {},
   "outputs": [
    {
     "name": "stdout",
     "output_type": "stream",
     "text": [
      "Average stock of predicted raw materials (per well): 95.174\n",
      "RMSE: 40.021\n"
     ]
    }
   ],
   "source": [
    "print(f'Average stock of predicted raw materials (per well): {preds_3.mean():.3f}')\n",
    "print(f'RMSE: {mse(target_3_valid, preds_3, squared=False):.3f}')"
   ]
  },
  {
   "cell_type": "markdown",
   "metadata": {},
   "source": [
    "Compare with the result of a random model:"
   ]
  },
  {
   "cell_type": "code",
   "execution_count": 36,
   "metadata": {},
   "outputs": [
    {
     "name": "stdout",
     "output_type": "stream",
     "text": [
      "Random model's RMSE: 44.797\n"
     ]
    }
   ],
   "source": [
    "preds_3_mean = [target_3_train.mean()]*len(target_3_valid)\n",
    "print(f\"Random model's RMSE: {mse(target_3_valid, preds_3_mean, squared=False):.3f}\")"
   ]
  },
  {
   "cell_type": "markdown",
   "metadata": {},
   "source": [
    "The RMSE of the trained model is 10% less than that of the random one. The average stock of predicted raw materials practically coincides with the first region."
   ]
  },
  {
   "cell_type": "markdown",
   "metadata": {},
   "source": [
    "## Preparation for profit calculation"
   ]
  },
  {
   "cell_type": "markdown",
   "metadata": {},
   "source": [
    "Let's save the key values for calculations in separate variables:"
   ]
  },
  {
   "cell_type": "code",
   "execution_count": 37,
   "metadata": {},
   "outputs": [],
   "source": [
    "# Budget for well development in the region (RUB)\n",
    "BUDGET = 10000000000\n",
    "\n",
    "# The number of wells explored\n",
    "EXP_WELLS_NUM = 500\n",
    "\n",
    "# Number of wells selected for development\n",
    "DEV_WELLS_NUM = 200\n",
    "\n",
    "# Income from the sale of one thousand barrels of oil at the current price (rubles)\n",
    "INCOME_PER_1K_BARRELS = 450000\n",
    "\n",
    "# Maximum allowed loss probability (/ 100%)\n",
    "MAX_LOSS_PROB = 0.025\n",
    "\n",
    "# Model Predictions\n",
    "preds_1 = pd.Series(preds_1, index=target_1_valid.index)\n",
    "preds_2 = pd.Series(preds_2, index=target_2_valid.index)\n",
    "preds_3 = pd.Series(preds_3, index=target_3_valid.index)"
   ]
  },
  {
   "cell_type": "markdown",
   "metadata": {},
   "source": [
    "For the break-even development of a new well, it is necessary that the income from the sale of oil extracted from it exceeds the costs of its development. Let's calculate the minimum amount of raw materials that will ensure the fulfillment of this condition:\n",
    "- Cost of development of one well (million rubles):"
   ]
  },
  {
   "cell_type": "code",
   "execution_count": 38,
   "metadata": {
    "scrolled": true
   },
   "outputs": [
    {
     "data": {
      "text/plain": [
       "50.0"
      ]
     },
     "execution_count": 38,
     "metadata": {},
     "output_type": "execute_result"
    }
   ],
   "source": [
    "ONE_WELL_DEV_COST = BUDGET / DEV_WELLS_NUM\n",
    "ONE_WELL_DEV_COST / 1000000"
   ]
  },
  {
   "cell_type": "markdown",
   "metadata": {},
   "source": [
    "- The minimum volume of raw materials reserves, the sale of which will cover the cost of developing one well:"
   ]
  },
  {
   "cell_type": "code",
   "execution_count": 39,
   "metadata": {},
   "outputs": [
    {
     "data": {
      "text/plain": [
       "111.11"
      ]
     },
     "execution_count": 39,
     "metadata": {},
     "output_type": "execute_result"
    }
   ],
   "source": [
    "min_profitable_oil_vol = ONE_WELL_DEV_COST / INCOME_PER_1K_BARRELS\n",
    "round(min_profitable_oil_vol, 2)"
   ]
  },
  {
   "cell_type": "markdown",
   "metadata": {},
   "source": [
    "For all three regions, the average predicted volume of raw materials per well was less. Therefore, we need to be especially confident in the accuracy of volume predictions in wells that exceed the breakeven value. These deposits will form the basis of profits from the development of the region - we can't go wrong."
   ]
  },
  {
   "cell_type": "markdown",
   "metadata": {},
   "source": [
    "## Profit and Risk Calculation"
   ]
  },
  {
   "cell_type": "markdown",
   "metadata": {},
   "source": [
    "Let's write a function for calculating the gross profit for the wells selected for development:"
   ]
  },
  {
   "cell_type": "code",
   "execution_count": 40,
   "metadata": {},
   "outputs": [],
   "source": [
    "def gross_profit_calc(\n",
    "    target,\n",
    "    preds,\n",
    "    budget,\n",
    "    income_per_1k_barrels,\n",
    "    dev_wells_num\n",
    "):    \n",
    "    preds_sorted = preds.sort_values(ascending=False)\n",
    "    selected_wells = target[preds_sorted.index].iloc[:dev_wells_num]\n",
    "    gross_profit = income_per_1k_barrels * selected_wells.sum() - budget\n",
    "    \n",
    "    return gross_profit"
   ]
  },
  {
   "cell_type": "markdown",
   "metadata": {},
   "source": [
    "Let's calculate the risks and gross profit for each region. Using the bootstrap technique with 10,000 samples, we calculate the average profit, 95% confidence interval, and risk of loss."
   ]
  },
  {
   "cell_type": "markdown",
   "metadata": {},
   "source": [
    "### Region 1"
   ]
  },
  {
   "cell_type": "code",
   "execution_count": 41,
   "metadata": {
    "scrolled": false
   },
   "outputs": [
    {
     "data": {
      "image/png": "[encoded data removed]",
      "text/plain": [
       "<Figure size 700x500 with 1 Axes>"
      ]
     },
     "metadata": {},
     "output_type": "display_data"
    },
    {
     "name": "stdout",
     "output_type": "stream",
     "text": [
      "Average gross profit (million rubles): 482.68\n",
      "Lower limit of the confidence interval (million rubles): -59.31\n",
      "Loss probability: 3.86%\n"
     ]
    }
   ],
   "source": [
    "profit_values_1 = []\n",
    "\n",
    "state = np.random.RandomState(36)\n",
    "\n",
    "for i in range(10000):\n",
    "    target_subsample = target_1_valid.sample(\n",
    "        n=EXP_WELLS_NUM,\n",
    "        replace=True,\n",
    "        random_state=state\n",
    "    )\n",
    "    preds_subsample = preds_1[target_subsample.index]\n",
    "    profit_values_1.append(\n",
    "        gross_profit_calc(\n",
    "            target_subsample,\n",
    "            preds_subsample,\n",
    "            budget=BUDGET, \n",
    "            income_per_1k_barrels=INCOME_PER_1K_BARRELS,\n",
    "            dev_wells_num=DEV_WELLS_NUM\n",
    "        )\n",
    "    )\n",
    "    \n",
    "profit_values_1 = pd.Series(profit_values_1)\n",
    "\n",
    "# Confidence interval limits, mean and probability of loss in a given region\n",
    "lower_1 = profit_values_1.quantile(MAX_LOSS_PROB)\n",
    "upper_1 = profit_values_1.quantile(1-MAX_LOSS_PROB)\n",
    "mean_1 = profit_values_1.mean()\n",
    "loss_count_1 = len(profit_values_1[profit_values_1 < 0])\n",
    "\n",
    "# Output of bootstrap results\n",
    "plt.figure(figsize=(7, 5))\n",
    "plt.title('Average gross profit (million rubles)')\n",
    "\n",
    "(profit_values_1 / 1000000).hist(bins=30);\n",
    "\n",
    "plt.vlines(\n",
    "    x=0, \n",
    "    ymin=0, ymax=1100, \n",
    "    linestyle='--', \n",
    "    colors='red', \n",
    "    linewidth=3, \n",
    "    label='Profit-loss border'\n",
    ")\n",
    "plt.vlines(\n",
    "    x=[lower_1 / 1000000, upper_1 / 1000000], \n",
    "    ymin=0, ymax=1100, \n",
    "    linestyle='--', \n",
    "    colors='green',\n",
    "    label='95% confidence interval'\n",
    ")\n",
    "\n",
    "plt.legend(loc=(1.03, 0.84), prop={'size': 12})\n",
    "plt.show()\n",
    "\n",
    "print(f'Average gross profit (million rubles): {mean_1 / 1000000:.2f}')\n",
    "print(f'Lower limit of the confidence interval (million rubles): {lower_1 / 1000000:.2f}')\n",
    "print(f'Loss probability: {loss_count_1 / 100:.2f}%')"
   ]
  },
  {
   "cell_type": "markdown",
   "metadata": {},
   "source": [
    "### Region 2"
   ]
  },
  {
   "cell_type": "code",
   "execution_count": 42,
   "metadata": {
    "scrolled": false
   },
   "outputs": [
    {
     "data": {
      "image/png": "[encoded data removed]",
      "text/plain": [
       "<Figure size 700x500 with 1 Axes>"
      ]
     },
     "metadata": {},
     "output_type": "display_data"
    },
    {
     "name": "stdout",
     "output_type": "stream",
     "text": [
      "Average gross profit (million rubles): 485.95\n",
      "Lower limit of the confidence interval (million rubles): 64.60\n",
      "Loss probability: 1.22%\n"
     ]
    }
   ],
   "source": [
    "profit_values_2 = []\n",
    "\n",
    "state = np.random.RandomState(36)\n",
    "\n",
    "for i in range(10000):\n",
    "    target_subsample = target_2_valid.sample(\n",
    "        n=EXP_WELLS_NUM,\n",
    "        replace=True,\n",
    "        random_state=state\n",
    "    )\n",
    "    preds_subsample = preds_2[target_subsample.index]\n",
    "    profit_values_2.append(\n",
    "        gross_profit_calc(\n",
    "            target_subsample,\n",
    "            preds_subsample,\n",
    "            budget=BUDGET, \n",
    "            income_per_1k_barrels=INCOME_PER_1K_BARRELS,\n",
    "            dev_wells_num=DEV_WELLS_NUM\n",
    "        )\n",
    "    )\n",
    "    \n",
    "profit_values_2 = pd.Series(profit_values_2)\n",
    "\n",
    "# Confidence interval limits, mean and probability of loss in a given region\n",
    "lower_2 = profit_values_2.quantile(MAX_LOSS_PROB)\n",
    "upper_2 = profit_values_2.quantile(1-MAX_LOSS_PROB)\n",
    "mean_2 = profit_values_2.mean()\n",
    "loss_count_2 = len(profit_values_2[profit_values_2 < 0])\n",
    "\n",
    "\n",
    "# Output of bootstrap results\n",
    "plt.figure(figsize=(7, 5))\n",
    "plt.title('Average gross profit (million rubles)')\n",
    "\n",
    "(profit_values_2 / 1000000).hist(bins=30);\n",
    "\n",
    "plt.vlines(\n",
    "    x=0, \n",
    "    ymin=0, ymax=1000, \n",
    "    linestyle='--', \n",
    "    linewidth=3,\n",
    "    colors='red', \n",
    "    label='Profit-loss border'\n",
    ")\n",
    "plt.vlines(\n",
    "    x=[lower_2 / 1000000, upper_2 / 1000000], \n",
    "    ymin=0, ymax=1000, \n",
    "    linestyle='--', \n",
    "    colors='green',\n",
    "    label='95% confidence interval'\n",
    ")\n",
    "\n",
    "plt.legend(loc=(1.03, 0.84), prop={'size': 12})\n",
    "plt.show()\n",
    "\n",
    "print(f'Average gross profit (million rubles): {mean_2 / 1000000:.2f}')\n",
    "print(f'Lower limit of the confidence interval (million rubles): {lower_2 / 1000000:.2f}')\n",
    "print(f'Loss probability: {loss_count_2 / 100:.2f}%')"
   ]
  },
  {
   "cell_type": "markdown",
   "metadata": {},
   "source": [
    "### Region 3"
   ]
  },
  {
   "cell_type": "code",
   "execution_count": 43,
   "metadata": {
    "scrolled": false
   },
   "outputs": [
    {
     "data": {
      "image/png": "[encoded data removed]",
      "text/plain": [
       "<Figure size 700x500 with 1 Axes>"
      ]
     },
     "metadata": {},
     "output_type": "display_data"
    },
    {
     "name": "stdout",
     "output_type": "stream",
     "text": [
      "Average gross profit (million rubles): 441.70\n",
      "Lower limit of the confidence interval (million rubles): -100.78\n",
      "Loss probability: 5.46%\n"
     ]
    }
   ],
   "source": [
    "profit_values_3 = []\n",
    "\n",
    "state = np.random.RandomState(36)\n",
    "\n",
    "for i in range(10000):\n",
    "    target_subsample = target_3_valid.sample(\n",
    "        n=EXP_WELLS_NUM,\n",
    "        replace=True,\n",
    "        random_state=state\n",
    "    )\n",
    "    preds_subsample = preds_3[target_subsample.index]\n",
    "    profit_values_3.append(\n",
    "        gross_profit_calc(\n",
    "            target_subsample,\n",
    "            preds_subsample,\n",
    "            budget=BUDGET, \n",
    "            income_per_1k_barrels=INCOME_PER_1K_BARRELS,\n",
    "            dev_wells_num=DEV_WELLS_NUM\n",
    "        )\n",
    "    )\n",
    "    \n",
    "profit_values_3 = pd.Series(profit_values_3)\n",
    "\n",
    "# Confidence interval limits, mean and probability of loss in a given region\n",
    "lower_3 = profit_values_3.quantile(MAX_LOSS_PROB)\n",
    "upper_3 = profit_values_3.quantile(1-MAX_LOSS_PROB)\n",
    "mean_3 = profit_values_3.mean()\n",
    "loss_count_3 = len(profit_values_3[profit_values_3 < 0])\n",
    "\n",
    "\n",
    "# Output of bootstrap results\n",
    "plt.figure(figsize=(7, 5))\n",
    "plt.title('Average gross profit (million rubles)')\n",
    "\n",
    "(profit_values_3 / 1000000).hist(bins=30);\n",
    "\n",
    "plt.vlines(\n",
    "    x=0, \n",
    "    ymin=0, ymax=1100, \n",
    "    linestyle='--', \n",
    "    linewidth=3,\n",
    "    colors='red', \n",
    "    label='Profit-loss border'\n",
    ")\n",
    "plt.vlines(\n",
    "    x=[lower_3 / 1000000, upper_3 / 1000000], \n",
    "    ymin=0, ymax=1100, \n",
    "    linestyle='--', \n",
    "    colors='green',\n",
    "    label='95% confidence interval'\n",
    ")\n",
    "\n",
    "plt.legend(loc=(1.03, 0.84), prop={'size': 12})\n",
    "plt.show()\n",
    "\n",
    "print(f'Average gross profit (million rubles): {mean_3 / 1000000:.2f}')\n",
    "print(f'Lower limit of the confidence interval (million rubles): {lower_3 / 1000000:.2f}')\n",
    "print(f'Loss probability: {loss_count_3 / 100:.2f}%')"
   ]
  },
  {
   "cell_type": "markdown",
   "metadata": {},
   "source": [
    "## Conclusion"
   ]
  },
  {
   "cell_type": "markdown",
   "metadata": {},
   "source": [
    "We had at our disposal samples of oil and the volume of its reserves in three regions, 100,000 wells in each.\n",
    "After cleaning the data from duplicates and its preprocessing, we built a machine learning model that helped determine the region where mining will bring the greatest profit - **Region 2**. It has:\n",
    "- the largest average gross profit among the regions based on the results of the bootstrap (495.95 million rubles);\n",
    "- the lowest risk of loss (1.22%)."
   ]
  },
  {
   "cell_type": "code",
   "execution_count": null,
   "metadata": {},
   "outputs": [],
   "source": []
  }
 ],
 "metadata": {
  "ExecuteTimeLog": [
   {
    "duration": 412,
    "start_time": "2022-11-09T17:11:17.740Z"
   },
   {
    "duration": 788,
    "start_time": "2022-11-09T17:12:58.497Z"
   },
   {
    "duration": 1143,
    "start_time": "2022-11-09T17:14:11.834Z"
   },
   {
    "duration": 667,
    "start_time": "2022-11-09T17:21:07.874Z"
   },
   {
    "duration": 629,
    "start_time": "2022-11-09T17:21:26.029Z"
   },
   {
    "duration": 5,
    "start_time": "2022-11-09T17:27:25.124Z"
   },
   {
    "duration": 603,
    "start_time": "2022-11-09T17:27:40.347Z"
   },
   {
    "duration": 16,
    "start_time": "2022-11-09T17:33:52.824Z"
   },
   {
    "duration": 90,
    "start_time": "2022-11-09T17:34:04.313Z"
   },
   {
    "duration": 17,
    "start_time": "2022-11-09T17:34:11.167Z"
   },
   {
    "duration": 10,
    "start_time": "2022-11-09T17:43:21.418Z"
   },
   {
    "duration": 69,
    "start_time": "2022-11-09T17:43:26.971Z"
   },
   {
    "duration": 49,
    "start_time": "2022-11-09T17:43:36.453Z"
   },
   {
    "duration": 44,
    "start_time": "2022-11-09T17:43:39.046Z"
   },
   {
    "duration": 48,
    "start_time": "2022-11-09T17:43:43.125Z"
   },
   {
    "duration": 15,
    "start_time": "2022-11-09T17:44:09.984Z"
   },
   {
    "duration": 56,
    "start_time": "2022-11-10T09:19:35.593Z"
   },
   {
    "duration": 395,
    "start_time": "2022-11-10T09:19:42.813Z"
   },
   {
    "duration": 834,
    "start_time": "2022-11-10T09:19:43.209Z"
   },
   {
    "duration": 12,
    "start_time": "2022-11-10T09:19:44.045Z"
   },
   {
    "duration": 1035,
    "start_time": "2022-11-10T09:19:44.059Z"
   },
   {
    "duration": 63,
    "start_time": "2022-11-10T09:19:45.096Z"
   },
   {
    "duration": 13,
    "start_time": "2022-11-10T09:19:45.161Z"
   },
   {
    "duration": 46,
    "start_time": "2022-11-10T09:19:45.175Z"
   },
   {
    "duration": 9,
    "start_time": "2022-11-10T09:20:08.434Z"
   },
   {
    "duration": 10,
    "start_time": "2022-11-10T09:20:18.745Z"
   },
   {
    "duration": 15,
    "start_time": "2022-11-10T09:21:27.959Z"
   },
   {
    "duration": 18,
    "start_time": "2022-11-10T09:39:30.627Z"
   },
   {
    "duration": 19,
    "start_time": "2022-11-10T09:39:37.597Z"
   },
   {
    "duration": 47,
    "start_time": "2022-11-10T09:58:21.103Z"
   },
   {
    "duration": 46,
    "start_time": "2022-11-10T09:58:25.917Z"
   },
   {
    "duration": 55,
    "start_time": "2022-11-10T10:02:45.710Z"
   },
   {
    "duration": 106,
    "start_time": "2022-11-10T10:06:17.688Z"
   },
   {
    "duration": 130,
    "start_time": "2022-11-10T10:06:26.899Z"
   },
   {
    "duration": 205,
    "start_time": "2022-11-10T10:08:52.353Z"
   },
   {
    "duration": 340,
    "start_time": "2022-11-10T10:09:25.962Z"
   },
   {
    "duration": 336,
    "start_time": "2022-11-10T10:09:26.304Z"
   },
   {
    "duration": 5,
    "start_time": "2022-11-10T10:09:26.642Z"
   },
   {
    "duration": 871,
    "start_time": "2022-11-10T10:09:26.649Z"
   },
   {
    "duration": 18,
    "start_time": "2022-11-10T10:09:27.522Z"
   },
   {
    "duration": 78,
    "start_time": "2022-11-10T10:09:27.542Z"
   },
   {
    "duration": 15,
    "start_time": "2022-11-10T10:09:27.622Z"
   },
   {
    "duration": 226,
    "start_time": "2022-11-10T10:09:27.638Z"
   },
   {
    "duration": 399,
    "start_time": "2022-11-10T10:10:41.984Z"
   },
   {
    "duration": 325,
    "start_time": "2022-11-10T10:10:42.385Z"
   },
   {
    "duration": 5,
    "start_time": "2022-11-10T10:10:42.711Z"
   },
   {
    "duration": 892,
    "start_time": "2022-11-10T10:10:42.718Z"
   },
   {
    "duration": 19,
    "start_time": "2022-11-10T10:10:43.612Z"
   },
   {
    "duration": 57,
    "start_time": "2022-11-10T10:10:43.633Z"
   },
   {
    "duration": 30,
    "start_time": "2022-11-10T10:10:43.692Z"
   },
   {
    "duration": 17,
    "start_time": "2022-11-10T10:10:43.723Z"
   },
   {
    "duration": 206,
    "start_time": "2022-11-10T10:10:43.742Z"
   },
   {
    "duration": 11,
    "start_time": "2022-11-10T10:10:43.950Z"
   },
   {
    "duration": 389,
    "start_time": "2022-11-10T10:11:12.016Z"
   },
   {
    "duration": 316,
    "start_time": "2022-11-10T10:11:12.407Z"
   },
   {
    "duration": 6,
    "start_time": "2022-11-10T10:11:12.725Z"
   },
   {
    "duration": 847,
    "start_time": "2022-11-10T10:11:12.733Z"
   },
   {
    "duration": 19,
    "start_time": "2022-11-10T10:11:13.582Z"
   },
   {
    "duration": 50,
    "start_time": "2022-11-10T10:11:13.612Z"
   },
   {
    "duration": 14,
    "start_time": "2022-11-10T10:11:13.664Z"
   },
   {
    "duration": 12,
    "start_time": "2022-11-10T10:11:19.077Z"
   },
   {
    "duration": 196,
    "start_time": "2022-11-10T10:11:36.651Z"
   },
   {
    "duration": 405,
    "start_time": "2022-11-10T10:28:17.388Z"
   },
   {
    "duration": 329,
    "start_time": "2022-11-10T10:28:17.795Z"
   },
   {
    "duration": 4,
    "start_time": "2022-11-10T10:28:18.126Z"
   },
   {
    "duration": 903,
    "start_time": "2022-11-10T10:28:18.132Z"
   },
   {
    "duration": 18,
    "start_time": "2022-11-10T10:28:19.037Z"
   },
   {
    "duration": 84,
    "start_time": "2022-11-10T10:28:19.057Z"
   },
   {
    "duration": 14,
    "start_time": "2022-11-10T10:28:19.143Z"
   },
   {
    "duration": 216,
    "start_time": "2022-11-10T10:28:19.159Z"
   },
   {
    "duration": 65,
    "start_time": "2022-11-10T10:28:19.377Z"
   },
   {
    "duration": 13,
    "start_time": "2022-11-10T10:28:19.443Z"
   },
   {
    "duration": 26,
    "start_time": "2022-11-10T10:29:08.503Z"
   },
   {
    "duration": 23,
    "start_time": "2022-11-10T10:29:13.106Z"
   },
   {
    "duration": 707,
    "start_time": "2022-11-10T10:35:51.882Z"
   },
   {
    "duration": 606,
    "start_time": "2022-11-10T10:35:56.236Z"
   },
   {
    "duration": 16,
    "start_time": "2022-11-10T10:46:15.802Z"
   },
   {
    "duration": 62,
    "start_time": "2022-11-10T10:48:43.336Z"
   },
   {
    "duration": 116,
    "start_time": "2022-11-10T10:53:44.456Z"
   },
   {
    "duration": 70,
    "start_time": "2022-11-10T11:00:30.955Z"
   },
   {
    "duration": 9,
    "start_time": "2022-11-10T11:00:36.631Z"
   },
   {
    "duration": 8,
    "start_time": "2022-11-10T11:00:41.223Z"
   },
   {
    "duration": 541,
    "start_time": "2022-11-10T11:02:01.094Z"
   },
   {
    "duration": 92,
    "start_time": "2022-11-10T11:14:37.001Z"
   },
   {
    "duration": 85,
    "start_time": "2022-11-10T11:14:41.784Z"
   },
   {
    "duration": 133,
    "start_time": "2022-11-10T11:15:04.917Z"
   },
   {
    "duration": 86,
    "start_time": "2022-11-10T11:15:12.846Z"
   },
   {
    "duration": 17,
    "start_time": "2022-11-10T11:15:27.124Z"
   },
   {
    "duration": 147,
    "start_time": "2022-11-10T11:15:41.292Z"
   },
   {
    "duration": 86,
    "start_time": "2022-11-10T11:15:57.512Z"
   },
   {
    "duration": 379,
    "start_time": "2022-11-10T11:17:02.515Z"
   },
   {
    "duration": 10,
    "start_time": "2022-11-10T11:22:03.388Z"
   },
   {
    "duration": 1057,
    "start_time": "2022-11-10T11:22:26.065Z"
   },
   {
    "duration": 331,
    "start_time": "2022-11-10T11:22:27.125Z"
   },
   {
    "duration": 5,
    "start_time": "2022-11-10T11:22:27.457Z"
   },
   {
    "duration": 636,
    "start_time": "2022-11-10T11:22:27.465Z"
   },
   {
    "duration": 17,
    "start_time": "2022-11-10T11:22:28.103Z"
   },
   {
    "duration": 46,
    "start_time": "2022-11-10T11:22:28.122Z"
   },
   {
    "duration": 14,
    "start_time": "2022-11-10T11:22:28.170Z"
   },
   {
    "duration": 194,
    "start_time": "2022-11-10T11:22:28.213Z"
   },
   {
    "duration": 11,
    "start_time": "2022-11-10T11:22:28.409Z"
   },
   {
    "duration": 622,
    "start_time": "2022-11-10T11:22:28.423Z"
   },
   {
    "duration": 16,
    "start_time": "2022-11-10T11:22:29.047Z"
   },
   {
    "duration": 58,
    "start_time": "2022-11-10T11:22:29.064Z"
   },
   {
    "duration": 126,
    "start_time": "2022-11-10T11:22:29.124Z"
   },
   {
    "duration": 257,
    "start_time": "2022-11-10T11:22:29.252Z"
   },
   {
    "duration": 478,
    "start_time": "2022-11-10T11:27:14.969Z"
   },
   {
    "duration": 569,
    "start_time": "2022-11-10T11:27:21.076Z"
   },
   {
    "duration": 460,
    "start_time": "2022-11-10T11:27:31.949Z"
   },
   {
    "duration": 758,
    "start_time": "2022-11-10T11:29:16.907Z"
   },
   {
    "duration": 756,
    "start_time": "2022-11-10T11:29:32.214Z"
   },
   {
    "duration": 418,
    "start_time": "2022-11-10T11:30:02.442Z"
   },
   {
    "duration": 796,
    "start_time": "2022-11-10T11:30:08.563Z"
   },
   {
    "duration": 717,
    "start_time": "2022-11-10T11:30:14.548Z"
   },
   {
    "duration": 762,
    "start_time": "2022-11-10T11:30:18.431Z"
   },
   {
    "duration": 759,
    "start_time": "2022-11-10T11:30:21.100Z"
   },
   {
    "duration": 192,
    "start_time": "2022-11-10T11:31:36.815Z"
   },
   {
    "duration": 169,
    "start_time": "2022-11-10T11:31:46.871Z"
   },
   {
    "duration": 246,
    "start_time": "2022-11-10T11:31:50.447Z"
   },
   {
    "duration": 354,
    "start_time": "2022-11-10T11:31:56.009Z"
   },
   {
    "duration": 27,
    "start_time": "2022-11-10T11:33:45.049Z"
   },
   {
    "duration": 0,
    "start_time": "2022-11-10T11:34:35.015Z"
   },
   {
    "duration": 774,
    "start_time": "2022-11-10T11:37:21.226Z"
   },
   {
    "duration": 913,
    "start_time": "2022-11-10T11:38:40.289Z"
   },
   {
    "duration": 77,
    "start_time": "2022-11-10T11:38:52.909Z"
   },
   {
    "duration": 835,
    "start_time": "2022-11-10T11:38:54.751Z"
   },
   {
    "duration": 781,
    "start_time": "2022-11-10T11:39:15.201Z"
   },
   {
    "duration": 800,
    "start_time": "2022-11-10T11:40:12.185Z"
   },
   {
    "duration": 816,
    "start_time": "2022-11-10T11:40:24.093Z"
   },
   {
    "duration": 783,
    "start_time": "2022-11-10T11:57:41.625Z"
   },
   {
    "duration": 758,
    "start_time": "2022-11-10T11:57:46.825Z"
   },
   {
    "duration": 798,
    "start_time": "2022-11-10T11:57:54.891Z"
   },
   {
    "duration": 797,
    "start_time": "2022-11-10T12:00:27.534Z"
   },
   {
    "duration": 4,
    "start_time": "2022-11-10T12:06:24.787Z"
   },
   {
    "duration": 1158,
    "start_time": "2022-11-10T12:06:31.064Z"
   },
   {
    "duration": 402,
    "start_time": "2022-11-10T12:06:32.224Z"
   },
   {
    "duration": 5,
    "start_time": "2022-11-10T12:06:32.627Z"
   },
   {
    "duration": 984,
    "start_time": "2022-11-10T12:06:32.634Z"
   },
   {
    "duration": 20,
    "start_time": "2022-11-10T12:06:33.621Z"
   },
   {
    "duration": 79,
    "start_time": "2022-11-10T12:06:33.643Z"
   },
   {
    "duration": 15,
    "start_time": "2022-11-10T12:06:33.723Z"
   },
   {
    "duration": 266,
    "start_time": "2022-11-10T12:06:33.739Z"
   },
   {
    "duration": 15,
    "start_time": "2022-11-10T12:06:34.008Z"
   },
   {
    "duration": 979,
    "start_time": "2022-11-10T12:06:34.025Z"
   },
   {
    "duration": 18,
    "start_time": "2022-11-10T12:06:35.005Z"
   },
   {
    "duration": 87,
    "start_time": "2022-11-10T12:06:35.025Z"
   },
   {
    "duration": 184,
    "start_time": "2022-11-10T12:06:35.114Z"
   },
   {
    "duration": 801,
    "start_time": "2022-11-10T12:06:35.301Z"
   },
   {
    "duration": 330,
    "start_time": "2022-11-10T12:08:39.806Z"
   },
   {
    "duration": 776,
    "start_time": "2022-11-10T12:08:52.981Z"
   },
   {
    "duration": 841,
    "start_time": "2022-11-10T12:09:05.517Z"
   },
   {
    "duration": 762,
    "start_time": "2022-11-10T12:09:55.076Z"
   },
   {
    "duration": 6,
    "start_time": "2022-11-10T12:40:26.166Z"
   },
   {
    "duration": 848,
    "start_time": "2022-11-10T14:28:40.455Z"
   },
   {
    "duration": 738,
    "start_time": "2022-11-10T14:28:48.871Z"
   },
   {
    "duration": 12,
    "start_time": "2022-11-10T14:32:20.889Z"
   },
   {
    "duration": 1105,
    "start_time": "2022-11-10T14:39:04.924Z"
   },
   {
    "duration": 334,
    "start_time": "2022-11-10T14:39:06.030Z"
   },
   {
    "duration": 4,
    "start_time": "2022-11-10T14:39:06.366Z"
   },
   {
    "duration": 761,
    "start_time": "2022-11-10T14:39:06.372Z"
   },
   {
    "duration": 20,
    "start_time": "2022-11-10T14:39:07.136Z"
   },
   {
    "duration": 17,
    "start_time": "2022-11-10T14:39:07.157Z"
   },
   {
    "duration": 66,
    "start_time": "2022-11-10T14:39:07.176Z"
   },
   {
    "duration": 15,
    "start_time": "2022-11-10T14:39:07.244Z"
   },
   {
    "duration": 243,
    "start_time": "2022-11-10T14:39:07.260Z"
   },
   {
    "duration": 10,
    "start_time": "2022-11-10T14:39:07.505Z"
   },
   {
    "duration": 699,
    "start_time": "2022-11-10T14:39:07.517Z"
   },
   {
    "duration": 17,
    "start_time": "2022-11-10T14:39:08.218Z"
   },
   {
    "duration": 45,
    "start_time": "2022-11-10T14:39:08.238Z"
   },
   {
    "duration": 133,
    "start_time": "2022-11-10T14:39:08.285Z"
   },
   {
    "duration": 719,
    "start_time": "2022-11-10T14:39:08.420Z"
   },
   {
    "duration": 103,
    "start_time": "2022-11-10T14:39:09.140Z"
   },
   {
    "duration": 1035,
    "start_time": "2022-11-10T14:39:46.946Z"
   },
   {
    "duration": 322,
    "start_time": "2022-11-10T14:39:47.982Z"
   },
   {
    "duration": 5,
    "start_time": "2022-11-10T14:39:48.306Z"
   },
   {
    "duration": 746,
    "start_time": "2022-11-10T14:39:48.312Z"
   },
   {
    "duration": 4,
    "start_time": "2022-11-10T14:39:52.368Z"
   },
   {
    "duration": 16,
    "start_time": "2022-11-10T14:39:56.854Z"
   },
   {
    "duration": 49,
    "start_time": "2022-11-10T14:39:58.309Z"
   },
   {
    "duration": 14,
    "start_time": "2022-11-10T14:40:06.035Z"
   },
   {
    "duration": 167,
    "start_time": "2022-11-10T14:40:26.624Z"
   },
   {
    "duration": 62,
    "start_time": "2022-11-10T14:41:02.282Z"
   },
   {
    "duration": 1141,
    "start_time": "2022-11-10T14:42:57.860Z"
   },
   {
    "duration": 326,
    "start_time": "2022-11-10T14:42:59.003Z"
   },
   {
    "duration": 5,
    "start_time": "2022-11-10T14:42:59.330Z"
   },
   {
    "duration": 742,
    "start_time": "2022-11-10T14:42:59.336Z"
   },
   {
    "duration": 4,
    "start_time": "2022-11-10T14:43:00.080Z"
   },
   {
    "duration": 37,
    "start_time": "2022-11-10T14:43:00.086Z"
   },
   {
    "duration": 63,
    "start_time": "2022-11-10T14:43:00.125Z"
   },
   {
    "duration": 15,
    "start_time": "2022-11-10T14:43:00.189Z"
   },
   {
    "duration": 212,
    "start_time": "2022-11-10T14:43:03.588Z"
   },
   {
    "duration": 12,
    "start_time": "2022-11-10T14:43:12.429Z"
   },
   {
    "duration": 677,
    "start_time": "2022-11-10T14:43:22.710Z"
   },
   {
    "duration": 15,
    "start_time": "2022-11-10T14:44:06.285Z"
   },
   {
    "duration": 53,
    "start_time": "2022-11-10T14:44:07.413Z"
   },
   {
    "duration": 110,
    "start_time": "2022-11-10T14:44:11.276Z"
   },
   {
    "duration": 855,
    "start_time": "2022-11-10T14:44:13.392Z"
   },
   {
    "duration": 6,
    "start_time": "2022-11-10T14:44:30.599Z"
   },
   {
    "duration": 306,
    "start_time": "2022-11-10T14:46:51.182Z"
   },
   {
    "duration": 214,
    "start_time": "2022-11-10T14:46:58.229Z"
   },
   {
    "duration": 209,
    "start_time": "2022-11-10T14:47:13.822Z"
   },
   {
    "duration": 293,
    "start_time": "2022-11-10T14:47:16.557Z"
   },
   {
    "duration": 778,
    "start_time": "2022-11-10T14:48:02.280Z"
   },
   {
    "duration": 768,
    "start_time": "2022-11-10T14:48:15.089Z"
   },
   {
    "duration": 696,
    "start_time": "2022-11-10T14:52:49.041Z"
   },
   {
    "duration": 13,
    "start_time": "2022-11-10T15:02:36.198Z"
   },
   {
    "duration": 11,
    "start_time": "2022-11-10T15:02:49.266Z"
   },
   {
    "duration": 6,
    "start_time": "2022-11-10T15:04:26.438Z"
   },
   {
    "duration": 168,
    "start_time": "2022-11-10T15:10:15.102Z"
   },
   {
    "duration": 128,
    "start_time": "2022-11-10T15:13:16.659Z"
   },
   {
    "duration": 139,
    "start_time": "2022-11-10T15:13:26.615Z"
   },
   {
    "duration": 9,
    "start_time": "2022-11-10T15:13:38.655Z"
   },
   {
    "duration": 10,
    "start_time": "2022-11-10T15:14:31.626Z"
   },
   {
    "duration": 12,
    "start_time": "2022-11-10T15:14:40.191Z"
   },
   {
    "duration": 204,
    "start_time": "2022-11-10T15:15:07.171Z"
   },
   {
    "duration": 119,
    "start_time": "2022-11-10T15:15:17.021Z"
   },
   {
    "duration": 113,
    "start_time": "2022-11-10T15:15:30.070Z"
   },
   {
    "duration": 108,
    "start_time": "2022-11-10T15:15:41.048Z"
   },
   {
    "duration": 111,
    "start_time": "2022-11-10T15:15:44.736Z"
   },
   {
    "duration": 11,
    "start_time": "2022-11-10T15:16:02.184Z"
   },
   {
    "duration": 126,
    "start_time": "2022-11-10T15:16:09.300Z"
   },
   {
    "duration": 114,
    "start_time": "2022-11-10T15:16:12.719Z"
   },
   {
    "duration": 121,
    "start_time": "2022-11-10T15:16:29.658Z"
   },
   {
    "duration": 12,
    "start_time": "2022-11-10T15:16:54.416Z"
   },
   {
    "duration": 10,
    "start_time": "2022-11-10T15:17:09.743Z"
   },
   {
    "duration": 9,
    "start_time": "2022-11-10T15:17:15.242Z"
   },
   {
    "duration": 135,
    "start_time": "2022-11-10T15:17:22.306Z"
   },
   {
    "duration": 115,
    "start_time": "2022-11-10T15:17:29.514Z"
   },
   {
    "duration": 7,
    "start_time": "2022-11-10T15:18:39.591Z"
   },
   {
    "duration": 13,
    "start_time": "2022-11-10T15:25:48.125Z"
   },
   {
    "duration": 126,
    "start_time": "2022-11-10T15:26:32.709Z"
   },
   {
    "duration": 17,
    "start_time": "2022-11-10T15:33:50.512Z"
   },
   {
    "duration": 57,
    "start_time": "2022-11-10T15:34:09.541Z"
   },
   {
    "duration": 55,
    "start_time": "2022-11-10T15:34:13.481Z"
   },
   {
    "duration": 130,
    "start_time": "2022-11-10T15:35:00.936Z"
   },
   {
    "duration": 10,
    "start_time": "2022-11-10T15:37:47.692Z"
   },
   {
    "duration": 367,
    "start_time": "2022-11-10T17:23:30.686Z"
   },
   {
    "duration": 15,
    "start_time": "2022-11-10T17:30:00.741Z"
   },
   {
    "duration": 1381,
    "start_time": "2022-11-11T08:02:16.893Z"
   },
   {
    "duration": 1479,
    "start_time": "2022-11-11T08:02:18.277Z"
   },
   {
    "duration": 4,
    "start_time": "2022-11-11T08:02:19.757Z"
   },
   {
    "duration": 720,
    "start_time": "2022-11-11T08:02:19.763Z"
   },
   {
    "duration": 4,
    "start_time": "2022-11-11T08:02:20.484Z"
   },
   {
    "duration": 53,
    "start_time": "2022-11-11T08:02:20.490Z"
   },
   {
    "duration": 45,
    "start_time": "2022-11-11T08:02:20.545Z"
   },
   {
    "duration": 15,
    "start_time": "2022-11-11T08:02:20.592Z"
   },
   {
    "duration": 200,
    "start_time": "2022-11-11T08:02:20.608Z"
   },
   {
    "duration": 9,
    "start_time": "2022-11-11T08:02:20.810Z"
   },
   {
    "duration": 678,
    "start_time": "2022-11-11T08:02:20.820Z"
   },
   {
    "duration": 16,
    "start_time": "2022-11-11T08:02:21.500Z"
   },
   {
    "duration": 65,
    "start_time": "2022-11-11T08:02:21.517Z"
   },
   {
    "duration": 118,
    "start_time": "2022-11-11T08:02:21.584Z"
   },
   {
    "duration": 802,
    "start_time": "2022-11-11T08:02:21.704Z"
   },
   {
    "duration": 6,
    "start_time": "2022-11-11T08:02:22.507Z"
   },
   {
    "duration": 6,
    "start_time": "2022-11-11T08:02:22.515Z"
   },
   {
    "duration": 128,
    "start_time": "2022-11-11T08:02:22.523Z"
   },
   {
    "duration": 688,
    "start_time": "2022-11-11T08:02:22.653Z"
   },
   {
    "duration": 20,
    "start_time": "2022-11-11T08:02:23.343Z"
   },
   {
    "duration": 72,
    "start_time": "2022-11-11T08:02:23.364Z"
   },
   {
    "duration": 124,
    "start_time": "2022-11-11T08:02:23.438Z"
   },
   {
    "duration": 9,
    "start_time": "2022-11-11T08:02:23.564Z"
   },
   {
    "duration": 12,
    "start_time": "2022-11-11T08:02:39.274Z"
   },
   {
    "duration": 12,
    "start_time": "2022-11-11T08:03:42.470Z"
   },
   {
    "duration": 5,
    "start_time": "2022-11-11T08:06:09.430Z"
   },
   {
    "duration": 3,
    "start_time": "2022-11-11T08:07:34.266Z"
   },
   {
    "duration": 11,
    "start_time": "2022-11-11T08:12:01.984Z"
   },
   {
    "duration": 18,
    "start_time": "2022-11-11T08:27:23.555Z"
   },
   {
    "duration": 5,
    "start_time": "2022-11-11T08:27:43.969Z"
   },
   {
    "duration": 10,
    "start_time": "2022-11-11T08:28:23.871Z"
   },
   {
    "duration": 13,
    "start_time": "2022-11-11T08:28:39.348Z"
   },
   {
    "duration": 7,
    "start_time": "2022-11-11T08:29:00.548Z"
   },
   {
    "duration": 11,
    "start_time": "2022-11-11T08:29:25.016Z"
   },
   {
    "duration": 1285,
    "start_time": "2022-11-11T08:29:48.662Z"
   },
   {
    "duration": 339,
    "start_time": "2022-11-11T08:29:49.949Z"
   },
   {
    "duration": 4,
    "start_time": "2022-11-11T08:29:50.290Z"
   },
   {
    "duration": 698,
    "start_time": "2022-11-11T08:29:50.295Z"
   },
   {
    "duration": 5,
    "start_time": "2022-11-11T08:29:50.995Z"
   },
   {
    "duration": 25,
    "start_time": "2022-11-11T08:29:51.001Z"
   },
   {
    "duration": 52,
    "start_time": "2022-11-11T08:29:51.028Z"
   },
   {
    "duration": 13,
    "start_time": "2022-11-11T08:29:51.082Z"
   },
   {
    "duration": 195,
    "start_time": "2022-11-11T08:29:51.097Z"
   },
   {
    "duration": 10,
    "start_time": "2022-11-11T08:29:51.293Z"
   },
   {
    "duration": 666,
    "start_time": "2022-11-11T08:29:51.305Z"
   },
   {
    "duration": 16,
    "start_time": "2022-11-11T08:29:51.973Z"
   },
   {
    "duration": 47,
    "start_time": "2022-11-11T08:29:51.991Z"
   },
   {
    "duration": 136,
    "start_time": "2022-11-11T08:29:52.040Z"
   },
   {
    "duration": 825,
    "start_time": "2022-11-11T08:29:52.178Z"
   },
   {
    "duration": 7,
    "start_time": "2022-11-11T08:29:53.005Z"
   },
   {
    "duration": 10,
    "start_time": "2022-11-11T08:29:53.013Z"
   },
   {
    "duration": 120,
    "start_time": "2022-11-11T08:29:53.025Z"
   },
   {
    "duration": 680,
    "start_time": "2022-11-11T08:29:53.146Z"
   },
   {
    "duration": 14,
    "start_time": "2022-11-11T08:29:53.828Z"
   },
   {
    "duration": 51,
    "start_time": "2022-11-11T08:29:53.843Z"
   },
   {
    "duration": 122,
    "start_time": "2022-11-11T08:29:53.896Z"
   },
   {
    "duration": 9,
    "start_time": "2022-11-11T08:29:54.020Z"
   },
   {
    "duration": 27,
    "start_time": "2022-11-11T08:29:54.031Z"
   },
   {
    "duration": 4,
    "start_time": "2022-11-11T08:29:54.060Z"
   },
   {
    "duration": 10,
    "start_time": "2022-11-11T08:29:56.578Z"
   },
   {
    "duration": 101,
    "start_time": "2022-11-11T08:46:38.173Z"
   },
   {
    "duration": 10,
    "start_time": "2022-11-11T08:48:02.040Z"
   },
   {
    "duration": 10,
    "start_time": "2022-11-11T08:50:56.508Z"
   },
   {
    "duration": 17,
    "start_time": "2022-11-11T08:51:09.242Z"
   },
   {
    "duration": 5,
    "start_time": "2022-11-11T08:52:40.231Z"
   },
   {
    "duration": 45,
    "start_time": "2022-11-11T08:53:10.857Z"
   },
   {
    "duration": 5,
    "start_time": "2022-11-11T08:54:53.641Z"
   },
   {
    "duration": 10,
    "start_time": "2022-11-11T08:55:38.784Z"
   },
   {
    "duration": 5,
    "start_time": "2022-11-11T08:55:57.344Z"
   },
   {
    "duration": 53,
    "start_time": "2022-11-11T08:56:24.521Z"
   },
   {
    "duration": 42,
    "start_time": "2022-11-11T08:56:37.067Z"
   },
   {
    "duration": 5,
    "start_time": "2022-11-11T08:57:02.199Z"
   },
   {
    "duration": 5,
    "start_time": "2022-11-11T08:57:28.540Z"
   },
   {
    "duration": 7,
    "start_time": "2022-11-11T09:06:22.677Z"
   },
   {
    "duration": 6,
    "start_time": "2022-11-11T09:08:59.067Z"
   },
   {
    "duration": 9,
    "start_time": "2022-11-11T09:22:15.318Z"
   },
   {
    "duration": 12,
    "start_time": "2022-11-11T09:22:21.878Z"
   },
   {
    "duration": 5,
    "start_time": "2022-11-11T09:22:23.265Z"
   },
   {
    "duration": 14,
    "start_time": "2022-11-11T09:22:24.579Z"
   },
   {
    "duration": 12,
    "start_time": "2022-11-11T09:22:25.359Z"
   },
   {
    "duration": 4,
    "start_time": "2022-11-11T09:22:36.812Z"
   },
   {
    "duration": 5,
    "start_time": "2022-11-11T09:25:07.002Z"
   },
   {
    "duration": 14,
    "start_time": "2022-11-11T09:27:56.907Z"
   },
   {
    "duration": 4,
    "start_time": "2022-11-11T09:27:59.791Z"
   },
   {
    "duration": 12,
    "start_time": "2022-11-11T09:28:01.500Z"
   },
   {
    "duration": 10,
    "start_time": "2022-11-11T09:28:36.162Z"
   },
   {
    "duration": 4,
    "start_time": "2022-11-11T09:28:47.772Z"
   },
   {
    "duration": 6,
    "start_time": "2022-11-11T09:29:22.744Z"
   },
   {
    "duration": 4,
    "start_time": "2022-11-11T09:46:28.941Z"
   },
   {
    "duration": 4,
    "start_time": "2022-11-11T09:58:40.839Z"
   },
   {
    "duration": 4,
    "start_time": "2022-11-11T09:59:15.116Z"
   },
   {
    "duration": 4,
    "start_time": "2022-11-11T10:00:10.811Z"
   },
   {
    "duration": 4,
    "start_time": "2022-11-11T10:05:50.529Z"
   },
   {
    "duration": 4,
    "start_time": "2022-11-11T10:07:48.032Z"
   },
   {
    "duration": 3,
    "start_time": "2022-11-11T10:21:36.676Z"
   },
   {
    "duration": 4,
    "start_time": "2022-11-11T10:44:44.409Z"
   },
   {
    "duration": 5,
    "start_time": "2022-11-11T10:44:54.914Z"
   },
   {
    "duration": 7,
    "start_time": "2022-11-11T10:45:27.555Z"
   },
   {
    "duration": 3,
    "start_time": "2022-11-11T10:48:10.211Z"
   },
   {
    "duration": 7,
    "start_time": "2022-11-11T10:48:18.164Z"
   },
   {
    "duration": 1321,
    "start_time": "2022-11-11T10:49:44.024Z"
   },
   {
    "duration": 348,
    "start_time": "2022-11-11T10:49:45.347Z"
   },
   {
    "duration": 5,
    "start_time": "2022-11-11T10:49:45.696Z"
   },
   {
    "duration": 717,
    "start_time": "2022-11-11T10:49:45.703Z"
   },
   {
    "duration": 4,
    "start_time": "2022-11-11T10:49:46.421Z"
   },
   {
    "duration": 23,
    "start_time": "2022-11-11T10:49:46.427Z"
   },
   {
    "duration": 52,
    "start_time": "2022-11-11T10:49:46.459Z"
   },
   {
    "duration": 15,
    "start_time": "2022-11-11T10:49:46.512Z"
   },
   {
    "duration": 223,
    "start_time": "2022-11-11T10:49:46.529Z"
   },
   {
    "duration": 10,
    "start_time": "2022-11-11T10:49:46.758Z"
   },
   {
    "duration": 679,
    "start_time": "2022-11-11T10:49:46.769Z"
   },
   {
    "duration": 16,
    "start_time": "2022-11-11T10:49:47.449Z"
   },
   {
    "duration": 41,
    "start_time": "2022-11-11T10:49:47.466Z"
   },
   {
    "duration": 128,
    "start_time": "2022-11-11T10:49:47.509Z"
   },
   {
    "duration": 854,
    "start_time": "2022-11-11T10:49:47.639Z"
   },
   {
    "duration": 6,
    "start_time": "2022-11-11T10:49:48.494Z"
   },
   {
    "duration": 10,
    "start_time": "2022-11-11T10:49:48.501Z"
   },
   {
    "duration": 115,
    "start_time": "2022-11-11T10:49:48.512Z"
   },
   {
    "duration": 709,
    "start_time": "2022-11-11T10:49:48.628Z"
   },
   {
    "duration": 22,
    "start_time": "2022-11-11T10:49:49.339Z"
   },
   {
    "duration": 42,
    "start_time": "2022-11-11T10:49:49.362Z"
   },
   {
    "duration": 127,
    "start_time": "2022-11-11T10:49:49.405Z"
   },
   {
    "duration": 9,
    "start_time": "2022-11-11T10:49:49.534Z"
   },
   {
    "duration": 23,
    "start_time": "2022-11-11T10:49:49.545Z"
   },
   {
    "duration": 5,
    "start_time": "2022-11-11T10:49:49.569Z"
   },
   {
    "duration": 12,
    "start_time": "2022-11-11T10:49:49.575Z"
   },
   {
    "duration": 8,
    "start_time": "2022-11-11T10:49:49.589Z"
   },
   {
    "duration": 11,
    "start_time": "2022-11-11T10:49:49.658Z"
   },
   {
    "duration": 94,
    "start_time": "2022-11-11T10:49:49.671Z"
   },
   {
    "duration": 13,
    "start_time": "2022-11-11T10:49:49.767Z"
   },
   {
    "duration": 5,
    "start_time": "2022-11-11T10:49:49.781Z"
   },
   {
    "duration": 12,
    "start_time": "2022-11-11T10:49:49.787Z"
   },
   {
    "duration": 61,
    "start_time": "2022-11-11T10:49:49.800Z"
   },
   {
    "duration": 98,
    "start_time": "2022-11-11T10:49:49.864Z"
   },
   {
    "duration": 8,
    "start_time": "2022-11-11T10:49:49.964Z"
   },
   {
    "duration": 14,
    "start_time": "2022-11-11T10:49:49.974Z"
   },
   {
    "duration": 4,
    "start_time": "2022-11-11T10:49:49.989Z"
   },
   {
    "duration": 13,
    "start_time": "2022-11-11T10:49:49.995Z"
   },
   {
    "duration": 49,
    "start_time": "2022-11-11T10:49:50.010Z"
   },
   {
    "duration": 5,
    "start_time": "2022-11-11T10:49:50.060Z"
   },
   {
    "duration": 105,
    "start_time": "2022-11-11T10:49:50.067Z"
   },
   {
    "duration": 4,
    "start_time": "2022-11-11T10:51:16.457Z"
   },
   {
    "duration": 6,
    "start_time": "2022-11-11T10:51:17.960Z"
   },
   {
    "duration": 1331,
    "start_time": "2022-11-11T10:51:59.943Z"
   },
   {
    "duration": 356,
    "start_time": "2022-11-11T10:52:01.276Z"
   },
   {
    "duration": 5,
    "start_time": "2022-11-11T10:52:01.633Z"
   },
   {
    "duration": 760,
    "start_time": "2022-11-11T10:52:01.640Z"
   },
   {
    "duration": 6,
    "start_time": "2022-11-11T10:52:02.403Z"
   },
   {
    "duration": 34,
    "start_time": "2022-11-11T10:52:02.410Z"
   },
   {
    "duration": 75,
    "start_time": "2022-11-11T10:52:02.446Z"
   },
   {
    "duration": 16,
    "start_time": "2022-11-11T10:52:02.522Z"
   },
   {
    "duration": 224,
    "start_time": "2022-11-11T10:52:02.540Z"
   },
   {
    "duration": 11,
    "start_time": "2022-11-11T10:52:02.765Z"
   },
   {
    "duration": 696,
    "start_time": "2022-11-11T10:52:02.777Z"
   },
   {
    "duration": 15,
    "start_time": "2022-11-11T10:52:03.475Z"
   },
   {
    "duration": 46,
    "start_time": "2022-11-11T10:52:03.492Z"
   },
   {
    "duration": 117,
    "start_time": "2022-11-11T10:52:03.561Z"
   },
   {
    "duration": 827,
    "start_time": "2022-11-11T10:52:03.680Z"
   },
   {
    "duration": 7,
    "start_time": "2022-11-11T10:52:04.508Z"
   },
   {
    "duration": 9,
    "start_time": "2022-11-11T10:52:04.517Z"
   },
   {
    "duration": 139,
    "start_time": "2022-11-11T10:52:04.528Z"
   },
   {
    "duration": 828,
    "start_time": "2022-11-11T10:52:04.669Z"
   },
   {
    "duration": 14,
    "start_time": "2022-11-11T10:52:05.498Z"
   },
   {
    "duration": 86,
    "start_time": "2022-11-11T10:52:05.514Z"
   },
   {
    "duration": 117,
    "start_time": "2022-11-11T10:52:05.601Z"
   },
   {
    "duration": 9,
    "start_time": "2022-11-11T10:52:05.720Z"
   },
   {
    "duration": 15,
    "start_time": "2022-11-11T10:52:05.730Z"
   },
   {
    "duration": 5,
    "start_time": "2022-11-11T10:52:05.759Z"
   },
   {
    "duration": 11,
    "start_time": "2022-11-11T10:52:05.766Z"
   },
   {
    "duration": 14,
    "start_time": "2022-11-11T10:52:05.779Z"
   },
   {
    "duration": 6,
    "start_time": "2022-11-11T10:52:05.860Z"
   },
   {
    "duration": 97,
    "start_time": "2022-11-11T10:52:05.868Z"
   },
   {
    "duration": 17,
    "start_time": "2022-11-11T10:52:05.967Z"
   },
   {
    "duration": 7,
    "start_time": "2022-11-11T10:52:05.985Z"
   },
   {
    "duration": 14,
    "start_time": "2022-11-11T10:52:05.993Z"
   },
   {
    "duration": 51,
    "start_time": "2022-11-11T10:52:06.008Z"
   },
   {
    "duration": 99,
    "start_time": "2022-11-11T10:52:06.061Z"
   },
   {
    "duration": 9,
    "start_time": "2022-11-11T10:52:06.162Z"
   },
   {
    "duration": 21,
    "start_time": "2022-11-11T10:52:06.172Z"
   },
   {
    "duration": 8,
    "start_time": "2022-11-11T10:52:06.195Z"
   },
   {
    "duration": 18,
    "start_time": "2022-11-11T10:52:06.204Z"
   },
   {
    "duration": 42,
    "start_time": "2022-11-11T10:52:06.224Z"
   },
   {
    "duration": 90,
    "start_time": "2022-11-11T10:52:06.269Z"
   },
   {
    "duration": 5,
    "start_time": "2022-11-11T10:52:06.363Z"
   },
   {
    "duration": 4,
    "start_time": "2022-11-11T10:52:08.436Z"
   },
   {
    "duration": 7,
    "start_time": "2022-11-11T10:52:09.348Z"
   },
   {
    "duration": 7,
    "start_time": "2022-11-11T10:52:16.319Z"
   },
   {
    "duration": 4,
    "start_time": "2022-11-11T10:58:23.797Z"
   },
   {
    "duration": 7,
    "start_time": "2022-11-11T10:58:29.931Z"
   },
   {
    "duration": 7,
    "start_time": "2022-11-11T10:58:34.791Z"
   },
   {
    "duration": 5,
    "start_time": "2022-11-11T10:58:40.692Z"
   },
   {
    "duration": 6,
    "start_time": "2022-11-11T10:58:43.586Z"
   },
   {
    "duration": 7,
    "start_time": "2022-11-11T10:58:47.517Z"
   },
   {
    "duration": 6,
    "start_time": "2022-11-11T10:58:53.350Z"
   },
   {
    "duration": 1351,
    "start_time": "2022-11-11T11:16:57.760Z"
   },
   {
    "duration": 360,
    "start_time": "2022-11-11T11:16:59.113Z"
   },
   {
    "duration": 5,
    "start_time": "2022-11-11T11:16:59.474Z"
   },
   {
    "duration": 771,
    "start_time": "2022-11-11T11:16:59.480Z"
   },
   {
    "duration": 6,
    "start_time": "2022-11-11T11:17:00.253Z"
   },
   {
    "duration": 33,
    "start_time": "2022-11-11T11:17:00.260Z"
   },
   {
    "duration": 74,
    "start_time": "2022-11-11T11:17:00.295Z"
   },
   {
    "duration": 27,
    "start_time": "2022-11-11T11:17:00.371Z"
   },
   {
    "duration": 237,
    "start_time": "2022-11-11T11:17:00.400Z"
   },
   {
    "duration": 10,
    "start_time": "2022-11-11T11:17:00.639Z"
   },
   {
    "duration": 777,
    "start_time": "2022-11-11T11:17:00.651Z"
   },
   {
    "duration": 16,
    "start_time": "2022-11-11T11:17:01.430Z"
   },
   {
    "duration": 49,
    "start_time": "2022-11-11T11:17:01.459Z"
   },
   {
    "duration": 134,
    "start_time": "2022-11-11T11:17:01.512Z"
   },
   {
    "duration": 854,
    "start_time": "2022-11-11T11:17:01.648Z"
   },
   {
    "duration": 6,
    "start_time": "2022-11-11T11:17:02.503Z"
   },
   {
    "duration": 11,
    "start_time": "2022-11-11T11:17:02.510Z"
   },
   {
    "duration": 138,
    "start_time": "2022-11-11T11:17:02.522Z"
   },
   {
    "duration": 747,
    "start_time": "2022-11-11T11:17:02.662Z"
   },
   {
    "duration": 17,
    "start_time": "2022-11-11T11:17:03.411Z"
   },
   {
    "duration": 76,
    "start_time": "2022-11-11T11:17:03.429Z"
   },
   {
    "duration": 133,
    "start_time": "2022-11-11T11:17:03.507Z"
   },
   {
    "duration": 9,
    "start_time": "2022-11-11T11:17:03.642Z"
   },
   {
    "duration": 10,
    "start_time": "2022-11-11T11:17:03.659Z"
   },
   {
    "duration": 6,
    "start_time": "2022-11-11T11:17:03.671Z"
   },
   {
    "duration": 16,
    "start_time": "2022-11-11T11:17:03.679Z"
   },
   {
    "duration": 66,
    "start_time": "2022-11-11T11:17:03.696Z"
   },
   {
    "duration": 6,
    "start_time": "2022-11-11T11:17:03.764Z"
   },
   {
    "duration": 16,
    "start_time": "2022-11-11T11:17:03.858Z"
   },
   {
    "duration": 17,
    "start_time": "2022-11-11T11:17:03.875Z"
   },
   {
    "duration": 6,
    "start_time": "2022-11-11T11:17:03.894Z"
   },
   {
    "duration": 16,
    "start_time": "2022-11-11T11:17:03.901Z"
   },
   {
    "duration": 9,
    "start_time": "2022-11-11T11:17:03.918Z"
   },
   {
    "duration": 13,
    "start_time": "2022-11-11T11:17:03.960Z"
   },
   {
    "duration": 10,
    "start_time": "2022-11-11T11:17:04.059Z"
   },
   {
    "duration": 18,
    "start_time": "2022-11-11T11:17:04.071Z"
   },
   {
    "duration": 5,
    "start_time": "2022-11-11T11:17:04.091Z"
   },
   {
    "duration": 15,
    "start_time": "2022-11-11T11:17:04.098Z"
   },
   {
    "duration": 9,
    "start_time": "2022-11-11T11:17:04.116Z"
   },
   {
    "duration": 9,
    "start_time": "2022-11-11T11:17:04.160Z"
   },
   {
    "duration": 90,
    "start_time": "2022-11-11T11:17:04.174Z"
   },
   {
    "duration": 4,
    "start_time": "2022-11-11T11:17:04.266Z"
   },
   {
    "duration": 35,
    "start_time": "2022-11-11T11:17:04.271Z"
   },
   {
    "duration": 13,
    "start_time": "2022-11-11T11:17:04.308Z"
   },
   {
    "duration": 13,
    "start_time": "2022-11-11T11:17:04.323Z"
   },
   {
    "duration": 3,
    "start_time": "2022-11-11T11:28:38.647Z"
   },
   {
    "duration": 4,
    "start_time": "2022-11-11T11:28:39.755Z"
   },
   {
    "duration": 4,
    "start_time": "2022-11-11T11:38:07.003Z"
   },
   {
    "duration": 4,
    "start_time": "2022-11-11T11:42:34.744Z"
   },
   {
    "duration": 3,
    "start_time": "2022-11-11T11:49:01.702Z"
   },
   {
    "duration": 49,
    "start_time": "2022-11-11T11:55:21.722Z"
   },
   {
    "duration": 4,
    "start_time": "2022-11-11T11:55:25.755Z"
   },
   {
    "duration": 4,
    "start_time": "2022-11-11T11:55:28.850Z"
   },
   {
    "duration": 1301,
    "start_time": "2022-11-11T12:03:26.753Z"
   },
   {
    "duration": 1276,
    "start_time": "2022-11-11T12:04:52.953Z"
   },
   {
    "duration": 1238,
    "start_time": "2022-11-11T12:05:11.528Z"
   },
   {
    "duration": 1231,
    "start_time": "2022-11-11T12:05:25.379Z"
   },
   {
    "duration": 1227,
    "start_time": "2022-11-11T12:05:31.658Z"
   },
   {
    "duration": 1233,
    "start_time": "2022-11-11T12:05:40.953Z"
   },
   {
    "duration": 1201,
    "start_time": "2022-11-11T12:06:18.449Z"
   },
   {
    "duration": 1264,
    "start_time": "2022-11-11T12:06:33.823Z"
   },
   {
    "duration": 1369,
    "start_time": "2022-11-11T12:09:20.884Z"
   },
   {
    "duration": 369,
    "start_time": "2022-11-11T12:09:22.255Z"
   },
   {
    "duration": 5,
    "start_time": "2022-11-11T12:09:22.626Z"
   },
   {
    "duration": 748,
    "start_time": "2022-11-11T12:09:22.633Z"
   },
   {
    "duration": 5,
    "start_time": "2022-11-11T12:09:23.382Z"
   },
   {
    "duration": 20,
    "start_time": "2022-11-11T12:09:23.388Z"
   },
   {
    "duration": 66,
    "start_time": "2022-11-11T12:09:23.409Z"
   },
   {
    "duration": 14,
    "start_time": "2022-11-11T12:09:23.476Z"
   },
   {
    "duration": 206,
    "start_time": "2022-11-11T12:09:23.491Z"
   },
   {
    "duration": 10,
    "start_time": "2022-11-11T12:09:23.700Z"
   },
   {
    "duration": 733,
    "start_time": "2022-11-11T12:09:23.712Z"
   },
   {
    "duration": 25,
    "start_time": "2022-11-11T12:09:24.447Z"
   },
   {
    "duration": 74,
    "start_time": "2022-11-11T12:09:24.474Z"
   },
   {
    "duration": 178,
    "start_time": "2022-11-11T12:09:24.559Z"
   },
   {
    "duration": 852,
    "start_time": "2022-11-11T12:09:24.740Z"
   },
   {
    "duration": 5,
    "start_time": "2022-11-11T12:09:25.593Z"
   },
   {
    "duration": 14,
    "start_time": "2022-11-11T12:09:25.600Z"
   },
   {
    "duration": 116,
    "start_time": "2022-11-11T12:09:25.615Z"
   },
   {
    "duration": 714,
    "start_time": "2022-11-11T12:09:25.733Z"
   },
   {
    "duration": 14,
    "start_time": "2022-11-11T12:09:26.449Z"
   },
   {
    "duration": 43,
    "start_time": "2022-11-11T12:09:26.465Z"
   },
   {
    "duration": 141,
    "start_time": "2022-11-11T12:09:26.509Z"
   },
   {
    "duration": 14,
    "start_time": "2022-11-11T12:09:26.652Z"
   },
   {
    "duration": 14,
    "start_time": "2022-11-11T12:09:26.667Z"
   },
   {
    "duration": 4,
    "start_time": "2022-11-11T12:09:26.683Z"
   },
   {
    "duration": 13,
    "start_time": "2022-11-11T12:09:26.689Z"
   },
   {
    "duration": 56,
    "start_time": "2022-11-11T12:09:26.703Z"
   },
   {
    "duration": 95,
    "start_time": "2022-11-11T12:09:26.767Z"
   },
   {
    "duration": 6,
    "start_time": "2022-11-11T12:09:26.864Z"
   },
   {
    "duration": 16,
    "start_time": "2022-11-11T12:09:26.871Z"
   },
   {
    "duration": 6,
    "start_time": "2022-11-11T12:09:26.888Z"
   },
   {
    "duration": 18,
    "start_time": "2022-11-11T12:09:26.895Z"
   },
   {
    "duration": 49,
    "start_time": "2022-11-11T12:09:26.914Z"
   },
   {
    "duration": 94,
    "start_time": "2022-11-11T12:09:26.965Z"
   },
   {
    "duration": 7,
    "start_time": "2022-11-11T12:09:27.061Z"
   },
   {
    "duration": 13,
    "start_time": "2022-11-11T12:09:27.069Z"
   },
   {
    "duration": 5,
    "start_time": "2022-11-11T12:09:27.084Z"
   },
   {
    "duration": 18,
    "start_time": "2022-11-11T12:09:27.090Z"
   },
   {
    "duration": 50,
    "start_time": "2022-11-11T12:09:27.110Z"
   },
   {
    "duration": 99,
    "start_time": "2022-11-11T12:09:27.163Z"
   },
   {
    "duration": 11,
    "start_time": "2022-11-11T12:09:27.264Z"
   },
   {
    "duration": 4,
    "start_time": "2022-11-11T12:09:27.277Z"
   },
   {
    "duration": 6,
    "start_time": "2022-11-11T12:09:27.283Z"
   },
   {
    "duration": 6,
    "start_time": "2022-11-11T12:09:27.291Z"
   },
   {
    "duration": 5,
    "start_time": "2022-11-11T12:09:27.299Z"
   },
   {
    "duration": 5,
    "start_time": "2022-11-11T12:09:27.306Z"
   },
   {
    "duration": 1332,
    "start_time": "2022-11-11T12:09:29.982Z"
   },
   {
    "duration": 1197,
    "start_time": "2022-11-11T12:10:45.106Z"
   },
   {
    "duration": 1243,
    "start_time": "2022-11-11T12:10:49.440Z"
   },
   {
    "duration": 1252,
    "start_time": "2022-11-11T12:10:53.309Z"
   },
   {
    "duration": 1219,
    "start_time": "2022-11-11T12:10:55.702Z"
   },
   {
    "duration": 1239,
    "start_time": "2022-11-11T12:10:59.541Z"
   },
   {
    "duration": 1205,
    "start_time": "2022-11-11T12:11:02.140Z"
   },
   {
    "duration": 1178,
    "start_time": "2022-11-11T12:12:20.295Z"
   },
   {
    "duration": 1180,
    "start_time": "2022-11-11T12:12:25.426Z"
   },
   {
    "duration": 1205,
    "start_time": "2022-11-11T12:12:27.476Z"
   },
   {
    "duration": 1195,
    "start_time": "2022-11-11T12:12:30.522Z"
   },
   {
    "duration": 1233,
    "start_time": "2022-11-11T12:12:39.980Z"
   },
   {
    "duration": 1310,
    "start_time": "2022-11-11T12:12:46.624Z"
   },
   {
    "duration": 1197,
    "start_time": "2022-11-11T12:12:52.086Z"
   },
   {
    "duration": 1169,
    "start_time": "2022-11-11T12:13:00.776Z"
   },
   {
    "duration": 1179,
    "start_time": "2022-11-11T12:13:05.144Z"
   },
   {
    "duration": 1268,
    "start_time": "2022-11-11T12:13:10.375Z"
   },
   {
    "duration": 1246,
    "start_time": "2022-11-11T12:13:16.442Z"
   },
   {
    "duration": 1204,
    "start_time": "2022-11-11T12:13:40.423Z"
   },
   {
    "duration": 70,
    "start_time": "2022-11-11T12:13:45.511Z"
   },
   {
    "duration": 1281,
    "start_time": "2022-11-11T12:13:48.560Z"
   },
   {
    "duration": 817,
    "start_time": "2022-11-11T12:13:52.334Z"
   },
   {
    "duration": 664,
    "start_time": "2022-11-11T12:13:55.312Z"
   },
   {
    "duration": 1277,
    "start_time": "2022-11-11T12:13:58.252Z"
   },
   {
    "duration": 1303,
    "start_time": "2022-11-11T12:14:02.426Z"
   },
   {
    "duration": 1312,
    "start_time": "2022-11-11T12:14:07.802Z"
   },
   {
    "duration": 1272,
    "start_time": "2022-11-11T12:14:47.262Z"
   },
   {
    "duration": 1294,
    "start_time": "2022-11-11T12:30:26.285Z"
   },
   {
    "duration": 1306,
    "start_time": "2022-11-11T12:31:29.185Z"
   },
   {
    "duration": 1409,
    "start_time": "2022-11-11T12:32:44.927Z"
   },
   {
    "duration": 1346,
    "start_time": "2022-11-11T12:34:24.877Z"
   },
   {
    "duration": 1326,
    "start_time": "2022-11-11T12:34:50.437Z"
   },
   {
    "duration": 1373,
    "start_time": "2022-11-11T12:34:56.436Z"
   },
   {
    "duration": 1393,
    "start_time": "2022-11-11T12:35:04.071Z"
   },
   {
    "duration": 3,
    "start_time": "2022-11-11T13:56:50.778Z"
   },
   {
    "duration": 1178,
    "start_time": "2022-11-11T13:56:52.323Z"
   },
   {
    "duration": 1241,
    "start_time": "2022-11-11T13:56:59.520Z"
   },
   {
    "duration": 1180,
    "start_time": "2022-11-11T13:57:03.343Z"
   },
   {
    "duration": 1224,
    "start_time": "2022-11-11T13:57:06.166Z"
   },
   {
    "duration": 1180,
    "start_time": "2022-11-11T13:57:12.028Z"
   },
   {
    "duration": 1284,
    "start_time": "2022-11-11T13:57:14.244Z"
   },
   {
    "duration": 12257,
    "start_time": "2022-11-11T13:57:20.220Z"
   },
   {
    "duration": 12187,
    "start_time": "2022-11-11T13:57:34.946Z"
   },
   {
    "duration": 11948,
    "start_time": "2022-11-11T13:57:50.051Z"
   },
   {
    "duration": 12089,
    "start_time": "2022-11-11T13:58:04.699Z"
   },
   {
    "duration": 12582,
    "start_time": "2022-11-11T13:58:18.426Z"
   },
   {
    "duration": 12287,
    "start_time": "2022-11-11T13:58:34.106Z"
   },
   {
    "duration": 12345,
    "start_time": "2022-11-11T13:58:48.190Z"
   },
   {
    "duration": 12270,
    "start_time": "2022-11-11T13:59:03.536Z"
   },
   {
    "duration": 12607,
    "start_time": "2022-11-11T13:59:18.305Z"
   },
   {
    "duration": 12840,
    "start_time": "2022-11-11T13:59:33.777Z"
   },
   {
    "duration": 12383,
    "start_time": "2022-11-11T13:59:49.672Z"
   },
   {
    "duration": 12509,
    "start_time": "2022-11-11T14:00:04.835Z"
   },
   {
    "duration": 12890,
    "start_time": "2022-11-11T14:16:53.242Z"
   },
   {
    "duration": 1342,
    "start_time": "2022-11-11T14:17:12.118Z"
   },
   {
    "duration": 1318,
    "start_time": "2022-11-11T14:42:35.645Z"
   },
   {
    "duration": 368,
    "start_time": "2022-11-11T14:42:36.965Z"
   },
   {
    "duration": 5,
    "start_time": "2022-11-11T14:42:37.335Z"
   },
   {
    "duration": 789,
    "start_time": "2022-11-11T14:42:37.342Z"
   },
   {
    "duration": 5,
    "start_time": "2022-11-11T14:42:38.133Z"
   },
   {
    "duration": 29,
    "start_time": "2022-11-11T14:42:38.139Z"
   },
   {
    "duration": 45,
    "start_time": "2022-11-11T14:42:38.172Z"
   },
   {
    "duration": 13,
    "start_time": "2022-11-11T14:42:38.218Z"
   },
   {
    "duration": 236,
    "start_time": "2022-11-11T14:42:38.232Z"
   },
   {
    "duration": 12,
    "start_time": "2022-11-11T14:42:38.471Z"
   },
   {
    "duration": 747,
    "start_time": "2022-11-11T14:42:38.484Z"
   },
   {
    "duration": 27,
    "start_time": "2022-11-11T14:42:39.233Z"
   },
   {
    "duration": 53,
    "start_time": "2022-11-11T14:42:39.268Z"
   },
   {
    "duration": 120,
    "start_time": "2022-11-11T14:42:39.324Z"
   },
   {
    "duration": 867,
    "start_time": "2022-11-11T14:42:39.446Z"
   },
   {
    "duration": 6,
    "start_time": "2022-11-11T14:42:40.314Z"
   },
   {
    "duration": 7,
    "start_time": "2022-11-11T14:42:40.321Z"
   },
   {
    "duration": 150,
    "start_time": "2022-11-11T14:42:40.330Z"
   },
   {
    "duration": 729,
    "start_time": "2022-11-11T14:42:40.484Z"
   },
   {
    "duration": 16,
    "start_time": "2022-11-11T14:42:41.215Z"
   },
   {
    "duration": 63,
    "start_time": "2022-11-11T14:42:41.233Z"
   },
   {
    "duration": 121,
    "start_time": "2022-11-11T14:42:41.298Z"
   },
   {
    "duration": 9,
    "start_time": "2022-11-11T14:42:41.421Z"
   },
   {
    "duration": 34,
    "start_time": "2022-11-11T14:42:41.432Z"
   },
   {
    "duration": 5,
    "start_time": "2022-11-11T14:42:41.476Z"
   },
   {
    "duration": 13,
    "start_time": "2022-11-11T14:42:41.482Z"
   },
   {
    "duration": 67,
    "start_time": "2022-11-11T14:42:41.496Z"
   },
   {
    "duration": 98,
    "start_time": "2022-11-11T14:42:41.564Z"
   },
   {
    "duration": 22,
    "start_time": "2022-11-11T14:42:41.664Z"
   },
   {
    "duration": 13,
    "start_time": "2022-11-11T14:42:41.688Z"
   },
   {
    "duration": 5,
    "start_time": "2022-11-11T14:42:41.702Z"
   },
   {
    "duration": 13,
    "start_time": "2022-11-11T14:42:41.708Z"
   },
   {
    "duration": 52,
    "start_time": "2022-11-11T14:42:41.722Z"
   },
   {
    "duration": 88,
    "start_time": "2022-11-11T14:42:41.776Z"
   },
   {
    "duration": 14,
    "start_time": "2022-11-11T14:42:41.867Z"
   },
   {
    "duration": 15,
    "start_time": "2022-11-11T14:42:41.882Z"
   },
   {
    "duration": 4,
    "start_time": "2022-11-11T14:42:41.899Z"
   },
   {
    "duration": 13,
    "start_time": "2022-11-11T14:42:41.905Z"
   },
   {
    "duration": 44,
    "start_time": "2022-11-11T14:42:41.919Z"
   },
   {
    "duration": 13,
    "start_time": "2022-11-11T14:42:41.965Z"
   },
   {
    "duration": 16,
    "start_time": "2022-11-11T14:42:42.059Z"
   },
   {
    "duration": 12,
    "start_time": "2022-11-11T14:42:42.077Z"
   },
   {
    "duration": 8,
    "start_time": "2022-11-11T14:42:42.091Z"
   },
   {
    "duration": 7,
    "start_time": "2022-11-11T14:42:42.100Z"
   },
   {
    "duration": 10,
    "start_time": "2022-11-11T14:42:42.108Z"
   },
   {
    "duration": 13193,
    "start_time": "2022-11-11T14:42:44.558Z"
   },
   {
    "duration": 13147,
    "start_time": "2022-11-11T14:43:23.649Z"
   },
   {
    "duration": 13587,
    "start_time": "2022-11-11T14:43:40.667Z"
   },
   {
    "duration": 12810,
    "start_time": "2022-11-11T14:44:08.907Z"
   },
   {
    "duration": 155,
    "start_time": "2022-11-11T14:49:05.135Z"
   },
   {
    "duration": 146,
    "start_time": "2022-11-11T14:49:40.788Z"
   },
   {
    "duration": 231,
    "start_time": "2022-11-11T14:50:04.578Z"
   },
   {
    "duration": 170,
    "start_time": "2022-11-11T14:50:08.652Z"
   },
   {
    "duration": 296,
    "start_time": "2022-11-11T14:51:34.029Z"
   },
   {
    "duration": 183,
    "start_time": "2022-11-11T14:51:43.709Z"
   },
   {
    "duration": 257,
    "start_time": "2022-11-11T14:52:52.832Z"
   },
   {
    "duration": 174,
    "start_time": "2022-11-11T14:53:11.298Z"
   },
   {
    "duration": 158,
    "start_time": "2022-11-11T14:53:27.152Z"
   },
   {
    "duration": 195,
    "start_time": "2022-11-11T14:53:44.841Z"
   },
   {
    "duration": 158,
    "start_time": "2022-11-11T14:54:39.705Z"
   },
   {
    "duration": 194,
    "start_time": "2022-11-11T14:54:46.622Z"
   },
   {
    "duration": 169,
    "start_time": "2022-11-11T14:54:59.504Z"
   },
   {
    "duration": 13522,
    "start_time": "2022-11-11T14:55:50.892Z"
   },
   {
    "duration": 153,
    "start_time": "2022-11-11T14:57:53.076Z"
   },
   {
    "duration": 179,
    "start_time": "2022-11-11T14:58:13.627Z"
   },
   {
    "duration": 167,
    "start_time": "2022-11-11T14:59:18.234Z"
   },
   {
    "duration": 189,
    "start_time": "2022-11-11T14:59:50.433Z"
   },
   {
    "duration": 301,
    "start_time": "2022-11-11T15:00:42.046Z"
   },
   {
    "duration": 15,
    "start_time": "2022-11-11T15:01:07.487Z"
   },
   {
    "duration": 204,
    "start_time": "2022-11-11T15:01:30.911Z"
   },
   {
    "duration": 13052,
    "start_time": "2022-11-11T15:02:52.663Z"
   },
   {
    "duration": 213,
    "start_time": "2022-11-11T15:03:05.718Z"
   },
   {
    "duration": 13483,
    "start_time": "2022-11-11T15:03:11.005Z"
   },
   {
    "duration": 12763,
    "start_time": "2022-11-11T15:03:24.490Z"
   },
   {
    "duration": 231,
    "start_time": "2022-11-11T15:03:57.848Z"
   },
   {
    "duration": 156,
    "start_time": "2022-11-11T15:05:34.960Z"
   },
   {
    "duration": 158,
    "start_time": "2022-11-11T15:05:52.352Z"
   },
   {
    "duration": 213,
    "start_time": "2022-11-11T15:06:03.606Z"
   },
   {
    "duration": 214,
    "start_time": "2022-11-11T15:06:12.976Z"
   },
   {
    "duration": 198,
    "start_time": "2022-11-11T15:06:16.992Z"
   },
   {
    "duration": 305,
    "start_time": "2022-11-11T15:06:20.683Z"
   },
   {
    "duration": 202,
    "start_time": "2022-11-11T15:06:25.381Z"
   },
   {
    "duration": 196,
    "start_time": "2022-11-11T15:06:27.943Z"
   },
   {
    "duration": 208,
    "start_time": "2022-11-11T15:06:32.501Z"
   },
   {
    "duration": 223,
    "start_time": "2022-11-11T15:06:52.378Z"
   },
   {
    "duration": 208,
    "start_time": "2022-11-11T15:07:08.354Z"
   },
   {
    "duration": 206,
    "start_time": "2022-11-11T15:07:36.219Z"
   },
   {
    "duration": 201,
    "start_time": "2022-11-11T15:07:38.777Z"
   },
   {
    "duration": 195,
    "start_time": "2022-11-11T15:07:47.612Z"
   },
   {
    "duration": 221,
    "start_time": "2022-11-11T15:07:50.040Z"
   },
   {
    "duration": 226,
    "start_time": "2022-11-11T15:08:07.950Z"
   },
   {
    "duration": 12330,
    "start_time": "2022-11-11T15:09:21.686Z"
   },
   {
    "duration": 13123,
    "start_time": "2022-11-11T15:10:59.828Z"
   },
   {
    "duration": 12557,
    "start_time": "2022-11-11T15:11:42.197Z"
   },
   {
    "duration": 12415,
    "start_time": "2022-11-11T15:12:07.099Z"
   },
   {
    "duration": 12907,
    "start_time": "2022-11-11T15:18:08.501Z"
   },
   {
    "duration": 12037,
    "start_time": "2022-11-11T15:18:49.941Z"
   },
   {
    "duration": 12916,
    "start_time": "2022-11-11T15:19:11.759Z"
   },
   {
    "duration": 13088,
    "start_time": "2022-11-11T15:19:58.409Z"
   },
   {
    "duration": 12494,
    "start_time": "2022-11-11T15:20:19.208Z"
   },
   {
    "duration": 12129,
    "start_time": "2022-11-11T15:21:40.340Z"
   },
   {
    "duration": 3,
    "start_time": "2022-11-11T15:25:57.967Z"
   },
   {
    "duration": 5,
    "start_time": "2022-11-11T15:26:03.433Z"
   },
   {
    "duration": 6,
    "start_time": "2022-11-11T15:26:17.475Z"
   },
   {
    "duration": 0,
    "start_time": "2022-11-11T15:28:58.889Z"
   },
   {
    "duration": 12321,
    "start_time": "2022-11-11T15:29:19.477Z"
   },
   {
    "duration": 12072,
    "start_time": "2022-11-11T15:29:48.412Z"
   },
   {
    "duration": 12320,
    "start_time": "2022-11-11T15:32:46.581Z"
   },
   {
    "duration": 12474,
    "start_time": "2022-11-11T15:32:58.904Z"
   },
   {
    "duration": 4,
    "start_time": "2022-11-11T15:35:17.613Z"
   },
   {
    "duration": 738,
    "start_time": "2022-11-11T15:35:19.216Z"
   },
   {
    "duration": 4,
    "start_time": "2022-11-11T15:35:29.933Z"
   },
   {
    "duration": 834,
    "start_time": "2022-11-11T15:35:30.973Z"
   },
   {
    "duration": 779,
    "start_time": "2022-11-11T15:36:19.215Z"
   },
   {
    "duration": 746,
    "start_time": "2022-11-11T15:36:41.335Z"
   },
   {
    "duration": 1284,
    "start_time": "2022-11-11T16:17:38.249Z"
   },
   {
    "duration": 375,
    "start_time": "2022-11-11T16:17:39.535Z"
   },
   {
    "duration": 5,
    "start_time": "2022-11-11T16:17:39.911Z"
   },
   {
    "duration": 776,
    "start_time": "2022-11-11T16:17:39.917Z"
   },
   {
    "duration": 4,
    "start_time": "2022-11-11T16:17:40.695Z"
   },
   {
    "duration": 21,
    "start_time": "2022-11-11T16:17:40.700Z"
   },
   {
    "duration": 56,
    "start_time": "2022-11-11T16:17:40.722Z"
   },
   {
    "duration": 14,
    "start_time": "2022-11-11T16:17:40.779Z"
   },
   {
    "duration": 203,
    "start_time": "2022-11-11T16:17:40.794Z"
   },
   {
    "duration": 10,
    "start_time": "2022-11-11T16:17:40.999Z"
   },
   {
    "duration": 799,
    "start_time": "2022-11-11T16:17:41.011Z"
   },
   {
    "duration": 15,
    "start_time": "2022-11-11T16:17:41.812Z"
   },
   {
    "duration": 56,
    "start_time": "2022-11-11T16:17:41.828Z"
   },
   {
    "duration": 124,
    "start_time": "2022-11-11T16:17:41.886Z"
   },
   {
    "duration": 790,
    "start_time": "2022-11-11T16:17:42.012Z"
   },
   {
    "duration": 5,
    "start_time": "2022-11-11T16:17:42.804Z"
   },
   {
    "duration": 10,
    "start_time": "2022-11-11T16:17:42.810Z"
   },
   {
    "duration": 119,
    "start_time": "2022-11-11T16:17:42.821Z"
   },
   {
    "duration": 776,
    "start_time": "2022-11-11T16:17:42.942Z"
   },
   {
    "duration": 15,
    "start_time": "2022-11-11T16:17:43.720Z"
   },
   {
    "duration": 57,
    "start_time": "2022-11-11T16:17:43.736Z"
   },
   {
    "duration": 124,
    "start_time": "2022-11-11T16:17:43.795Z"
   },
   {
    "duration": 9,
    "start_time": "2022-11-11T16:17:43.920Z"
   },
   {
    "duration": 12,
    "start_time": "2022-11-11T16:17:43.931Z"
   },
   {
    "duration": 14,
    "start_time": "2022-11-11T16:17:43.945Z"
   },
   {
    "duration": 11,
    "start_time": "2022-11-11T16:17:43.960Z"
   },
   {
    "duration": 87,
    "start_time": "2022-11-11T16:17:43.972Z"
   },
   {
    "duration": 6,
    "start_time": "2022-11-11T16:17:44.063Z"
   },
   {
    "duration": 6,
    "start_time": "2022-11-11T16:17:44.160Z"
   },
   {
    "duration": 16,
    "start_time": "2022-11-11T16:17:44.167Z"
   },
   {
    "duration": 5,
    "start_time": "2022-11-11T16:17:44.185Z"
   },
   {
    "duration": 21,
    "start_time": "2022-11-11T16:17:44.191Z"
   },
   {
    "duration": 53,
    "start_time": "2022-11-11T16:17:44.214Z"
   },
   {
    "duration": 89,
    "start_time": "2022-11-11T16:17:44.271Z"
   },
   {
    "duration": 8,
    "start_time": "2022-11-11T16:17:44.362Z"
   },
   {
    "duration": 12,
    "start_time": "2022-11-11T16:17:44.371Z"
   },
   {
    "duration": 5,
    "start_time": "2022-11-11T16:17:44.384Z"
   },
   {
    "duration": 14,
    "start_time": "2022-11-11T16:17:44.391Z"
   },
   {
    "duration": 9,
    "start_time": "2022-11-11T16:17:44.406Z"
   },
   {
    "duration": 6,
    "start_time": "2022-11-11T16:17:44.460Z"
   },
   {
    "duration": 95,
    "start_time": "2022-11-11T16:17:44.470Z"
   },
   {
    "duration": 6,
    "start_time": "2022-11-11T16:17:44.567Z"
   },
   {
    "duration": 11,
    "start_time": "2022-11-11T16:17:44.575Z"
   },
   {
    "duration": 11,
    "start_time": "2022-11-11T16:17:44.587Z"
   },
   {
    "duration": 6,
    "start_time": "2022-11-11T16:17:44.599Z"
   },
   {
    "duration": 12213,
    "start_time": "2022-11-11T16:17:44.607Z"
   },
   {
    "duration": 12421,
    "start_time": "2022-11-11T16:17:56.822Z"
   },
   {
    "duration": 12365,
    "start_time": "2022-11-11T16:18:09.244Z"
   },
   {
    "duration": 1587,
    "start_time": "2022-11-11T19:56:42.059Z"
   },
   {
    "duration": 897,
    "start_time": "2022-11-11T19:56:43.648Z"
   },
   {
    "duration": 7,
    "start_time": "2022-11-11T19:56:44.547Z"
   },
   {
    "duration": 919,
    "start_time": "2022-11-11T19:56:44.557Z"
   },
   {
    "duration": 5,
    "start_time": "2022-11-11T19:56:45.477Z"
   },
   {
    "duration": 29,
    "start_time": "2022-11-11T19:56:45.484Z"
   },
   {
    "duration": 72,
    "start_time": "2022-11-11T19:56:45.514Z"
   },
   {
    "duration": 21,
    "start_time": "2022-11-11T19:56:45.588Z"
   },
   {
    "duration": 244,
    "start_time": "2022-11-11T19:56:45.611Z"
   },
   {
    "duration": 10,
    "start_time": "2022-11-11T19:56:45.857Z"
   },
   {
    "duration": 878,
    "start_time": "2022-11-11T19:56:45.869Z"
   },
   {
    "duration": 18,
    "start_time": "2022-11-11T19:56:46.748Z"
   },
   {
    "duration": 97,
    "start_time": "2022-11-11T19:56:46.768Z"
   },
   {
    "duration": 158,
    "start_time": "2022-11-11T19:56:46.867Z"
   },
   {
    "duration": 847,
    "start_time": "2022-11-11T19:56:47.027Z"
   },
   {
    "duration": 6,
    "start_time": "2022-11-11T19:56:47.875Z"
   },
   {
    "duration": 39,
    "start_time": "2022-11-11T19:56:47.883Z"
   },
   {
    "duration": 159,
    "start_time": "2022-11-11T19:56:47.924Z"
   },
   {
    "duration": 952,
    "start_time": "2022-11-11T19:56:48.085Z"
   },
   {
    "duration": 19,
    "start_time": "2022-11-11T19:56:49.040Z"
   },
   {
    "duration": 88,
    "start_time": "2022-11-11T19:56:49.061Z"
   },
   {
    "duration": 155,
    "start_time": "2022-11-11T19:56:49.151Z"
   },
   {
    "duration": 11,
    "start_time": "2022-11-11T19:56:49.308Z"
   },
   {
    "duration": 48,
    "start_time": "2022-11-11T19:56:49.321Z"
   },
   {
    "duration": 13,
    "start_time": "2022-11-11T19:56:49.371Z"
   },
   {
    "duration": 36,
    "start_time": "2022-11-11T19:56:49.386Z"
   },
   {
    "duration": 30,
    "start_time": "2022-11-11T19:56:49.423Z"
   },
   {
    "duration": 163,
    "start_time": "2022-11-11T19:56:49.461Z"
   },
   {
    "duration": 33,
    "start_time": "2022-11-11T19:56:49.626Z"
   },
   {
    "duration": 41,
    "start_time": "2022-11-11T19:56:49.662Z"
   },
   {
    "duration": 20,
    "start_time": "2022-11-11T19:56:49.705Z"
   },
   {
    "duration": 41,
    "start_time": "2022-11-11T19:56:49.726Z"
   },
   {
    "duration": 29,
    "start_time": "2022-11-11T19:56:49.769Z"
   },
   {
    "duration": 109,
    "start_time": "2022-11-11T19:56:49.800Z"
   },
   {
    "duration": 97,
    "start_time": "2022-11-11T19:56:49.910Z"
   },
   {
    "duration": 18,
    "start_time": "2022-11-11T19:56:50.009Z"
   },
   {
    "duration": 24,
    "start_time": "2022-11-11T19:56:50.029Z"
   },
   {
    "duration": 34,
    "start_time": "2022-11-11T19:56:50.055Z"
   },
   {
    "duration": 50,
    "start_time": "2022-11-11T19:56:50.090Z"
   },
   {
    "duration": 164,
    "start_time": "2022-11-11T19:56:50.143Z"
   },
   {
    "duration": 30,
    "start_time": "2022-11-11T19:56:50.309Z"
   },
   {
    "duration": 16,
    "start_time": "2022-11-11T19:56:50.340Z"
   },
   {
    "duration": 30,
    "start_time": "2022-11-11T19:56:50.357Z"
   },
   {
    "duration": 22,
    "start_time": "2022-11-11T19:56:50.389Z"
   },
   {
    "duration": 16,
    "start_time": "2022-11-11T19:56:50.413Z"
   },
   {
    "duration": 12911,
    "start_time": "2022-11-11T19:56:50.431Z"
   },
   {
    "duration": 12860,
    "start_time": "2022-11-11T19:57:03.343Z"
   },
   {
    "duration": 13420,
    "start_time": "2022-11-11T19:57:16.205Z"
   },
   {
    "duration": 1493,
    "start_time": "2022-11-14T10:24:20.876Z"
   },
   {
    "duration": 1417,
    "start_time": "2022-11-14T10:24:22.371Z"
   },
   {
    "duration": 5,
    "start_time": "2022-11-14T10:24:23.790Z"
   },
   {
    "duration": 864,
    "start_time": "2022-11-14T10:24:23.797Z"
   },
   {
    "duration": 4,
    "start_time": "2022-11-14T10:24:24.664Z"
   },
   {
    "duration": 29,
    "start_time": "2022-11-14T10:24:24.670Z"
   },
   {
    "duration": 61,
    "start_time": "2022-11-14T10:24:24.701Z"
   },
   {
    "duration": 15,
    "start_time": "2022-11-14T10:24:24.763Z"
   },
   {
    "duration": 286,
    "start_time": "2022-11-14T10:24:24.780Z"
   },
   {
    "duration": 11,
    "start_time": "2022-11-14T10:24:25.068Z"
   },
   {
    "duration": 789,
    "start_time": "2022-11-14T10:24:25.080Z"
   },
   {
    "duration": 15,
    "start_time": "2022-11-14T10:24:25.871Z"
   },
   {
    "duration": 60,
    "start_time": "2022-11-14T10:24:25.888Z"
   },
   {
    "duration": 123,
    "start_time": "2022-11-14T10:24:25.951Z"
   },
   {
    "duration": 858,
    "start_time": "2022-11-14T10:24:26.076Z"
   },
   {
    "duration": 8,
    "start_time": "2022-11-14T10:24:26.936Z"
   },
   {
    "duration": 11,
    "start_time": "2022-11-14T10:24:26.945Z"
   },
   {
    "duration": 153,
    "start_time": "2022-11-14T10:24:26.959Z"
   },
   {
    "duration": 858,
    "start_time": "2022-11-14T10:24:27.113Z"
   },
   {
    "duration": 15,
    "start_time": "2022-11-14T10:24:27.973Z"
   },
   {
    "duration": 61,
    "start_time": "2022-11-14T10:24:27.989Z"
   },
   {
    "duration": 122,
    "start_time": "2022-11-14T10:24:28.052Z"
   },
   {
    "duration": 10,
    "start_time": "2022-11-14T10:24:28.175Z"
   },
   {
    "duration": 25,
    "start_time": "2022-11-14T10:24:28.187Z"
   },
   {
    "duration": 37,
    "start_time": "2022-11-14T10:24:28.214Z"
   },
   {
    "duration": 5,
    "start_time": "2022-11-14T10:24:28.252Z"
   },
   {
    "duration": 9,
    "start_time": "2022-11-14T10:24:28.259Z"
   },
   {
    "duration": 16,
    "start_time": "2022-11-14T10:24:28.270Z"
   },
   {
    "duration": 26,
    "start_time": "2022-11-14T10:24:28.288Z"
   },
   {
    "duration": 104,
    "start_time": "2022-11-14T10:24:28.321Z"
   },
   {
    "duration": 115,
    "start_time": "2022-11-14T10:24:28.427Z"
   },
   {
    "duration": 41,
    "start_time": "2022-11-14T10:24:28.544Z"
   },
   {
    "duration": 9,
    "start_time": "2022-11-14T10:24:28.587Z"
   },
   {
    "duration": 16,
    "start_time": "2022-11-14T10:24:28.597Z"
   },
   {
    "duration": 24,
    "start_time": "2022-11-14T10:24:28.614Z"
   },
   {
    "duration": 40,
    "start_time": "2022-11-14T10:24:28.639Z"
   },
   {
    "duration": 42,
    "start_time": "2022-11-14T10:24:28.681Z"
   },
   {
    "duration": 108,
    "start_time": "2022-11-14T10:24:28.728Z"
   },
   {
    "duration": 25,
    "start_time": "2022-11-14T10:24:28.838Z"
   },
   {
    "duration": 3,
    "start_time": "2022-11-14T10:24:28.864Z"
   },
   {
    "duration": 29,
    "start_time": "2022-11-14T10:24:28.870Z"
   },
   {
    "duration": 15,
    "start_time": "2022-11-14T10:24:28.900Z"
   },
   {
    "duration": 26,
    "start_time": "2022-11-14T10:24:28.917Z"
   },
   {
    "duration": 5,
    "start_time": "2022-11-14T10:24:28.945Z"
   },
   {
    "duration": 74,
    "start_time": "2022-11-14T10:24:28.952Z"
   },
   {
    "duration": 101,
    "start_time": "2022-11-14T10:24:29.028Z"
   },
   {
    "duration": 21,
    "start_time": "2022-11-14T10:24:29.131Z"
   },
   {
    "duration": 4,
    "start_time": "2022-11-14T10:27:50.506Z"
   },
   {
    "duration": 4,
    "start_time": "2022-11-14T10:27:58.515Z"
   },
   {
    "duration": 49,
    "start_time": "2022-11-14T11:28:56.576Z"
   },
   {
    "duration": 3,
    "start_time": "2022-11-14T11:29:07.141Z"
   },
   {
    "duration": 6,
    "start_time": "2022-11-14T11:29:13.667Z"
   },
   {
    "duration": 111,
    "start_time": "2022-11-14T11:29:50.581Z"
   },
   {
    "duration": 9,
    "start_time": "2022-11-14T11:30:07.184Z"
   },
   {
    "duration": 14,
    "start_time": "2022-11-14T11:33:19.631Z"
   },
   {
    "duration": 17,
    "start_time": "2022-11-14T11:33:54.513Z"
   },
   {
    "duration": 346086,
    "start_time": "2022-11-14T11:35:21.984Z"
   },
   {
    "duration": 14,
    "start_time": "2022-11-14T11:43:48.240Z"
   },
   {
    "duration": 5,
    "start_time": "2022-11-14T11:43:58.628Z"
   },
   {
    "duration": 10,
    "start_time": "2022-11-14T11:45:50.868Z"
   },
   {
    "duration": 10,
    "start_time": "2022-11-14T11:46:01.214Z"
   },
   {
    "duration": 9,
    "start_time": "2022-11-14T11:46:04.458Z"
   },
   {
    "duration": 9,
    "start_time": "2022-11-14T11:46:21.408Z"
   },
   {
    "duration": 11,
    "start_time": "2022-11-14T11:46:32.124Z"
   },
   {
    "duration": 9,
    "start_time": "2022-11-14T11:46:41.135Z"
   },
   {
    "duration": 9,
    "start_time": "2022-11-14T11:46:45.461Z"
   },
   {
    "duration": 11,
    "start_time": "2022-11-14T11:48:08.060Z"
   },
   {
    "duration": 11,
    "start_time": "2022-11-14T11:48:12.877Z"
   },
   {
    "duration": 6,
    "start_time": "2022-11-14T11:48:16.770Z"
   },
   {
    "duration": 12,
    "start_time": "2022-11-14T11:48:47.681Z"
   },
   {
    "duration": 11,
    "start_time": "2022-11-14T11:48:58.021Z"
   },
   {
    "duration": 12,
    "start_time": "2022-11-14T11:49:18.744Z"
   },
   {
    "duration": 13,
    "start_time": "2022-11-14T11:49:31.322Z"
   },
   {
    "duration": 13,
    "start_time": "2022-11-14T11:49:38.234Z"
   },
   {
    "duration": 34395,
    "start_time": "2022-11-14T11:50:24.369Z"
   },
   {
    "duration": 7,
    "start_time": "2022-11-14T11:51:11.410Z"
   },
   {
    "duration": 346626,
    "start_time": "2022-11-14T11:51:39.185Z"
   },
   {
    "duration": 11,
    "start_time": "2022-11-14T12:06:56.056Z"
   },
   {
    "duration": 212,
    "start_time": "2022-11-14T12:07:07.048Z"
   },
   {
    "duration": 13,
    "start_time": "2022-11-14T12:07:46.490Z"
   },
   {
    "duration": 164,
    "start_time": "2022-11-14T12:08:11.079Z"
   },
   {
    "duration": 180,
    "start_time": "2022-11-14T12:10:08.208Z"
   },
   {
    "duration": 10,
    "start_time": "2022-11-14T12:10:46.211Z"
   },
   {
    "duration": 6,
    "start_time": "2022-11-14T12:11:05.902Z"
   },
   {
    "duration": 6,
    "start_time": "2022-11-14T12:11:17.168Z"
   },
   {
    "duration": 185,
    "start_time": "2022-11-14T12:11:48.946Z"
   },
   {
    "duration": 6,
    "start_time": "2022-11-14T12:16:05.181Z"
   },
   {
    "duration": 6,
    "start_time": "2022-11-14T12:16:17.472Z"
   },
   {
    "duration": 180036,
    "start_time": "2022-11-14T12:19:51.469Z"
   },
   {
    "duration": 12,
    "start_time": "2022-11-14T12:35:33.545Z"
   },
   {
    "duration": 167,
    "start_time": "2022-11-14T12:35:45.075Z"
   },
   {
    "duration": 14436,
    "start_time": "2022-11-14T12:37:18.514Z"
   },
   {
    "duration": 74,
    "start_time": "2022-11-14T13:23:03.597Z"
   },
   {
    "duration": 1455,
    "start_time": "2022-11-14T13:33:38.257Z"
   },
   {
    "duration": 398,
    "start_time": "2022-11-14T13:33:39.714Z"
   },
   {
    "duration": 6,
    "start_time": "2022-11-14T13:33:40.114Z"
   },
   {
    "duration": 942,
    "start_time": "2022-11-14T13:33:40.122Z"
   },
   {
    "duration": 5,
    "start_time": "2022-11-14T13:33:41.066Z"
   },
   {
    "duration": 30,
    "start_time": "2022-11-14T13:33:41.073Z"
   },
   {
    "duration": 72,
    "start_time": "2022-11-14T13:33:41.105Z"
   },
   {
    "duration": 17,
    "start_time": "2022-11-14T13:33:41.179Z"
   },
   {
    "duration": 254,
    "start_time": "2022-11-14T13:33:41.198Z"
   },
   {
    "duration": 12,
    "start_time": "2022-11-14T13:33:41.454Z"
   },
   {
    "duration": 997,
    "start_time": "2022-11-14T13:33:41.468Z"
   },
   {
    "duration": 21,
    "start_time": "2022-11-14T13:33:42.468Z"
   },
   {
    "duration": 83,
    "start_time": "2022-11-14T13:33:42.491Z"
   },
   {
    "duration": 164,
    "start_time": "2022-11-14T13:33:42.578Z"
   },
   {
    "duration": 875,
    "start_time": "2022-11-14T13:33:42.744Z"
   },
   {
    "duration": 8,
    "start_time": "2022-11-14T13:33:43.621Z"
   },
   {
    "duration": 9,
    "start_time": "2022-11-14T13:33:43.631Z"
   },
   {
    "duration": 148,
    "start_time": "2022-11-14T13:33:43.642Z"
   },
   {
    "duration": 927,
    "start_time": "2022-11-14T13:33:43.792Z"
   },
   {
    "duration": 21,
    "start_time": "2022-11-14T13:33:44.721Z"
   },
   {
    "duration": 85,
    "start_time": "2022-11-14T13:33:44.744Z"
   },
   {
    "duration": 166,
    "start_time": "2022-11-14T13:33:44.831Z"
   },
   {
    "duration": 23,
    "start_time": "2022-11-14T13:33:44.998Z"
   },
   {
    "duration": 26,
    "start_time": "2022-11-14T13:33:45.023Z"
   },
   {
    "duration": 29,
    "start_time": "2022-11-14T13:33:45.052Z"
   },
   {
    "duration": 2,
    "start_time": "2022-11-14T13:33:45.083Z"
   },
   {
    "duration": 11,
    "start_time": "2022-11-14T13:33:45.087Z"
   },
   {
    "duration": 16,
    "start_time": "2022-11-14T13:33:45.099Z"
   },
   {
    "duration": 14,
    "start_time": "2022-11-14T13:33:45.116Z"
   },
   {
    "duration": 92,
    "start_time": "2022-11-14T13:33:45.131Z"
   },
   {
    "duration": 112,
    "start_time": "2022-11-14T13:33:45.226Z"
   },
   {
    "duration": 29,
    "start_time": "2022-11-14T13:33:45.340Z"
   },
   {
    "duration": 3,
    "start_time": "2022-11-14T13:33:45.371Z"
   },
   {
    "duration": 9,
    "start_time": "2022-11-14T13:33:45.376Z"
   },
   {
    "duration": 6,
    "start_time": "2022-11-14T13:33:45.387Z"
   },
   {
    "duration": 24,
    "start_time": "2022-11-14T13:33:45.395Z"
   },
   {
    "duration": 96,
    "start_time": "2022-11-14T13:33:45.424Z"
   },
   {
    "duration": 111,
    "start_time": "2022-11-14T13:33:45.522Z"
   },
   {
    "duration": 23,
    "start_time": "2022-11-14T13:33:45.636Z"
   },
   {
    "duration": 2,
    "start_time": "2022-11-14T13:33:45.662Z"
   },
   {
    "duration": 16,
    "start_time": "2022-11-14T13:33:45.669Z"
   },
   {
    "duration": 51,
    "start_time": "2022-11-14T13:33:45.687Z"
   },
   {
    "duration": 11,
    "start_time": "2022-11-14T13:33:45.741Z"
   },
   {
    "duration": 71,
    "start_time": "2022-11-14T13:33:45.755Z"
   },
   {
    "duration": 106,
    "start_time": "2022-11-14T13:33:45.829Z"
   },
   {
    "duration": 25,
    "start_time": "2022-11-14T13:33:45.937Z"
   },
   {
    "duration": 56,
    "start_time": "2022-11-14T13:33:45.964Z"
   },
   {
    "duration": 89,
    "start_time": "2022-11-14T13:33:46.022Z"
   },
   {
    "duration": 14,
    "start_time": "2022-11-14T13:33:46.113Z"
   },
   {
    "duration": 183964,
    "start_time": "2022-11-14T13:33:46.129Z"
   },
   {
    "duration": 175,
    "start_time": "2022-11-14T13:36:50.095Z"
   },
   {
    "duration": 14435,
    "start_time": "2022-11-14T13:36:50.272Z"
   },
   {
    "duration": 14896,
    "start_time": "2022-11-14T13:37:04.709Z"
   },
   {
    "duration": 14628,
    "start_time": "2022-11-14T13:37:19.607Z"
   },
   {
    "duration": 1626,
    "start_time": "2022-11-14T17:18:39.280Z"
   },
   {
    "duration": 1446,
    "start_time": "2022-11-14T17:18:40.909Z"
   },
   {
    "duration": 5,
    "start_time": "2022-11-14T17:18:42.357Z"
   },
   {
    "duration": 833,
    "start_time": "2022-11-14T17:18:42.363Z"
   },
   {
    "duration": 4,
    "start_time": "2022-11-14T17:18:43.198Z"
   },
   {
    "duration": 31,
    "start_time": "2022-11-14T17:18:43.204Z"
   },
   {
    "duration": 57,
    "start_time": "2022-11-14T17:18:43.236Z"
   },
   {
    "duration": 31,
    "start_time": "2022-11-14T17:18:43.295Z"
   },
   {
    "duration": 244,
    "start_time": "2022-11-14T17:18:43.327Z"
   },
   {
    "duration": 10,
    "start_time": "2022-11-14T17:18:43.574Z"
   },
   {
    "duration": 906,
    "start_time": "2022-11-14T17:18:43.586Z"
   },
   {
    "duration": 26,
    "start_time": "2022-11-14T17:18:44.494Z"
   },
   {
    "duration": 55,
    "start_time": "2022-11-14T17:18:44.523Z"
   },
   {
    "duration": 159,
    "start_time": "2022-11-14T17:18:44.580Z"
   },
   {
    "duration": 865,
    "start_time": "2022-11-14T17:18:44.741Z"
   },
   {
    "duration": 14,
    "start_time": "2022-11-14T17:18:45.608Z"
   },
   {
    "duration": 8,
    "start_time": "2022-11-14T17:18:45.624Z"
   },
   {
    "duration": 150,
    "start_time": "2022-11-14T17:18:45.633Z"
   },
   {
    "duration": 853,
    "start_time": "2022-11-14T17:18:45.784Z"
   },
   {
    "duration": 15,
    "start_time": "2022-11-14T17:18:46.639Z"
   },
   {
    "duration": 64,
    "start_time": "2022-11-14T17:18:46.656Z"
   },
   {
    "duration": 136,
    "start_time": "2022-11-14T17:18:46.722Z"
   },
   {
    "duration": 10,
    "start_time": "2022-11-14T17:18:46.860Z"
   },
   {
    "duration": 7,
    "start_time": "2022-11-14T17:18:46.872Z"
   },
   {
    "duration": 27,
    "start_time": "2022-11-14T17:18:46.880Z"
   },
   {
    "duration": 10,
    "start_time": "2022-11-14T17:18:46.909Z"
   },
   {
    "duration": 15,
    "start_time": "2022-11-14T17:18:46.920Z"
   },
   {
    "duration": 10,
    "start_time": "2022-11-14T17:18:46.938Z"
   },
   {
    "duration": 18,
    "start_time": "2022-11-14T17:18:46.950Z"
   },
   {
    "duration": 56,
    "start_time": "2022-11-14T17:18:46.970Z"
   },
   {
    "duration": 103,
    "start_time": "2022-11-14T17:18:47.027Z"
   },
   {
    "duration": 27,
    "start_time": "2022-11-14T17:18:47.132Z"
   },
   {
    "duration": 3,
    "start_time": "2022-11-14T17:18:47.160Z"
   },
   {
    "duration": 10,
    "start_time": "2022-11-14T17:18:47.164Z"
   },
   {
    "duration": 14,
    "start_time": "2022-11-14T17:18:47.176Z"
   },
   {
    "duration": 30,
    "start_time": "2022-11-14T17:18:47.192Z"
   },
   {
    "duration": 94,
    "start_time": "2022-11-14T17:18:47.224Z"
   },
   {
    "duration": 103,
    "start_time": "2022-11-14T17:18:47.320Z"
   },
   {
    "duration": 28,
    "start_time": "2022-11-14T17:18:47.425Z"
   },
   {
    "duration": 2,
    "start_time": "2022-11-14T17:18:47.455Z"
   },
   {
    "duration": 5,
    "start_time": "2022-11-14T17:18:47.459Z"
   },
   {
    "duration": 8,
    "start_time": "2022-11-14T17:18:47.466Z"
   },
   {
    "duration": 14,
    "start_time": "2022-11-14T17:18:47.475Z"
   },
   {
    "duration": 6,
    "start_time": "2022-11-14T17:18:47.520Z"
   },
   {
    "duration": 100,
    "start_time": "2022-11-14T17:18:47.528Z"
   },
   {
    "duration": 12,
    "start_time": "2022-11-14T17:18:47.629Z"
   },
   {
    "duration": 8,
    "start_time": "2022-11-14T17:18:47.643Z"
   },
   {
    "duration": 7,
    "start_time": "2022-11-14T17:18:47.653Z"
   },
   {
    "duration": 10,
    "start_time": "2022-11-14T17:18:47.662Z"
   },
   {
    "duration": 175021,
    "start_time": "2022-11-14T17:18:47.674Z"
   },
   {
    "duration": 166,
    "start_time": "2022-11-14T17:21:42.697Z"
   },
   {
    "duration": 13685,
    "start_time": "2022-11-14T17:21:42.865Z"
   },
   {
    "duration": 13611,
    "start_time": "2022-11-14T17:21:56.552Z"
   },
   {
    "duration": 13686,
    "start_time": "2022-11-14T17:22:10.165Z"
   },
   {
    "duration": 149231,
    "start_time": "2022-11-14T17:39:05.882Z"
   },
   {
    "duration": 174,
    "start_time": "2022-11-14T17:43:02.717Z"
   },
   {
    "duration": 182801,
    "start_time": "2022-11-14T17:47:37.304Z"
   },
   {
    "duration": 161163,
    "start_time": "2022-11-14T17:50:40.107Z"
   },
   {
    "duration": 184685,
    "start_time": "2022-11-14T18:13:56.881Z"
   },
   {
    "duration": 197,
    "start_time": "2022-11-14T18:17:06.344Z"
   },
   {
    "duration": 185038,
    "start_time": "2022-11-14T18:23:48.111Z"
   },
   {
    "duration": 175,
    "start_time": "2022-11-14T18:26:53.152Z"
   },
   {
    "duration": 161,
    "start_time": "2022-11-14T18:35:46.695Z"
   }
  ],
  "kernelspec": {
   "display_name": "Python 3 (ipykernel)",
   "language": "python",
   "name": "python3"
  },
  "language_info": {
   "codemirror_mode": {
    "name": "ipython",
    "version": 3
   },
   "file_extension": ".py",
   "mimetype": "text/x-python",
   "name": "python",
   "nbconvert_exporter": "python",
   "pygments_lexer": "ipython3",
   "version": "3.10.6"
  },
  "toc": {
   "base_numbering": 1,
   "nav_menu": {},
   "number_sections": true,
   "sideBar": true,
   "skip_h1_title": true,
   "title_cell": "Table of Contents",
   "title_sidebar": "Contents",
   "toc_cell": false,
   "toc_position": {},
   "toc_section_display": true,
   "toc_window_display": false
  }
 },
 "nbformat": 4,
 "nbformat_minor": 2
}
