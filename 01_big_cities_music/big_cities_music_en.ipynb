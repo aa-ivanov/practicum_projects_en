{
 "cells": [
  {
   "cell_type": "markdown",
   "metadata": {
    "id": "E0vqbgi9ay0H"
   },
   "source": [
    "# Yandex.Music"
   ]
  },
  {
   "cell_type": "markdown",
   "metadata": {
    "id": "VUC88oWjTJw2"
   },
   "source": [
    "Comparison of Moscow and St. Petersburg is surrounded by myths. For example:\n",
    " * Moscow is a metropolis subject to the rigid rhythm of the working week;\n",
    " * Petersburg is a cultural capital, with its own tastes.\n",
    "\n",
    "Using Yandex.Music data, let's compare the behavior of users in the two capitals.\n",
    "\n",
    "**Purpose of the study** is to test three hypotheses:\n",
    "1. User activity depends on the day of the week. Moreover, in Moscow and St. Petersburg this manifests itself in different ways.\n",
    "2. On Monday morning, certain genres dominate in Moscow, while others dominate in St. Petersburg. Similarly, Friday evenings are dominated by different genres, depending on the city.\n",
    "3. Moscow and St. Petersburg prefer different genres of music. In Moscow, they listen to pop music more often, in St. Petersburg - Russian rap.\n",
    "\n",
    "**Research progress**\n",
    "\n",
    "Data on user behavior will be obtained from the `yandex_music_project.csv` file. Nothing is known about the quality of the data. Therefore, before testing hypotheses, a review of the data is required.\n",
    "\n",
    "We will check the data for errors and evaluate their impact on the study. Then, at the preprocessing stage, we will look for an opportunity to correct the most critical data errors.\n",
    " \n",
    "Thus, the study will take place in three stages:\n",
    " 1. Data review.\n",
    " 2. Data preprocessing.\n",
    " 3. Hypothesis testing.\n",
    "\n"
   ]
  },
  {
   "cell_type": "markdown",
   "metadata": {
    "id": "Ml1hmfXC_Zcs"
   },
   "source": [
    "## Data review"
   ]
  },
  {
   "cell_type": "code",
   "execution_count": 1,
   "metadata": {
    "id": "AXN7PHPN_Zcs"
   },
   "outputs": [],
   "source": [
    "import pandas as pd"
   ]
  },
  {
   "cell_type": "code",
   "execution_count": 2,
   "metadata": {
    "id": "fFVu7vqh_Zct"
   },
   "outputs": [],
   "source": [
    "df = pd.read_csv('yandex_music_project.csv')"
   ]
  },
  {
   "cell_type": "markdown",
   "metadata": {
    "id": "rDoOMd3uTqnZ"
   },
   "source": [
    "Let's display the first ten rows of the table:"
   ]
  },
  {
   "cell_type": "code",
   "execution_count": 3,
   "metadata": {
    "id": "oWTVX3gW_Zct"
   },
   "outputs": [
    {
     "data": {
      "text/html": [
       "<div>\n",
       "<style scoped>\n",
       "    .dataframe tbody tr th:only-of-type {\n",
       "        vertical-align: middle;\n",
       "    }\n",
       "\n",
       "    .dataframe tbody tr th {\n",
       "        vertical-align: top;\n",
       "    }\n",
       "\n",
       "    .dataframe thead th {\n",
       "        text-align: right;\n",
       "    }\n",
       "</style>\n",
       "<table border=\"1\" class=\"dataframe\">\n",
       "  <thead>\n",
       "    <tr style=\"text-align: right;\">\n",
       "      <th></th>\n",
       "      <th>userID</th>\n",
       "      <th>Track</th>\n",
       "      <th>artist</th>\n",
       "      <th>genre</th>\n",
       "      <th>City</th>\n",
       "      <th>time</th>\n",
       "      <th>Day</th>\n",
       "    </tr>\n",
       "  </thead>\n",
       "  <tbody>\n",
       "    <tr>\n",
       "      <th>0</th>\n",
       "      <td>FFB692EC</td>\n",
       "      <td>Kamigata To Boots</td>\n",
       "      <td>The Mass Missile</td>\n",
       "      <td>rock</td>\n",
       "      <td>Saint-Petersburg</td>\n",
       "      <td>20:28:33</td>\n",
       "      <td>Wednesday</td>\n",
       "    </tr>\n",
       "    <tr>\n",
       "      <th>1</th>\n",
       "      <td>55204538</td>\n",
       "      <td>Delayed Because of Accident</td>\n",
       "      <td>Andreas Rönnberg</td>\n",
       "      <td>rock</td>\n",
       "      <td>Moscow</td>\n",
       "      <td>14:07:09</td>\n",
       "      <td>Friday</td>\n",
       "    </tr>\n",
       "    <tr>\n",
       "      <th>2</th>\n",
       "      <td>20EC38</td>\n",
       "      <td>Funiculì funiculà</td>\n",
       "      <td>Mario Lanza</td>\n",
       "      <td>pop</td>\n",
       "      <td>Saint-Petersburg</td>\n",
       "      <td>20:58:07</td>\n",
       "      <td>Wednesday</td>\n",
       "    </tr>\n",
       "    <tr>\n",
       "      <th>3</th>\n",
       "      <td>A3DD03C9</td>\n",
       "      <td>Dragons in the Sunset</td>\n",
       "      <td>Fire + Ice</td>\n",
       "      <td>folk</td>\n",
       "      <td>Saint-Petersburg</td>\n",
       "      <td>08:37:09</td>\n",
       "      <td>Monday</td>\n",
       "    </tr>\n",
       "    <tr>\n",
       "      <th>4</th>\n",
       "      <td>E2DC1FAE</td>\n",
       "      <td>Soul People</td>\n",
       "      <td>Space Echo</td>\n",
       "      <td>dance</td>\n",
       "      <td>Moscow</td>\n",
       "      <td>08:34:34</td>\n",
       "      <td>Monday</td>\n",
       "    </tr>\n",
       "    <tr>\n",
       "      <th>5</th>\n",
       "      <td>842029A1</td>\n",
       "      <td>Преданная</td>\n",
       "      <td>IMPERVTOR</td>\n",
       "      <td>rusrap</td>\n",
       "      <td>Saint-Petersburg</td>\n",
       "      <td>13:09:41</td>\n",
       "      <td>Friday</td>\n",
       "    </tr>\n",
       "    <tr>\n",
       "      <th>6</th>\n",
       "      <td>4CB90AA5</td>\n",
       "      <td>True</td>\n",
       "      <td>Roman Messer</td>\n",
       "      <td>dance</td>\n",
       "      <td>Moscow</td>\n",
       "      <td>13:00:07</td>\n",
       "      <td>Wednesday</td>\n",
       "    </tr>\n",
       "    <tr>\n",
       "      <th>7</th>\n",
       "      <td>F03E1C1F</td>\n",
       "      <td>Feeling This Way</td>\n",
       "      <td>Polina Griffith</td>\n",
       "      <td>dance</td>\n",
       "      <td>Moscow</td>\n",
       "      <td>20:47:49</td>\n",
       "      <td>Wednesday</td>\n",
       "    </tr>\n",
       "    <tr>\n",
       "      <th>8</th>\n",
       "      <td>8FA1D3BE</td>\n",
       "      <td>И вновь продолжается бой</td>\n",
       "      <td>NaN</td>\n",
       "      <td>ruspop</td>\n",
       "      <td>Moscow</td>\n",
       "      <td>09:17:40</td>\n",
       "      <td>Friday</td>\n",
       "    </tr>\n",
       "    <tr>\n",
       "      <th>9</th>\n",
       "      <td>E772D5C0</td>\n",
       "      <td>Pessimist</td>\n",
       "      <td>NaN</td>\n",
       "      <td>dance</td>\n",
       "      <td>Saint-Petersburg</td>\n",
       "      <td>21:20:49</td>\n",
       "      <td>Wednesday</td>\n",
       "    </tr>\n",
       "  </tbody>\n",
       "</table>\n",
       "</div>"
      ],
      "text/plain": [
       "     userID                        Track            artist   genre  \\\n",
       "0  FFB692EC            Kamigata To Boots  The Mass Missile    rock   \n",
       "1  55204538  Delayed Because of Accident  Andreas Rönnberg    rock   \n",
       "2    20EC38            Funiculì funiculà       Mario Lanza     pop   \n",
       "3  A3DD03C9        Dragons in the Sunset        Fire + Ice    folk   \n",
       "4  E2DC1FAE                  Soul People        Space Echo   dance   \n",
       "5  842029A1                    Преданная         IMPERVTOR  rusrap   \n",
       "6  4CB90AA5                         True      Roman Messer   dance   \n",
       "7  F03E1C1F             Feeling This Way   Polina Griffith   dance   \n",
       "8  8FA1D3BE     И вновь продолжается бой               NaN  ruspop   \n",
       "9  E772D5C0                    Pessimist               NaN   dance   \n",
       "\n",
       "             City        time        Day  \n",
       "0  Saint-Petersburg  20:28:33  Wednesday  \n",
       "1            Moscow  14:07:09     Friday  \n",
       "2  Saint-Petersburg  20:58:07  Wednesday  \n",
       "3  Saint-Petersburg  08:37:09     Monday  \n",
       "4            Moscow  08:34:34     Monday  \n",
       "5  Saint-Petersburg  13:09:41     Friday  \n",
       "6            Moscow  13:00:07  Wednesday  \n",
       "7            Moscow  20:47:49  Wednesday  \n",
       "8            Moscow  09:17:40     Friday  \n",
       "9  Saint-Petersburg  21:20:49  Wednesday  "
      ]
     },
     "metadata": {},
     "output_type": "display_data"
    }
   ],
   "source": [
    "display(df.head(10))"
   ]
  },
  {
   "cell_type": "markdown",
   "metadata": {
    "id": "EO73Kwic_Zct"
   },
   "source": [
    "Get general information about the table:"
   ]
  },
  {
   "cell_type": "code",
   "execution_count": 4,
   "metadata": {
    "id": "DSf2kIb-_Zct",
    "scrolled": true
   },
   "outputs": [
    {
     "name": "stdout",
     "output_type": "stream",
     "text": [
      "<class 'pandas.core.frame.DataFrame'>\n",
      "RangeIndex: 65079 entries, 0 to 65078\n",
      "Data columns (total 7 columns):\n",
      " #   Column    Non-Null Count  Dtype \n",
      "---  ------    --------------  ----- \n",
      " 0     userID  65079 non-null  object\n",
      " 1   Track     63848 non-null  object\n",
      " 2   artist    57876 non-null  object\n",
      " 3   genre     63881 non-null  object\n",
      " 4     City    65079 non-null  object\n",
      " 5   time      65079 non-null  object\n",
      " 6   Day       65079 non-null  object\n",
      "dtypes: object(7)\n",
      "memory usage: 3.5+ MB\n"
     ]
    }
   ],
   "source": [
    "df.info()"
   ]
  },
  {
   "cell_type": "markdown",
   "metadata": {
    "id": "TaQ2Iwbr_Zct"
   },
   "source": [
    "So the table has seven columns. The data type in all columns is `object`.\n",
    "\n",
    "According to the data documentation:\n",
    "* `userID` - user ID;\n",
    "* `Track` - track name;\n",
    "* `artist` - artist name;\n",
    "* `genre` - genre name;\n",
    "* `City` - user's city;\n",
    "* `time` - start time of listening;\n",
    "* `Day` - day of the week.\n",
    "\n",
    "There are three style violations in the column headings:\n",
    "1. Lowercase letters are combined with uppercase letters.\n",
    "2. There are gaps.\n",
    "3. Names of variables consisting of two or more words are not written in \"snake\" case.\n",
    "\n",
    "\n",
    "\n",
    "The number of values in the columns varies. This means there are missing values in the data.\n"
   ]
  },
  {
   "cell_type": "markdown",
   "metadata": {
    "id": "MCB6-dXG_Zct"
   },
   "source": [
    "**Выводы**\n",
    "\n",
    "В каждой строке таблицы — данные о прослушанном треке. Часть колонок описывает саму композицию: название, исполнителя и жанр. Остальные данные рассказывают о пользователе: из какого он города, когда он слушал музыку. \n",
    "\n",
    "Предварительно можно утверждать, что, данных достаточно для проверки гипотез. Но встречаются пропуски в данных, а в названиях колонок — расхождения с хорошим стилем.\n",
    "\n",
    "Чтобы двигаться дальше, нужно устранить проблемы в данных."
   ]
  },
  {
   "cell_type": "markdown",
   "metadata": {
    "id": "SjYF6Ub9_Zct"
   },
   "source": [
    "## Data preprocessing\n",
    "Let's fix the style in the column headings, eliminate gaps. Then we check the data for duplicates."
   ]
  },
  {
   "cell_type": "markdown",
   "metadata": {
    "id": "dIaKXr29_Zct"
   },
   "source": [
    "### Heading style\n",
    "Let's display the column names:"
   ]
  },
  {
   "cell_type": "code",
   "execution_count": 5,
   "metadata": {
    "id": "oKOTdF_Q_Zct"
   },
   "outputs": [
    {
     "data": {
      "text/plain": [
       "Index(['  userID', 'Track', 'artist', 'genre', '  City  ', 'time', 'Day'], dtype='object')"
      ]
     },
     "execution_count": 5,
     "metadata": {},
     "output_type": "execute_result"
    }
   ],
   "source": [
    "df.columns"
   ]
  },
  {
   "cell_type": "markdown",
   "metadata": {
    "id": "zj5534cv_Zct"
   },
   "source": [
    "Let's bring the names in line with good style:\n",
    "* we will write several-words-titles in the “snake register”,\n",
    "* all characters will be lowercase,\n",
    "* eliminate gaps.\n",
    "\n",
    "To do this, we will rename the columns like this:\n",
    "* `'  userID'` → `'user_id'`;\n",
    "* `'Track'` → `'track'`;\n",
    "* `'  City  '` → `'city'`;\n",
    "* `'Day'` → `'day'`."
   ]
  },
  {
   "cell_type": "code",
   "execution_count": 6,
   "metadata": {
    "id": "ISlFqs5y_Zct"
   },
   "outputs": [],
   "source": [
    "df = df.rename(columns={'  userID': 'user_id', 'Track': 'track', '  City  ': 'city', 'Day': 'day'})"
   ]
  },
  {
   "cell_type": "markdown",
   "metadata": {
    "id": "1dqbh00J_Zct"
   },
   "source": [
    "Let's check the result. To do this, once again display the names of the columns:"
   ]
  },
  {
   "cell_type": "code",
   "execution_count": 7,
   "metadata": {
    "id": "d4NOAmTW_Zct"
   },
   "outputs": [
    {
     "data": {
      "text/plain": [
       "Index(['user_id', 'track', 'artist', 'genre', 'city', 'time', 'day'], dtype='object')"
      ]
     },
     "execution_count": 7,
     "metadata": {},
     "output_type": "execute_result"
    }
   ],
   "source": [
    "df.columns"
   ]
  },
  {
   "cell_type": "markdown",
   "metadata": {
    "id": "5ISfbcfY_Zct"
   },
   "source": [
    "### Missing values\n",
    "First, let's calculate how many missing values are in the table."
   ]
  },
  {
   "cell_type": "code",
   "execution_count": 8,
   "metadata": {
    "id": "RskX29qr_Zct"
   },
   "outputs": [
    {
     "data": {
      "text/plain": [
       "user_id       0\n",
       "track      1231\n",
       "artist     7203\n",
       "genre      1198\n",
       "city          0\n",
       "time          0\n",
       "day           0\n",
       "dtype: int64"
      ]
     },
     "execution_count": 8,
     "metadata": {},
     "output_type": "execute_result"
    }
   ],
   "source": [
    "df.isna().sum()"
   ]
  },
  {
   "cell_type": "markdown",
   "metadata": {
    "id": "qubhgnlO_Zct"
   },
   "source": [
    "Not all missing values affect the study. So in `track` and `artist` the gaps are not important for our work. It suffices to replace them with explicit notation.\n",
    "\n",
    "But omissions in `genre` can interfere with the comparison of musical tastes in Moscow and St. Petersburg. So we will have to:\n",
    "* fill in these gaps with explicit notation,\n",
    "* estimate how much they will damage the calculations. "
   ]
  },
  {
   "cell_type": "markdown",
   "metadata": {
    "id": "fSv2laPA_Zct"
   },
   "source": [
    "Let's replace the missing values in the `track`, `artist` and `genre` columns with the string `'unknown'`. To do this, create a `columns_to_replace` list, iterate through its elements with a `for` loop, and for each column, replace the missing values:"
   ]
  },
  {
   "cell_type": "code",
   "execution_count": 9,
   "metadata": {
    "id": "KplB5qWs_Zct"
   },
   "outputs": [],
   "source": [
    "columns_to_replace = ['track', 'artist', 'genre']\n",
    "for column in columns_to_replace:\n",
    "    df[column] = df[column].fillna('unknown')"
   ]
  },
  {
   "cell_type": "markdown",
   "metadata": {
    "id": "Ilsm-MZo_Zct"
   },
   "source": [
    "Make sure there are no gaps in the table. To do this, let's count the missing values again."
   ]
  },
  {
   "cell_type": "code",
   "execution_count": 10,
   "metadata": {
    "id": "Tq4nYRX4_Zct"
   },
   "outputs": [
    {
     "data": {
      "text/plain": [
       "user_id    0\n",
       "track      0\n",
       "artist     0\n",
       "genre      0\n",
       "city       0\n",
       "time       0\n",
       "day        0\n",
       "dtype: int64"
      ]
     },
     "execution_count": 10,
     "metadata": {},
     "output_type": "execute_result"
    }
   ],
   "source": [
    "df.isna().sum()"
   ]
  },
  {
   "cell_type": "markdown",
   "metadata": {
    "id": "BWKRtBJ3_Zct"
   },
   "source": [
    "### Duplicates\n",
    "Let's count explicit duplicates in the table:"
   ]
  },
  {
   "cell_type": "code",
   "execution_count": 11,
   "metadata": {
    "id": "36eES_S0_Zct"
   },
   "outputs": [
    {
     "data": {
      "text/plain": [
       "3826"
      ]
     },
     "execution_count": 11,
     "metadata": {},
     "output_type": "execute_result"
    }
   ],
   "source": [
    "df.duplicated().sum()"
   ]
  },
  {
   "cell_type": "markdown",
   "metadata": {
    "id": "Ot25h6XR_Zct"
   },
   "source": [
    "Remove explicit duplicates:"
   ]
  },
  {
   "cell_type": "code",
   "execution_count": 12,
   "metadata": {
    "id": "exFHq6tt_Zct"
   },
   "outputs": [],
   "source": [
    "df = df.drop_duplicates().reset_index(drop=True)"
   ]
  },
  {
   "cell_type": "code",
   "execution_count": 13,
   "metadata": {
    "id": "-8PuNWQ0_Zct"
   },
   "outputs": [
    {
     "data": {
      "text/plain": [
       "0"
      ]
     },
     "execution_count": 13,
     "metadata": {},
     "output_type": "execute_result"
    }
   ],
   "source": [
    "df.duplicated().sum()"
   ]
  },
  {
   "cell_type": "markdown",
   "metadata": {
    "id": "QlFBsxAr_Zct"
   },
   "source": [
    "Now let's get rid of the implicit duplicates in the `genre` column. For example, the name of the same genre can be spelled slightly differently. Such errors will also affect the result of the study."
   ]
  },
  {
   "cell_type": "markdown",
   "metadata": {
    "id": "eSjWwsOh_Zct"
   },
   "source": [
    "Let's display a list of unique genre names, sorted alphabetically."
   ]
  },
  {
   "cell_type": "code",
   "execution_count": 14,
   "metadata": {
    "id": "JIUcqzZN_Zct"
   },
   "outputs": [
    {
     "data": {
      "text/plain": [
       "array(['acid', 'acoustic', 'action', 'adult', 'africa', 'afrikaans',\n",
       "       'alternative', 'alternativepunk', 'ambient', 'americana',\n",
       "       'animated', 'anime', 'arabesk', 'arabic', 'arena',\n",
       "       'argentinetango', 'art', 'audiobook', 'author', 'avantgarde',\n",
       "       'axé', 'baile', 'balkan', 'beats', 'bigroom', 'black', 'bluegrass',\n",
       "       'blues', 'bollywood', 'bossa', 'brazilian', 'breakbeat', 'breaks',\n",
       "       'broadway', 'cantautori', 'cantopop', 'canzone', 'caribbean',\n",
       "       'caucasian', 'celtic', 'chamber', 'chanson', 'children', 'chill',\n",
       "       'chinese', 'choral', 'christian', 'christmas', 'classical',\n",
       "       'classicmetal', 'club', 'colombian', 'comedy', 'conjazz',\n",
       "       'contemporary', 'country', 'cuban', 'dance', 'dancehall',\n",
       "       'dancepop', 'dark', 'death', 'deep', 'deutschrock', 'deutschspr',\n",
       "       'dirty', 'disco', 'dnb', 'documentary', 'downbeat', 'downtempo',\n",
       "       'drum', 'dub', 'dubstep', 'eastern', 'easy', 'electronic',\n",
       "       'electropop', 'emo', 'entehno', 'epicmetal', 'estrada', 'ethnic',\n",
       "       'eurofolk', 'european', 'experimental', 'extrememetal', 'fado',\n",
       "       'fairytail', 'film', 'fitness', 'flamenco', 'folk', 'folklore',\n",
       "       'folkmetal', 'folkrock', 'folktronica', 'forró', 'frankreich',\n",
       "       'französisch', 'french', 'funk', 'future', 'gangsta', 'garage',\n",
       "       'german', 'ghazal', 'gitarre', 'glitch', 'gospel', 'gothic',\n",
       "       'grime', 'grunge', 'gypsy', 'handsup', \"hard'n'heavy\", 'hardcore',\n",
       "       'hardstyle', 'hardtechno', 'hip', 'hip-hop', 'hiphop',\n",
       "       'historisch', 'holiday', 'hop', 'horror', 'house', 'hymn', 'idm',\n",
       "       'independent', 'indian', 'indie', 'indipop', 'industrial',\n",
       "       'inspirational', 'instrumental', 'international', 'irish', 'jam',\n",
       "       'japanese', 'jazz', 'jewish', 'jpop', 'jungle', 'k-pop',\n",
       "       'karadeniz', 'karaoke', 'kayokyoku', 'korean', 'laiko', 'latin',\n",
       "       'latino', 'leftfield', 'local', 'lounge', 'loungeelectronic',\n",
       "       'lovers', 'malaysian', 'mandopop', 'marschmusik', 'meditative',\n",
       "       'mediterranean', 'melodic', 'metal', 'metalcore', 'mexican',\n",
       "       'middle', 'minimal', 'miscellaneous', 'modern', 'mood', 'mpb',\n",
       "       'muslim', 'native', 'neoklassik', 'neue', 'new', 'newage',\n",
       "       'newwave', 'nu', 'nujazz', 'numetal', 'oceania', 'old', 'opera',\n",
       "       'orchestral', 'other', 'piano', 'podcasts', 'pop', 'popdance',\n",
       "       'popelectronic', 'popeurodance', 'poprussian', 'post',\n",
       "       'posthardcore', 'postrock', 'power', 'progmetal', 'progressive',\n",
       "       'psychedelic', 'punjabi', 'punk', 'quebecois', 'ragga', 'ram',\n",
       "       'rancheras', 'rap', 'rave', 'reggae', 'reggaeton', 'regional',\n",
       "       'relax', 'religious', 'retro', 'rhythm', 'rnb', 'rnr', 'rock',\n",
       "       'rockabilly', 'rockalternative', 'rockindie', 'rockother',\n",
       "       'romance', 'roots', 'ruspop', 'rusrap', 'rusrock', 'russian',\n",
       "       'salsa', 'samba', 'scenic', 'schlager', 'self', 'sertanejo',\n",
       "       'shanson', 'shoegazing', 'showtunes', 'singer', 'ska', 'skarock',\n",
       "       'slow', 'smooth', 'soft', 'soul', 'soulful', 'sound', 'soundtrack',\n",
       "       'southern', 'specialty', 'speech', 'spiritual', 'sport',\n",
       "       'stonerrock', 'surf', 'swing', 'synthpop', 'synthrock',\n",
       "       'sängerportrait', 'tango', 'tanzorchester', 'taraftar', 'tatar',\n",
       "       'tech', 'techno', 'teen', 'thrash', 'top', 'traditional',\n",
       "       'tradjazz', 'trance', 'tribal', 'trip', 'triphop', 'tropical',\n",
       "       'türk', 'türkçe', 'ukrrock', 'unknown', 'urban', 'uzbek',\n",
       "       'variété', 'vi', 'videogame', 'vocal', 'western', 'world',\n",
       "       'worldbeat', 'ïîï', 'электроника'], dtype=object)"
      ]
     },
     "execution_count": 14,
     "metadata": {},
     "output_type": "execute_result"
    }
   ],
   "source": [
    "df['genre'].sort_values().unique()"
   ]
  },
  {
   "cell_type": "markdown",
   "metadata": {
    "id": "qej-Qmuo_Zct"
   },
   "source": [
    "Let's go through the list and find the implicit duplicates of the name `hiphop`. These may be misspelled titles or alternative titles in the same genre.\n",
    "\n",
    "We will see the following implicit duplicates:\n",
    "* *hip*,\n",
    "* *hop*,\n",
    "* *hip-hop*.\n",
    "\n",
    "To clear the table of them, write the `replace_wrong_genres()` function with two parameters: \n",
    "* `wrong_genres` — list of duplicates,\n",
    "* `correct_genre` — string with correct value.\n",
    "\n",
    "The function will correct the `genre` column in the `df` table: it will replace each value from the `wrong_genres` list with a value from `correct_genre`."
   ]
  },
  {
   "cell_type": "code",
   "execution_count": 15,
   "metadata": {
    "id": "ErNDkmns_Zct"
   },
   "outputs": [],
   "source": [
    "def replace_wrong_genres(wrong_genres, correct_genre):\n",
    "    for wrong_genre in wrong_genres:\n",
    "        df['genre'] = df['genre'].replace(wrong_genre, correct_genre)"
   ]
  },
  {
   "cell_type": "code",
   "execution_count": 16,
   "metadata": {
    "id": "YN5i2hpmSo09"
   },
   "outputs": [],
   "source": [
    "wrong_genres = ['hip', 'hop', 'hip-hop']\n",
    "correct_genre = 'hiphop'\n",
    "\n",
    "replace_wrong_genres(wrong_genres, correct_genre)"
   ]
  },
  {
   "cell_type": "markdown",
   "metadata": {
    "id": "zQKF16_RG15m"
   },
   "source": [
    "Let's check that we have replaced the wrong names:\n",
    "\n",
    "*   hip\n",
    "*   hop\n",
    "*   hip-hop\n",
    "\n",
    "Let's output a sorted list of unique values of the `genre` column:"
   ]
  },
  {
   "cell_type": "code",
   "execution_count": 17,
   "metadata": {
    "id": "wvixALnFG15m"
   },
   "outputs": [
    {
     "data": {
      "text/plain": [
       "array(['acid', 'acoustic', 'action', 'adult', 'africa', 'afrikaans',\n",
       "       'alternative', 'alternativepunk', 'ambient', 'americana',\n",
       "       'animated', 'anime', 'arabesk', 'arabic', 'arena',\n",
       "       'argentinetango', 'art', 'audiobook', 'author', 'avantgarde',\n",
       "       'axé', 'baile', 'balkan', 'beats', 'bigroom', 'black', 'bluegrass',\n",
       "       'blues', 'bollywood', 'bossa', 'brazilian', 'breakbeat', 'breaks',\n",
       "       'broadway', 'cantautori', 'cantopop', 'canzone', 'caribbean',\n",
       "       'caucasian', 'celtic', 'chamber', 'chanson', 'children', 'chill',\n",
       "       'chinese', 'choral', 'christian', 'christmas', 'classical',\n",
       "       'classicmetal', 'club', 'colombian', 'comedy', 'conjazz',\n",
       "       'contemporary', 'country', 'cuban', 'dance', 'dancehall',\n",
       "       'dancepop', 'dark', 'death', 'deep', 'deutschrock', 'deutschspr',\n",
       "       'dirty', 'disco', 'dnb', 'documentary', 'downbeat', 'downtempo',\n",
       "       'drum', 'dub', 'dubstep', 'eastern', 'easy', 'electronic',\n",
       "       'electropop', 'emo', 'entehno', 'epicmetal', 'estrada', 'ethnic',\n",
       "       'eurofolk', 'european', 'experimental', 'extrememetal', 'fado',\n",
       "       'fairytail', 'film', 'fitness', 'flamenco', 'folk', 'folklore',\n",
       "       'folkmetal', 'folkrock', 'folktronica', 'forró', 'frankreich',\n",
       "       'französisch', 'french', 'funk', 'future', 'gangsta', 'garage',\n",
       "       'german', 'ghazal', 'gitarre', 'glitch', 'gospel', 'gothic',\n",
       "       'grime', 'grunge', 'gypsy', 'handsup', \"hard'n'heavy\", 'hardcore',\n",
       "       'hardstyle', 'hardtechno', 'hiphop', 'historisch', 'holiday',\n",
       "       'horror', 'house', 'hymn', 'idm', 'independent', 'indian', 'indie',\n",
       "       'indipop', 'industrial', 'inspirational', 'instrumental',\n",
       "       'international', 'irish', 'jam', 'japanese', 'jazz', 'jewish',\n",
       "       'jpop', 'jungle', 'k-pop', 'karadeniz', 'karaoke', 'kayokyoku',\n",
       "       'korean', 'laiko', 'latin', 'latino', 'leftfield', 'local',\n",
       "       'lounge', 'loungeelectronic', 'lovers', 'malaysian', 'mandopop',\n",
       "       'marschmusik', 'meditative', 'mediterranean', 'melodic', 'metal',\n",
       "       'metalcore', 'mexican', 'middle', 'minimal', 'miscellaneous',\n",
       "       'modern', 'mood', 'mpb', 'muslim', 'native', 'neoklassik', 'neue',\n",
       "       'new', 'newage', 'newwave', 'nu', 'nujazz', 'numetal', 'oceania',\n",
       "       'old', 'opera', 'orchestral', 'other', 'piano', 'podcasts', 'pop',\n",
       "       'popdance', 'popelectronic', 'popeurodance', 'poprussian', 'post',\n",
       "       'posthardcore', 'postrock', 'power', 'progmetal', 'progressive',\n",
       "       'psychedelic', 'punjabi', 'punk', 'quebecois', 'ragga', 'ram',\n",
       "       'rancheras', 'rap', 'rave', 'reggae', 'reggaeton', 'regional',\n",
       "       'relax', 'religious', 'retro', 'rhythm', 'rnb', 'rnr', 'rock',\n",
       "       'rockabilly', 'rockalternative', 'rockindie', 'rockother',\n",
       "       'romance', 'roots', 'ruspop', 'rusrap', 'rusrock', 'russian',\n",
       "       'salsa', 'samba', 'scenic', 'schlager', 'self', 'sertanejo',\n",
       "       'shanson', 'shoegazing', 'showtunes', 'singer', 'ska', 'skarock',\n",
       "       'slow', 'smooth', 'soft', 'soul', 'soulful', 'sound', 'soundtrack',\n",
       "       'southern', 'specialty', 'speech', 'spiritual', 'sport',\n",
       "       'stonerrock', 'surf', 'swing', 'synthpop', 'synthrock',\n",
       "       'sängerportrait', 'tango', 'tanzorchester', 'taraftar', 'tatar',\n",
       "       'tech', 'techno', 'teen', 'thrash', 'top', 'traditional',\n",
       "       'tradjazz', 'trance', 'tribal', 'trip', 'triphop', 'tropical',\n",
       "       'türk', 'türkçe', 'ukrrock', 'unknown', 'urban', 'uzbek',\n",
       "       'variété', 'vi', 'videogame', 'vocal', 'western', 'world',\n",
       "       'worldbeat', 'ïîï', 'электроника'], dtype=object)"
      ]
     },
     "execution_count": 17,
     "metadata": {},
     "output_type": "execute_result"
    }
   ],
   "source": [
    "df['genre'].sort_values().unique()"
   ]
  },
  {
   "cell_type": "markdown",
   "metadata": {
    "id": "jz6a9-7HQUDd"
   },
   "source": [
    "**Conclusions**\n",
    "\n",
    "Preprocessing showed three problems in the data:\n",
    "\n",
    "- header style violations,\n",
    "- missing values,\n",
    "- duplicates - explicit and implicit.\n",
    "\n",
    "We've fixed the headers to make the table easier to work with. Without duplicates, the study will become more accurate.\n",
    "\n",
    "We have replaced missing values with `'unknown'`. It remains to be seen whether the gaps in the `genre` column will harm the study.\n",
    "\n",
    "Now we can move on to hypothesis testing."
   ]
  },
  {
   "cell_type": "markdown",
   "metadata": {
    "id": "WttZHXH0SqKk"
   },
   "source": [
    "## Hypothesis testing"
   ]
  },
  {
   "cell_type": "markdown",
   "metadata": {
    "id": "Im936VVi_Zcu"
   },
   "source": [
    "### Comparison of user behavior of two capitals"
   ]
  },
  {
   "cell_type": "markdown",
   "metadata": {
    "id": "nwt_MuaL_Zcu"
   },
   "source": [
    "The first hypothesis states that users listen to music differently in Moscow and St. Petersburg. Let's check this assumption on the data on three days of the week - Monday, Wednesday and Friday. For this:\n",
    "\n",
    "* Separate users of Moscow and St. Petersburg\n",
    "* Let's compare how many tracks each group of users listened to on Monday, Wednesday and Friday."
   ]
  },
  {
   "cell_type": "markdown",
   "metadata": {
    "id": "8Dw_YMmT_Zcu"
   },
   "source": [
    "For training, we first perform each of the calculations separately.\n",
    "\n",
    "Let's evaluate the activity of users in each city. Let's group the data by city and count the plays in each group."
   ]
  },
  {
   "cell_type": "code",
   "execution_count": 18,
   "metadata": {},
   "outputs": [
    {
     "data": {
      "text/html": [
       "<div>\n",
       "<style scoped>\n",
       "    .dataframe tbody tr th:only-of-type {\n",
       "        vertical-align: middle;\n",
       "    }\n",
       "\n",
       "    .dataframe tbody tr th {\n",
       "        vertical-align: top;\n",
       "    }\n",
       "\n",
       "    .dataframe thead th {\n",
       "        text-align: right;\n",
       "    }\n",
       "</style>\n",
       "<table border=\"1\" class=\"dataframe\">\n",
       "  <thead>\n",
       "    <tr style=\"text-align: right;\">\n",
       "      <th></th>\n",
       "      <th>city</th>\n",
       "      <th>user_id</th>\n",
       "    </tr>\n",
       "  </thead>\n",
       "  <tbody>\n",
       "    <tr>\n",
       "      <th>0</th>\n",
       "      <td>Moscow</td>\n",
       "      <td>42741</td>\n",
       "    </tr>\n",
       "    <tr>\n",
       "      <th>1</th>\n",
       "      <td>Saint-Petersburg</td>\n",
       "      <td>18512</td>\n",
       "    </tr>\n",
       "  </tbody>\n",
       "</table>\n",
       "</div>"
      ],
      "text/plain": [
       "               city  user_id\n",
       "0            Moscow    42741\n",
       "1  Saint-Petersburg    18512"
      ]
     },
     "execution_count": 18,
     "metadata": {},
     "output_type": "execute_result"
    }
   ],
   "source": [
    "df.groupby('city')['user_id'].count().to_frame().reset_index()"
   ]
  },
  {
   "cell_type": "markdown",
   "metadata": {
    "id": "dzli3w8o_Zcu"
   },
   "source": [
    "There are more auditions in Moscow than in St. Petersburg. It does not follow from this that Moscow users listen to music more often. There are simply more users in Moscow.\n",
    "\n",
    "Now let's group the data by day of the week and count the plays on Monday, Wednesday, and Friday. Let's take into account that the data contains information about listening only for these days."
   ]
  },
  {
   "cell_type": "code",
   "execution_count": 19,
   "metadata": {
    "id": "uZMKjiJz_Zcu"
   },
   "outputs": [
    {
     "data": {
      "text/html": [
       "<div>\n",
       "<style scoped>\n",
       "    .dataframe tbody tr th:only-of-type {\n",
       "        vertical-align: middle;\n",
       "    }\n",
       "\n",
       "    .dataframe tbody tr th {\n",
       "        vertical-align: top;\n",
       "    }\n",
       "\n",
       "    .dataframe thead th {\n",
       "        text-align: right;\n",
       "    }\n",
       "</style>\n",
       "<table border=\"1\" class=\"dataframe\">\n",
       "  <thead>\n",
       "    <tr style=\"text-align: right;\">\n",
       "      <th></th>\n",
       "      <th>day</th>\n",
       "      <th>user_id</th>\n",
       "    </tr>\n",
       "  </thead>\n",
       "  <tbody>\n",
       "    <tr>\n",
       "      <th>0</th>\n",
       "      <td>Friday</td>\n",
       "      <td>21840</td>\n",
       "    </tr>\n",
       "    <tr>\n",
       "      <th>1</th>\n",
       "      <td>Monday</td>\n",
       "      <td>21354</td>\n",
       "    </tr>\n",
       "    <tr>\n",
       "      <th>2</th>\n",
       "      <td>Wednesday</td>\n",
       "      <td>18059</td>\n",
       "    </tr>\n",
       "  </tbody>\n",
       "</table>\n",
       "</div>"
      ],
      "text/plain": [
       "         day  user_id\n",
       "0     Friday    21840\n",
       "1     Monday    21354\n",
       "2  Wednesday    18059"
      ]
     },
     "execution_count": 19,
     "metadata": {},
     "output_type": "execute_result"
    }
   ],
   "source": [
    "df.groupby('day')['user_id'].count().to_frame().reset_index()"
   ]
  },
  {
   "cell_type": "markdown",
   "metadata": {
    "id": "cC2tNrlL_Zcu"
   },
   "source": [
    "On average, users from the two cities are less active on Wednesdays. But the picture may change if we consider each city separately."
   ]
  },
  {
   "cell_type": "markdown",
   "metadata": {
    "id": "POzs8bGa_Zcu"
   },
   "source": [
    "Now let's write a function that combines these two calculations.\n",
    "\n",
    "Let's create a `number_tracks()` function that will count the plays for a given day and city. It will need two parameters:\n",
    "* day of the week,\n",
    "* city name.\n",
    "\n",
    "In the function, we save the rows of the source table into a variable, which value:\n",
    "  * in the `day` column is equal to the `day` parameter,\n",
    "  * in the `city` column is equal to the `city` parameter.\n",
    "\n",
    "To do this, apply sequential filtering with logical indexing.\n",
    "\n",
    "Then we count the values in the `user_id` column of the resulting table. The result will be stored in a new variable. Let's return this variable from the function."
   ]
  },
  {
   "cell_type": "code",
   "execution_count": 20,
   "metadata": {
    "id": "Nz3GdQB1_Zcu"
   },
   "outputs": [],
   "source": [
    "def number_tracks(day, city):\n",
    "    df_filtered = df[df['day'] == day]\n",
    "    df_filtered = df_filtered[df_filtered['city'] == city]\n",
    "    track_list_count = df_filtered['user_id'].count()\n",
    "    return track_list_count"
   ]
  },
  {
   "cell_type": "markdown",
   "metadata": {
    "id": "ytf7xFrFJQ2r"
   },
   "source": [
    "Let's call `number_tracks()` six times, changing the value of the parameters so that we get data for each city on each of the three days."
   ]
  },
  {
   "cell_type": "code",
   "execution_count": 21,
   "metadata": {
    "id": "rJcRATNQ_Zcu"
   },
   "outputs": [
    {
     "data": {
      "text/plain": [
       "15740"
      ]
     },
     "execution_count": 21,
     "metadata": {},
     "output_type": "execute_result"
    }
   ],
   "source": [
    "# number of auditions in Moscow on Mondays\n",
    "number_tracks(day='Monday', city='Moscow')"
   ]
  },
  {
   "cell_type": "code",
   "execution_count": 22,
   "metadata": {
    "id": "hq_ncZ5T_Zcu"
   },
   "outputs": [
    {
     "data": {
      "text/plain": [
       "5614"
      ]
     },
     "execution_count": 22,
     "metadata": {},
     "output_type": "execute_result"
    }
   ],
   "source": [
    "# number of auditions in St. Petersburg on Mondays\n",
    "number_tracks(day='Monday', city='Saint-Petersburg')"
   ]
  },
  {
   "cell_type": "code",
   "execution_count": 23,
   "metadata": {
    "id": "_NTy2VPU_Zcu"
   },
   "outputs": [
    {
     "data": {
      "text/plain": [
       "11056"
      ]
     },
     "execution_count": 23,
     "metadata": {},
     "output_type": "execute_result"
    }
   ],
   "source": [
    "# number of auditions in Moscow on Wednesdays\n",
    "number_tracks(day='Wednesday', city='Moscow')"
   ]
  },
  {
   "cell_type": "code",
   "execution_count": 24,
   "metadata": {
    "id": "j2y3TAwo_Zcu"
   },
   "outputs": [
    {
     "data": {
      "text/plain": [
       "7003"
      ]
     },
     "execution_count": 24,
     "metadata": {},
     "output_type": "execute_result"
    }
   ],
   "source": [
    "# number of auditions in St. Petersburg on Wednesdays\n",
    "number_tracks(day='Wednesday', city='Saint-Petersburg')"
   ]
  },
  {
   "cell_type": "code",
   "execution_count": 25,
   "metadata": {
    "id": "vYDw5u_K_Zcu"
   },
   "outputs": [
    {
     "data": {
      "text/plain": [
       "15945"
      ]
     },
     "execution_count": 25,
     "metadata": {},
     "output_type": "execute_result"
    }
   ],
   "source": [
    "# number of auditions in Moscow on Fridays\n",
    "number_tracks(day='Friday', city='Moscow')"
   ]
  },
  {
   "cell_type": "code",
   "execution_count": 26,
   "metadata": {
    "id": "8_yzFtW3_Zcu"
   },
   "outputs": [
    {
     "data": {
      "text/plain": [
       "5895"
      ]
     },
     "execution_count": 26,
     "metadata": {},
     "output_type": "execute_result"
    }
   ],
   "source": [
    "# number of auditions in St. Petersburg on Fridays\n",
    "number_tracks(day='Friday', city='Saint-Petersburg')"
   ]
  },
  {
   "cell_type": "markdown",
   "metadata": {
    "id": "7QXffbO-_Zcu"
   },
   "source": [
    "Let's create a table using the `pd.DataFrame` constructor, where\n",
    "* column names - `['city', 'monday', 'wednesday', 'friday']`;\n",
    "* data - the results we got with `number_tracks`."
   ]
  },
  {
   "cell_type": "code",
   "execution_count": 27,
   "metadata": {
    "id": "APAcLpOr_Zcu"
   },
   "outputs": [
    {
     "data": {
      "text/html": [
       "<div>\n",
       "<style scoped>\n",
       "    .dataframe tbody tr th:only-of-type {\n",
       "        vertical-align: middle;\n",
       "    }\n",
       "\n",
       "    .dataframe tbody tr th {\n",
       "        vertical-align: top;\n",
       "    }\n",
       "\n",
       "    .dataframe thead th {\n",
       "        text-align: right;\n",
       "    }\n",
       "</style>\n",
       "<table border=\"1\" class=\"dataframe\">\n",
       "  <thead>\n",
       "    <tr style=\"text-align: right;\">\n",
       "      <th></th>\n",
       "      <th>city</th>\n",
       "      <th>monday</th>\n",
       "      <th>wednesday</th>\n",
       "      <th>friday</th>\n",
       "    </tr>\n",
       "  </thead>\n",
       "  <tbody>\n",
       "    <tr>\n",
       "      <th>0</th>\n",
       "      <td>Moscow</td>\n",
       "      <td>15740</td>\n",
       "      <td>11056</td>\n",
       "      <td>15945</td>\n",
       "    </tr>\n",
       "    <tr>\n",
       "      <th>1</th>\n",
       "      <td>Saint-Petersburg</td>\n",
       "      <td>5614</td>\n",
       "      <td>7003</td>\n",
       "      <td>5895</td>\n",
       "    </tr>\n",
       "  </tbody>\n",
       "</table>\n",
       "</div>"
      ],
      "text/plain": [
       "               city  monday  wednesday  friday\n",
       "0            Moscow   15740      11056   15945\n",
       "1  Saint-Petersburg    5614       7003    5895"
      ]
     },
     "execution_count": 27,
     "metadata": {},
     "output_type": "execute_result"
    }
   ],
   "source": [
    "# Results table\n",
    "data = [['Moscow', 15740, 11056, 15945], \n",
    "        ['Saint-Petersburg', 5614, 7003, 5895]\n",
    "       ]\n",
    "columns = ['city', 'monday', 'wednesday', 'friday']\n",
    "\n",
    "results_table = pd.DataFrame(data=data, columns=columns)\n",
    "results_table"
   ]
  },
  {
   "cell_type": "markdown",
   "metadata": {
    "id": "-EgPIHYu_Zcu"
   },
   "source": [
    "**Conclusions**\n",
    "\n",
    "The data shows the difference in user behavior:\n",
    "\n",
    "- In Moscow, the peak of listening falls on Monday and Friday, and on Wednesday there is a noticeable decline.\n",
    "- In St. Petersburg, on the contrary, they listen to music more on Wednesdays. Activity on Monday and Friday here is almost equally inferior to Wednesday.\n",
    "\n",
    "So the data support the first hypothesis."
   ]
  },
  {
   "cell_type": "markdown",
   "metadata": {
    "id": "atZAxtq4_Zcu"
   },
   "source": [
    "### Music at the beginning and end of the week"
   ]
  },
  {
   "cell_type": "markdown",
   "metadata": {
    "id": "eXrQqXFH_Zcu"
   },
   "source": [
    "According to the second hypothesis, on Monday morning certain genres predominate in Moscow, while others dominate in St. Petersburg. Similarly, Friday evenings are dominated by different genres, depending on the city."
   ]
  },
  {
   "cell_type": "markdown",
   "metadata": {
    "id": "S8UcW6Hw_Zcu"
   },
   "source": [
    "Let's save tables with data in two variables:\n",
    "* in Moscow - in `moscow_general`;\n",
    "* in St. Petersburg - in `spb_general`."
   ]
  },
  {
   "cell_type": "code",
   "execution_count": 28,
   "metadata": {
    "id": "qeaFfM_P_Zcu"
   },
   "outputs": [],
   "source": [
    "moscow_general = df[df['city'] == 'Moscow']"
   ]
  },
  {
   "cell_type": "code",
   "execution_count": 29,
   "metadata": {
    "id": "ORaVRKto_Zcu"
   },
   "outputs": [],
   "source": [
    "spb_general = df[df['city'] == 'Saint-Petersburg']"
   ]
  },
  {
   "cell_type": "markdown",
   "metadata": {
    "id": "MEJV-CX2_Zcu"
   },
   "source": [
    "Let's create a `genre_weekday()` function with four parameters:\n",
    "* table (dataframe) with data,\n",
    "* day of the week,\n",
    "* start timestamp in 'hh:mm' format,\n",
    "* last timestamp in 'hh:mm' format.\n",
    "\n",
    "The function should return information about the top 10 genres of those tracks that were listened to on the specified day, in the interval between two timestamps."
   ]
  },
  {
   "cell_type": "code",
   "execution_count": 30,
   "metadata": {
    "id": "laJT9BYl_Zcu"
   },
   "outputs": [],
   "source": [
    "def genre_weekday(table, day, time1, time2):\n",
    "    genre_df = table[table['day'] == day]\n",
    "    genre_df = genre_df[genre_df['time'] > time1]\n",
    "    genre_df = genre_df[genre_df['time'] < time2]\n",
    "    \n",
    "    genre_df_count = genre_df.groupby('genre')['genre'].count()\n",
    "    genre_df_sorted = genre_df_count.sort_values(ascending=False)\n",
    "    \n",
    "    return genre_df_sorted[:10]"
   ]
  },
  {
   "cell_type": "markdown",
   "metadata": {
    "id": "la2s2_PF_Zcu"
   },
   "source": [
    "Let's compare the results of the `genre_weekday()` function for Moscow and St. Petersburg on Monday morning (from 7:00 to 11:00) and Friday evening (from 17:00 to 23:00):"
   ]
  },
  {
   "cell_type": "code",
   "execution_count": 31,
   "metadata": {
    "id": "yz7itPUQ_Zcu"
   },
   "outputs": [
    {
     "data": {
      "text/plain": [
       "genre\n",
       "pop            781\n",
       "dance          549\n",
       "electronic     480\n",
       "rock           474\n",
       "hiphop         286\n",
       "ruspop         186\n",
       "world          181\n",
       "rusrap         175\n",
       "alternative    164\n",
       "unknown        161\n",
       "Name: genre, dtype: int64"
      ]
     },
     "execution_count": 31,
     "metadata": {},
     "output_type": "execute_result"
    }
   ],
   "source": [
    "genre_weekday(moscow_general, 'Monday', '07:00', '11:00')"
   ]
  },
  {
   "cell_type": "code",
   "execution_count": 32,
   "metadata": {
    "id": "kwUcHPdy_Zcu"
   },
   "outputs": [
    {
     "data": {
      "text/plain": [
       "genre\n",
       "pop            218\n",
       "dance          182\n",
       "rock           162\n",
       "electronic     147\n",
       "hiphop          80\n",
       "ruspop          64\n",
       "alternative     58\n",
       "rusrap          55\n",
       "jazz            44\n",
       "classical       40\n",
       "Name: genre, dtype: int64"
      ]
     },
     "execution_count": 32,
     "metadata": {},
     "output_type": "execute_result"
    }
   ],
   "source": [
    "genre_weekday(spb_general, 'Monday', '07:00', '11:00')"
   ]
  },
  {
   "cell_type": "code",
   "execution_count": 33,
   "metadata": {
    "id": "EzXVRE1o_Zcu"
   },
   "outputs": [
    {
     "data": {
      "text/plain": [
       "genre\n",
       "pop            713\n",
       "rock           517\n",
       "dance          495\n",
       "electronic     482\n",
       "hiphop         273\n",
       "world          208\n",
       "ruspop         170\n",
       "alternative    163\n",
       "classical      163\n",
       "rusrap         142\n",
       "Name: genre, dtype: int64"
      ]
     },
     "execution_count": 33,
     "metadata": {},
     "output_type": "execute_result"
    }
   ],
   "source": [
    "genre_weekday(moscow_general, 'Friday', '17:00', '23:00')"
   ]
  },
  {
   "cell_type": "code",
   "execution_count": 34,
   "metadata": {
    "id": "JZaEKu5v_Zcu"
   },
   "outputs": [
    {
     "data": {
      "text/plain": [
       "genre\n",
       "pop            256\n",
       "electronic     216\n",
       "rock           216\n",
       "dance          210\n",
       "hiphop          97\n",
       "alternative     63\n",
       "jazz            61\n",
       "classical       60\n",
       "rusrap          59\n",
       "world           54\n",
       "Name: genre, dtype: int64"
      ]
     },
     "execution_count": 34,
     "metadata": {},
     "output_type": "execute_result"
    }
   ],
   "source": [
    "genre_weekday(spb_general, 'Friday', '17:00', '23:00')"
   ]
  },
  {
   "cell_type": "markdown",
   "metadata": {
    "id": "wrCe4MNX_Zcu"
   },
   "source": [
    "**Conclusions**\n",
    "\n",
    "If we compare the top 10 genres on Monday morning, we can draw the following conclusions:\n",
    "\n",
    "1. In Moscow and St. Petersburg they listen to similar music. The only difference is that the Moscow rating includes the “world” genre, while the St. Petersburg rating includes jazz and classical.\n",
    "\n",
    "2. There were so many missing values ​​in Moscow that the value `'unknown'` took tenth place among the most popular genres. This means that missing values ​​occupy a significant share in the data and threaten the reliability of the study.\n",
    "\n",
    "Friday night does not change this picture. Some genres rise a little higher, others go down, but overall the top 10 stays the same.\n",
    "\n",
    "Thus, the second hypothesis was only partially confirmed:\n",
    "* Users listen to similar music at the beginning of the week and at the end.\n",
    "* The difference between Moscow and St. Petersburg is not very pronounced. In Moscow, they listen to Russian popular music more often, in St. Petersburg - jazz.\n",
    "\n",
    "However, gaps in the data cast doubt on this result. There are so many of them in Moscow that the top 10 ranking could look different if it were not for the lost genre data."
   ]
  },
  {
   "cell_type": "markdown",
   "metadata": {
    "id": "JolODAqr_Zcu"
   },
   "source": [
    "### Genre preferences in Moscow and St. Petersburg\n",
    "\n",
    "Hypothesis: St. Petersburg is the capital of rap, the music of this genre is listened to more often than in Moscow. And Moscow is a city of contrasts, which, nevertheless, is dominated by pop music."
   ]
  },
  {
   "cell_type": "markdown",
   "metadata": {
    "id": "DlegSvaT_Zcu"
   },
   "source": [
    "Let's group the `moscow_general` table by genre and count the listens of tracks of each genre using the `count()` method. Then we sort the result in descending order and store it in the `moscow_genres` table."
   ]
  },
  {
   "cell_type": "code",
   "execution_count": 35,
   "metadata": {
    "id": "r19lIPke_Zcu"
   },
   "outputs": [],
   "source": [
    "moscow_genres = moscow_general.groupby('genre')['genre'].count().sort_values(ascending=False)"
   ]
  },
  {
   "cell_type": "markdown",
   "metadata": {
    "id": "6kMuomxTiIr8"
   },
   "source": [
    "Let's display the first ten lines of `moscow_genres`:"
   ]
  },
  {
   "cell_type": "code",
   "execution_count": 36,
   "metadata": {
    "id": "WhCSooF8_Zcv"
   },
   "outputs": [
    {
     "data": {
      "text/plain": [
       "genre\n",
       "pop            5892\n",
       "dance          4435\n",
       "rock           3965\n",
       "electronic     3786\n",
       "hiphop         2096\n",
       "classical      1616\n",
       "world          1432\n",
       "alternative    1379\n",
       "ruspop         1372\n",
       "rusrap         1161\n",
       "Name: genre, dtype: int64"
      ]
     },
     "execution_count": 36,
     "metadata": {},
     "output_type": "execute_result"
    }
   ],
   "source": [
    "moscow_genres[:10]"
   ]
  },
  {
   "cell_type": "markdown",
   "metadata": {
    "id": "cnPG2vnN_Zcv"
   },
   "source": [
    "Now let's repeat the same for St. Petersburg.\n",
    "\n",
    "Let's group the `spb_general` table by genre. Let's count listening to tracks of each genre. Sort the result in descending order and store it in the `spb_genres` table:"
   ]
  },
  {
   "cell_type": "code",
   "execution_count": 37,
   "metadata": {
    "id": "gluLIpE7_Zcv"
   },
   "outputs": [
    {
     "data": {
      "text/plain": [
       "genre\n",
       "pop            2431\n",
       "dance          1932\n",
       "rock           1879\n",
       "electronic     1736\n",
       "hiphop          960\n",
       "alternative     649\n",
       "classical       646\n",
       "rusrap          564\n",
       "ruspop          538\n",
       "world           515\n",
       "Name: genre, dtype: int64"
      ]
     },
     "execution_count": 37,
     "metadata": {},
     "output_type": "execute_result"
    }
   ],
   "source": [
    "spb_genres = spb_general.groupby('genre')['genre'].count().sort_values(ascending=False)\n",
    "spb_genres[:10]"
   ]
  },
  {
   "cell_type": "markdown",
   "metadata": {
    "id": "nVhnJEm__Zcv"
   },
   "source": [
    "**Conclusions**\n",
    "The hypothesis was partially confirmed:\n",
    "* Pop music is the most popular genre in Moscow, as the hypothesis suggested. Moreover, in the top 10 genres there is a close genre - Russian popular music.\n",
    "* Contrary to expectations, rap is equally popular in Moscow and St. Petersburg."
   ]
  },
  {
   "cell_type": "markdown",
   "metadata": {
    "id": "ykKQ0N65_Zcv"
   },
   "source": [
    "## Results of the study"
   ]
  },
  {
   "cell_type": "markdown",
   "metadata": {
    "id": "tjUwbHb3_Zcv"
   },
   "source": [
    "We tested three hypotheses and found:\n",
    "\n",
    "1. The day of the week has a different effect on the activity of users in Moscow and St. Petersburg.\n",
    "\n",
    "The first hypothesis was fully confirmed.\n",
    "\n",
    "2. Musical preferences do not change much during the week - be it Moscow or St. Petersburg. Small differences are noticeable at the beginning of the week, on Mondays:\n",
    "* in Moscow they listen to music of the “world” genre,\n",
    "* in St. Petersburg - jazz and classical music.\n",
    "\n",
    "Thus, the second hypothesis was only partly confirmed. This result could have been different were it not for gaps in the data.\n",
    "\n",
    "3. The tastes of users of Moscow and St. Petersburg have more in common than differences. Contrary to expectations, genre preferences in St. Petersburg resemble those in Moscow.\n",
    "\n",
    "The third hypothesis was not confirmed."
   ]
  },
  {
   "cell_type": "code",
   "execution_count": null,
   "metadata": {},
   "outputs": [],
   "source": []
  }
 ],
 "metadata": {
  "ExecuteTimeLog": [
   {
    "duration": 353,
    "start_time": "2022-09-15T09:04:53.417Z"
   },
   {
    "duration": 443,
    "start_time": "2022-09-15T09:04:56.413Z"
   },
   {
    "duration": 7,
    "start_time": "2022-09-15T09:05:00.066Z"
   },
   {
    "duration": 15,
    "start_time": "2022-09-15T09:05:36.721Z"
   },
   {
    "duration": 27,
    "start_time": "2022-09-15T09:05:53.275Z"
   },
   {
    "duration": 25,
    "start_time": "2022-09-15T09:06:04.719Z"
   },
   {
    "duration": 4,
    "start_time": "2022-09-15T09:16:45.302Z"
   },
   {
    "duration": 3,
    "start_time": "2022-09-15T09:17:03.317Z"
   },
   {
    "duration": 12,
    "start_time": "2022-09-15T09:19:21.888Z"
   },
   {
    "duration": 4,
    "start_time": "2022-09-15T09:19:32.774Z"
   },
   {
    "duration": 22,
    "start_time": "2022-09-15T09:20:05.205Z"
   },
   {
    "duration": 20,
    "start_time": "2022-09-15T09:20:15.722Z"
   },
   {
    "duration": 21,
    "start_time": "2022-09-15T09:20:37.014Z"
   },
   {
    "duration": 15,
    "start_time": "2022-09-15T09:24:33.753Z"
   },
   {
    "duration": 22,
    "start_time": "2022-09-15T09:24:52.947Z"
   },
   {
    "duration": 62,
    "start_time": "2022-09-15T09:25:19.539Z"
   },
   {
    "duration": 58,
    "start_time": "2022-09-15T09:25:30.812Z"
   },
   {
    "duration": 70,
    "start_time": "2022-09-15T09:26:25.576Z"
   },
   {
    "duration": 70,
    "start_time": "2022-09-15T09:26:41.910Z"
   },
   {
    "duration": 33,
    "start_time": "2022-09-15T09:52:33.541Z"
   },
   {
    "duration": 33,
    "start_time": "2022-09-15T09:52:57.022Z"
   },
   {
    "duration": 33,
    "start_time": "2022-09-15T09:53:14.013Z"
   },
   {
    "duration": 3,
    "start_time": "2022-09-15T09:58:18.972Z"
   },
   {
    "duration": 83,
    "start_time": "2022-09-15T10:00:22.723Z"
   },
   {
    "duration": 3,
    "start_time": "2022-09-15T10:01:01.067Z"
   },
   {
    "duration": 9,
    "start_time": "2022-09-15T10:01:12.395Z"
   },
   {
    "duration": 30,
    "start_time": "2022-09-15T10:01:57.016Z"
   },
   {
    "duration": 37,
    "start_time": "2022-09-15T10:02:27.687Z"
   },
   {
    "duration": 11,
    "start_time": "2022-09-15T10:03:11.904Z"
   },
   {
    "duration": 54,
    "start_time": "2022-09-15T10:03:14.739Z"
   },
   {
    "duration": 13,
    "start_time": "2022-09-15T10:15:30.273Z"
   },
   {
    "duration": 11,
    "start_time": "2022-09-15T10:15:43.547Z"
   },
   {
    "duration": 10,
    "start_time": "2022-09-15T10:16:31.963Z"
   },
   {
    "duration": 13,
    "start_time": "2022-09-15T10:21:50.729Z"
   },
   {
    "duration": 39,
    "start_time": "2022-09-15T10:23:35.268Z"
   },
   {
    "duration": 10,
    "start_time": "2022-09-15T10:23:59.954Z"
   },
   {
    "duration": 17,
    "start_time": "2022-09-15T10:24:14.173Z"
   },
   {
    "duration": 15,
    "start_time": "2022-09-15T10:26:03.864Z"
   },
   {
    "duration": 10,
    "start_time": "2022-09-15T10:26:08.568Z"
   },
   {
    "duration": 4,
    "start_time": "2022-09-15T10:27:39.515Z"
   },
   {
    "duration": 4,
    "start_time": "2022-09-15T10:27:49.765Z"
   },
   {
    "duration": 11,
    "start_time": "2022-09-15T10:28:13.164Z"
   },
   {
    "duration": 20,
    "start_time": "2022-09-15T10:29:28.765Z"
   },
   {
    "duration": 8,
    "start_time": "2022-09-15T10:32:33.135Z"
   },
   {
    "duration": 16,
    "start_time": "2022-09-15T10:32:50.911Z"
   },
   {
    "duration": 18,
    "start_time": "2022-09-15T10:33:23.409Z"
   },
   {
    "duration": 3,
    "start_time": "2022-09-15T10:36:58.302Z"
   },
   {
    "duration": 15,
    "start_time": "2022-09-15T10:37:56.726Z"
   },
   {
    "duration": 7,
    "start_time": "2022-09-15T10:38:40.125Z"
   },
   {
    "duration": 14,
    "start_time": "2022-09-15T10:39:05.328Z"
   },
   {
    "duration": 18,
    "start_time": "2022-09-15T10:39:20.675Z"
   },
   {
    "duration": 13,
    "start_time": "2022-09-15T10:39:37.945Z"
   },
   {
    "duration": 18,
    "start_time": "2022-09-15T10:39:47.672Z"
   },
   {
    "duration": 13,
    "start_time": "2022-09-15T10:40:08.014Z"
   },
   {
    "duration": 10,
    "start_time": "2022-09-15T10:45:37.490Z"
   },
   {
    "duration": 10,
    "start_time": "2022-09-15T10:57:51.196Z"
   },
   {
    "duration": 10,
    "start_time": "2022-09-15T10:57:52.588Z"
   },
   {
    "duration": 4,
    "start_time": "2022-09-15T11:04:53.947Z"
   },
   {
    "duration": 18,
    "start_time": "2022-09-15T11:11:40.515Z"
   },
   {
    "duration": 17,
    "start_time": "2022-09-15T11:11:45.100Z"
   },
   {
    "duration": 15,
    "start_time": "2022-09-15T11:11:48.992Z"
   },
   {
    "duration": 12,
    "start_time": "2022-09-15T11:12:31.371Z"
   },
   {
    "duration": 13,
    "start_time": "2022-09-15T11:13:55.781Z"
   },
   {
    "duration": 10,
    "start_time": "2022-09-15T11:13:58.105Z"
   },
   {
    "duration": 11,
    "start_time": "2022-09-15T11:18:50.484Z"
   },
   {
    "duration": 7,
    "start_time": "2022-09-15T11:19:00.966Z"
   },
   {
    "duration": 3,
    "start_time": "2022-09-15T11:19:17.052Z"
   },
   {
    "duration": 5,
    "start_time": "2022-09-15T11:20:26.966Z"
   },
   {
    "duration": 3,
    "start_time": "2022-09-15T11:20:41.889Z"
   },
   {
    "duration": 42,
    "start_time": "2022-09-15T11:24:10.458Z"
   },
   {
    "duration": 7,
    "start_time": "2022-09-15T11:24:22.556Z"
   },
   {
    "duration": 382,
    "start_time": "2022-09-15T11:24:28.958Z"
   },
   {
    "duration": 147,
    "start_time": "2022-09-15T11:24:29.342Z"
   },
   {
    "duration": 15,
    "start_time": "2022-09-15T11:24:29.490Z"
   },
   {
    "duration": 25,
    "start_time": "2022-09-15T11:24:29.507Z"
   },
   {
    "duration": 3,
    "start_time": "2022-09-15T11:24:29.533Z"
   },
   {
    "duration": 13,
    "start_time": "2022-09-15T11:24:29.538Z"
   },
   {
    "duration": 25,
    "start_time": "2022-09-15T11:24:29.553Z"
   },
   {
    "duration": 20,
    "start_time": "2022-09-15T11:24:29.579Z"
   },
   {
    "duration": 17,
    "start_time": "2022-09-15T11:24:29.601Z"
   },
   {
    "duration": 21,
    "start_time": "2022-09-15T11:24:29.621Z"
   },
   {
    "duration": 88,
    "start_time": "2022-09-15T11:24:29.644Z"
   },
   {
    "duration": 80,
    "start_time": "2022-09-15T11:24:29.734Z"
   },
   {
    "duration": 62,
    "start_time": "2022-09-15T11:24:29.815Z"
   },
   {
    "duration": 32,
    "start_time": "2022-09-15T11:24:29.879Z"
   },
   {
    "duration": 2,
    "start_time": "2022-09-15T11:24:29.913Z"
   },
   {
    "duration": 10,
    "start_time": "2022-09-15T11:24:29.917Z"
   },
   {
    "duration": 49,
    "start_time": "2022-09-15T11:24:29.929Z"
   },
   {
    "duration": 10,
    "start_time": "2022-09-15T11:24:29.979Z"
   },
   {
    "duration": 9,
    "start_time": "2022-09-15T11:24:29.991Z"
   },
   {
    "duration": 3,
    "start_time": "2022-09-15T11:24:30.001Z"
   },
   {
    "duration": 17,
    "start_time": "2022-09-15T11:24:30.006Z"
   },
   {
    "duration": 16,
    "start_time": "2022-09-15T11:24:30.025Z"
   },
   {
    "duration": 46,
    "start_time": "2022-09-15T11:24:30.043Z"
   },
   {
    "duration": 14,
    "start_time": "2022-09-15T11:24:30.091Z"
   },
   {
    "duration": 14,
    "start_time": "2022-09-15T11:24:30.107Z"
   },
   {
    "duration": 14,
    "start_time": "2022-09-15T11:24:30.123Z"
   },
   {
    "duration": 45,
    "start_time": "2022-09-15T11:24:30.139Z"
   },
   {
    "duration": 13,
    "start_time": "2022-09-15T11:24:30.188Z"
   },
   {
    "duration": 10,
    "start_time": "2022-09-15T11:24:30.203Z"
   },
   {
    "duration": 6,
    "start_time": "2022-09-15T11:24:30.215Z"
   },
   {
    "duration": 25,
    "start_time": "2022-09-15T11:24:30.223Z"
   },
   {
    "duration": 27,
    "start_time": "2022-09-15T11:24:30.250Z"
   },
   {
    "duration": 15,
    "start_time": "2022-09-15T11:24:30.280Z"
   },
   {
    "duration": 12,
    "start_time": "2022-09-15T11:24:30.297Z"
   },
   {
    "duration": 10,
    "start_time": "2022-09-15T11:24:30.310Z"
   },
   {
    "duration": 15,
    "start_time": "2022-09-15T11:24:30.322Z"
   },
   {
    "duration": 18,
    "start_time": "2022-09-15T11:24:30.338Z"
   },
   {
    "duration": 26,
    "start_time": "2022-09-15T11:24:30.357Z"
   },
   {
    "duration": 376,
    "start_time": "2022-09-15T11:24:47.613Z"
   },
   {
    "duration": 180,
    "start_time": "2022-09-15T11:24:47.991Z"
   },
   {
    "duration": 18,
    "start_time": "2022-09-15T11:24:48.173Z"
   },
   {
    "duration": 29,
    "start_time": "2022-09-15T11:24:48.193Z"
   },
   {
    "duration": 7,
    "start_time": "2022-09-15T11:24:48.224Z"
   },
   {
    "duration": 23,
    "start_time": "2022-09-15T11:24:48.232Z"
   },
   {
    "duration": 7,
    "start_time": "2022-09-15T11:24:48.256Z"
   },
   {
    "duration": 20,
    "start_time": "2022-09-15T11:24:48.277Z"
   },
   {
    "duration": 14,
    "start_time": "2022-09-15T11:24:48.299Z"
   },
   {
    "duration": 20,
    "start_time": "2022-09-15T11:24:48.315Z"
   },
   {
    "duration": 73,
    "start_time": "2022-09-15T11:24:48.337Z"
   },
   {
    "duration": 78,
    "start_time": "2022-09-15T11:24:48.412Z"
   },
   {
    "duration": 49,
    "start_time": "2022-09-15T11:24:48.492Z"
   },
   {
    "duration": 41,
    "start_time": "2022-09-15T11:24:48.544Z"
   },
   {
    "duration": 2,
    "start_time": "2022-09-15T11:24:48.587Z"
   },
   {
    "duration": 10,
    "start_time": "2022-09-15T11:24:48.591Z"
   },
   {
    "duration": 32,
    "start_time": "2022-09-15T11:24:48.602Z"
   },
   {
    "duration": 11,
    "start_time": "2022-09-15T11:24:48.636Z"
   },
   {
    "duration": 35,
    "start_time": "2022-09-15T11:24:48.648Z"
   },
   {
    "duration": 3,
    "start_time": "2022-09-15T11:24:48.684Z"
   },
   {
    "duration": 16,
    "start_time": "2022-09-15T11:24:48.688Z"
   },
   {
    "duration": 12,
    "start_time": "2022-09-15T11:24:48.705Z"
   },
   {
    "duration": 12,
    "start_time": "2022-09-15T11:24:48.718Z"
   },
   {
    "duration": 12,
    "start_time": "2022-09-15T11:24:48.732Z"
   },
   {
    "duration": 40,
    "start_time": "2022-09-15T11:24:48.745Z"
   },
   {
    "duration": 12,
    "start_time": "2022-09-15T11:24:48.787Z"
   },
   {
    "duration": 8,
    "start_time": "2022-09-15T11:24:48.800Z"
   },
   {
    "duration": 15,
    "start_time": "2022-09-15T11:24:48.809Z"
   },
   {
    "duration": 8,
    "start_time": "2022-09-15T11:24:48.825Z"
   },
   {
    "duration": 4,
    "start_time": "2022-09-15T11:24:48.835Z"
   },
   {
    "duration": 44,
    "start_time": "2022-09-15T11:24:48.840Z"
   },
   {
    "duration": 9,
    "start_time": "2022-09-15T11:24:48.885Z"
   },
   {
    "duration": 12,
    "start_time": "2022-09-15T11:24:48.895Z"
   },
   {
    "duration": 8,
    "start_time": "2022-09-15T11:24:48.909Z"
   },
   {
    "duration": 6,
    "start_time": "2022-09-15T11:24:48.919Z"
   },
   {
    "duration": 3,
    "start_time": "2022-09-15T11:24:48.927Z"
   },
   {
    "duration": 7,
    "start_time": "2022-09-15T11:24:48.931Z"
   },
   {
    "duration": 4,
    "start_time": "2022-09-15T11:24:48.939Z"
   },
   {
    "duration": 50,
    "start_time": "2022-09-15T11:54:25.358Z"
   },
   {
    "duration": 419,
    "start_time": "2022-09-15T11:57:59.941Z"
   },
   {
    "duration": 1017,
    "start_time": "2022-09-15T11:58:00.362Z"
   },
   {
    "duration": 18,
    "start_time": "2022-09-15T11:58:01.381Z"
   },
   {
    "duration": 49,
    "start_time": "2022-09-15T11:58:01.401Z"
   },
   {
    "duration": 9,
    "start_time": "2022-09-15T11:58:01.452Z"
   },
   {
    "duration": 13,
    "start_time": "2022-09-15T11:58:01.463Z"
   },
   {
    "duration": 27,
    "start_time": "2022-09-15T11:58:01.478Z"
   },
   {
    "duration": 37,
    "start_time": "2022-09-15T11:58:01.507Z"
   },
   {
    "duration": 43,
    "start_time": "2022-09-15T11:58:01.546Z"
   },
   {
    "duration": 26,
    "start_time": "2022-09-15T11:58:01.591Z"
   },
   {
    "duration": 30,
    "start_time": "2022-09-15T11:58:01.619Z"
   },
   {
    "duration": 86,
    "start_time": "2022-09-15T11:58:01.651Z"
   },
   {
    "duration": 84,
    "start_time": "2022-09-15T11:58:01.739Z"
   },
   {
    "duration": 65,
    "start_time": "2022-09-15T11:58:01.827Z"
   },
   {
    "duration": 56,
    "start_time": "2022-09-15T11:58:01.893Z"
   },
   {
    "duration": 3,
    "start_time": "2022-09-15T11:58:01.951Z"
   },
   {
    "duration": 22,
    "start_time": "2022-09-15T11:58:01.956Z"
   },
   {
    "duration": 54,
    "start_time": "2022-09-15T11:58:01.979Z"
   },
   {
    "duration": 16,
    "start_time": "2022-09-15T11:58:02.035Z"
   },
   {
    "duration": 80,
    "start_time": "2022-09-15T11:58:02.052Z"
   },
   {
    "duration": 27,
    "start_time": "2022-09-15T11:58:02.134Z"
   },
   {
    "duration": 36,
    "start_time": "2022-09-15T11:58:02.163Z"
   },
   {
    "duration": 27,
    "start_time": "2022-09-15T11:58:02.201Z"
   },
   {
    "duration": 27,
    "start_time": "2022-09-15T11:58:02.229Z"
   },
   {
    "duration": 31,
    "start_time": "2022-09-15T11:58:02.258Z"
   },
   {
    "duration": 41,
    "start_time": "2022-09-15T11:58:02.291Z"
   },
   {
    "duration": 35,
    "start_time": "2022-09-15T11:58:02.335Z"
   },
   {
    "duration": 57,
    "start_time": "2022-09-15T11:58:02.372Z"
   },
   {
    "duration": 58,
    "start_time": "2022-09-15T11:58:02.431Z"
   },
   {
    "duration": 27,
    "start_time": "2022-09-15T11:58:02.491Z"
   },
   {
    "duration": 22,
    "start_time": "2022-09-15T11:58:02.520Z"
   },
   {
    "duration": 47,
    "start_time": "2022-09-15T11:58:02.544Z"
   },
   {
    "duration": 11,
    "start_time": "2022-09-15T11:58:02.593Z"
   },
   {
    "duration": 32,
    "start_time": "2022-09-15T11:58:02.606Z"
   },
   {
    "duration": 64,
    "start_time": "2022-09-15T11:58:02.640Z"
   },
   {
    "duration": 62,
    "start_time": "2022-09-15T11:58:02.706Z"
   },
   {
    "duration": 7,
    "start_time": "2022-09-15T11:58:02.770Z"
   },
   {
    "duration": 16,
    "start_time": "2022-09-15T11:58:02.778Z"
   },
   {
    "duration": 13,
    "start_time": "2022-09-15T11:58:02.797Z"
   },
   {
    "duration": 38,
    "start_time": "2022-09-15T11:58:02.812Z"
   },
   {
    "duration": 12,
    "start_time": "2022-09-15T11:58:27.133Z"
   },
   {
    "duration": 14,
    "start_time": "2022-09-15T11:58:27.939Z"
   },
   {
    "duration": 415,
    "start_time": "2022-09-15T13:37:12.295Z"
   },
   {
    "duration": 209,
    "start_time": "2022-09-15T13:37:12.712Z"
   },
   {
    "duration": 18,
    "start_time": "2022-09-15T13:37:12.922Z"
   },
   {
    "duration": 28,
    "start_time": "2022-09-15T13:37:12.941Z"
   },
   {
    "duration": 4,
    "start_time": "2022-09-15T13:37:12.971Z"
   },
   {
    "duration": 18,
    "start_time": "2022-09-15T13:37:12.977Z"
   },
   {
    "duration": 25,
    "start_time": "2022-09-15T13:37:12.997Z"
   },
   {
    "duration": 9,
    "start_time": "2022-09-15T13:37:13.023Z"
   },
   {
    "duration": 28,
    "start_time": "2022-09-15T13:37:13.033Z"
   },
   {
    "duration": 14,
    "start_time": "2022-09-15T13:37:13.062Z"
   },
   {
    "duration": 18,
    "start_time": "2022-09-15T13:37:13.078Z"
   },
   {
    "duration": 61,
    "start_time": "2022-09-15T13:37:13.098Z"
   },
   {
    "duration": 77,
    "start_time": "2022-09-15T13:37:13.161Z"
   },
   {
    "duration": 50,
    "start_time": "2022-09-15T13:37:13.241Z"
   },
   {
    "duration": 48,
    "start_time": "2022-09-15T13:37:13.293Z"
   },
   {
    "duration": 3,
    "start_time": "2022-09-15T13:37:13.342Z"
   },
   {
    "duration": 9,
    "start_time": "2022-09-15T13:37:13.347Z"
   },
   {
    "duration": 52,
    "start_time": "2022-09-15T13:37:13.357Z"
   },
   {
    "duration": 10,
    "start_time": "2022-09-15T13:37:17.008Z"
   },
   {
    "duration": 12,
    "start_time": "2022-09-15T13:37:24.019Z"
   },
   {
    "duration": 12,
    "start_time": "2022-09-15T13:37:45.707Z"
   },
   {
    "duration": 70,
    "start_time": "2022-09-15T13:38:43.302Z"
   },
   {
    "duration": 50,
    "start_time": "2022-09-15T13:47:15.675Z"
   },
   {
    "duration": 374,
    "start_time": "2022-09-15T13:48:15.947Z"
   },
   {
    "duration": 159,
    "start_time": "2022-09-15T13:48:16.323Z"
   },
   {
    "duration": 16,
    "start_time": "2022-09-15T13:48:16.484Z"
   },
   {
    "duration": 29,
    "start_time": "2022-09-15T13:48:16.502Z"
   },
   {
    "duration": 3,
    "start_time": "2022-09-15T13:48:16.534Z"
   },
   {
    "duration": 7,
    "start_time": "2022-09-15T13:48:16.538Z"
   },
   {
    "duration": 16,
    "start_time": "2022-09-15T13:48:16.546Z"
   },
   {
    "duration": 5,
    "start_time": "2022-09-15T13:48:16.564Z"
   },
   {
    "duration": 39,
    "start_time": "2022-09-15T13:48:16.570Z"
   },
   {
    "duration": 14,
    "start_time": "2022-09-15T13:48:16.611Z"
   },
   {
    "duration": 18,
    "start_time": "2022-09-15T13:48:16.627Z"
   },
   {
    "duration": 76,
    "start_time": "2022-09-15T13:48:16.646Z"
   },
   {
    "duration": 67,
    "start_time": "2022-09-15T13:48:16.724Z"
   },
   {
    "duration": 62,
    "start_time": "2022-09-15T13:48:16.795Z"
   },
   {
    "duration": 34,
    "start_time": "2022-09-15T13:48:16.859Z"
   },
   {
    "duration": 2,
    "start_time": "2022-09-15T13:48:16.894Z"
   },
   {
    "duration": 19,
    "start_time": "2022-09-15T13:48:16.897Z"
   },
   {
    "duration": 35,
    "start_time": "2022-09-15T13:48:16.917Z"
   },
   {
    "duration": 9,
    "start_time": "2022-09-15T13:48:16.954Z"
   },
   {
    "duration": 12,
    "start_time": "2022-09-15T13:48:16.964Z"
   },
   {
    "duration": 38,
    "start_time": "2022-09-15T13:48:16.978Z"
   },
   {
    "duration": 3,
    "start_time": "2022-09-15T13:48:17.017Z"
   },
   {
    "duration": 15,
    "start_time": "2022-09-15T13:48:17.022Z"
   },
   {
    "duration": 11,
    "start_time": "2022-09-15T13:48:17.038Z"
   },
   {
    "duration": 11,
    "start_time": "2022-09-15T13:48:17.051Z"
   },
   {
    "duration": 10,
    "start_time": "2022-09-15T13:48:17.063Z"
   },
   {
    "duration": 43,
    "start_time": "2022-09-15T13:48:17.075Z"
   },
   {
    "duration": 11,
    "start_time": "2022-09-15T13:48:17.120Z"
   },
   {
    "duration": 8,
    "start_time": "2022-09-15T13:48:17.132Z"
   },
   {
    "duration": 9,
    "start_time": "2022-09-15T13:48:17.141Z"
   },
   {
    "duration": 8,
    "start_time": "2022-09-15T13:48:17.152Z"
   },
   {
    "duration": 3,
    "start_time": "2022-09-15T13:48:17.161Z"
   },
   {
    "duration": 46,
    "start_time": "2022-09-15T13:48:17.166Z"
   },
   {
    "duration": 11,
    "start_time": "2022-09-15T13:48:17.213Z"
   },
   {
    "duration": 21,
    "start_time": "2022-09-15T13:48:17.225Z"
   },
   {
    "duration": 10,
    "start_time": "2022-09-15T13:48:17.247Z"
   },
   {
    "duration": 9,
    "start_time": "2022-09-15T13:48:17.259Z"
   },
   {
    "duration": 7,
    "start_time": "2022-09-15T13:48:17.270Z"
   },
   {
    "duration": 32,
    "start_time": "2022-09-15T13:48:17.279Z"
   },
   {
    "duration": 5,
    "start_time": "2022-09-15T13:48:17.312Z"
   },
   {
    "duration": 32,
    "start_time": "2022-09-15T13:48:17.320Z"
   },
   {
    "duration": 50,
    "start_time": "2022-09-15T13:51:38.258Z"
   },
   {
    "duration": 50,
    "start_time": "2022-09-15T13:52:02.537Z"
   },
   {
    "duration": 55,
    "start_time": "2022-09-15T13:52:07.345Z"
   },
   {
    "duration": 88,
    "start_time": "2022-09-15T13:52:15.552Z"
   },
   {
    "duration": 74,
    "start_time": "2022-09-15T13:53:37.555Z"
   },
   {
    "duration": 59,
    "start_time": "2022-09-15T13:53:43.189Z"
   },
   {
    "duration": 41,
    "start_time": "2022-09-15T15:28:16.300Z"
   },
   {
    "duration": 369,
    "start_time": "2022-09-15T15:28:49.743Z"
   },
   {
    "duration": 478,
    "start_time": "2022-09-15T15:28:50.114Z"
   },
   {
    "duration": 17,
    "start_time": "2022-09-15T15:28:50.593Z"
   },
   {
    "duration": 27,
    "start_time": "2022-09-15T15:28:50.612Z"
   },
   {
    "duration": 4,
    "start_time": "2022-09-15T15:28:50.641Z"
   },
   {
    "duration": 8,
    "start_time": "2022-09-15T15:28:50.646Z"
   },
   {
    "duration": 15,
    "start_time": "2022-09-15T15:28:50.655Z"
   },
   {
    "duration": 15,
    "start_time": "2022-09-15T15:28:50.676Z"
   },
   {
    "duration": 24,
    "start_time": "2022-09-15T15:28:50.693Z"
   },
   {
    "duration": 19,
    "start_time": "2022-09-15T15:28:50.718Z"
   },
   {
    "duration": 19,
    "start_time": "2022-09-15T15:28:50.739Z"
   },
   {
    "duration": 72,
    "start_time": "2022-09-15T15:28:50.759Z"
   },
   {
    "duration": 87,
    "start_time": "2022-09-15T15:28:50.833Z"
   },
   {
    "duration": 55,
    "start_time": "2022-09-15T15:28:50.922Z"
   },
   {
    "duration": 38,
    "start_time": "2022-09-15T15:28:50.983Z"
   },
   {
    "duration": 7,
    "start_time": "2022-09-15T15:28:51.022Z"
   },
   {
    "duration": 15,
    "start_time": "2022-09-15T15:28:51.031Z"
   },
   {
    "duration": 50,
    "start_time": "2022-09-15T15:28:51.048Z"
   },
   {
    "duration": 9,
    "start_time": "2022-09-15T15:28:51.100Z"
   },
   {
    "duration": 16,
    "start_time": "2022-09-15T15:28:51.111Z"
   },
   {
    "duration": 20,
    "start_time": "2022-09-15T15:28:51.128Z"
   },
   {
    "duration": 11,
    "start_time": "2022-09-15T15:28:51.149Z"
   },
   {
    "duration": 11,
    "start_time": "2022-09-15T15:28:51.177Z"
   },
   {
    "duration": 31,
    "start_time": "2022-09-15T15:28:51.189Z"
   },
   {
    "duration": 16,
    "start_time": "2022-09-15T15:28:51.221Z"
   },
   {
    "duration": 15,
    "start_time": "2022-09-15T15:28:51.238Z"
   },
   {
    "duration": 37,
    "start_time": "2022-09-15T15:28:51.255Z"
   },
   {
    "duration": 22,
    "start_time": "2022-09-15T15:28:51.293Z"
   },
   {
    "duration": 14,
    "start_time": "2022-09-15T15:28:51.316Z"
   },
   {
    "duration": 8,
    "start_time": "2022-09-15T15:28:51.332Z"
   },
   {
    "duration": 17,
    "start_time": "2022-09-15T15:28:51.342Z"
   },
   {
    "duration": 28,
    "start_time": "2022-09-15T15:28:51.361Z"
   },
   {
    "duration": 4,
    "start_time": "2022-09-15T15:28:51.391Z"
   },
   {
    "duration": 20,
    "start_time": "2022-09-15T15:28:51.396Z"
   },
   {
    "duration": 10,
    "start_time": "2022-09-15T15:28:51.418Z"
   },
   {
    "duration": 14,
    "start_time": "2022-09-15T15:28:51.429Z"
   },
   {
    "duration": 10,
    "start_time": "2022-09-15T15:28:51.444Z"
   },
   {
    "duration": 32,
    "start_time": "2022-09-15T15:28:51.455Z"
   },
   {
    "duration": 17,
    "start_time": "2022-09-15T15:28:51.488Z"
   },
   {
    "duration": 14,
    "start_time": "2022-09-15T15:28:51.506Z"
   },
   {
    "duration": 9,
    "start_time": "2022-09-15T15:28:51.523Z"
   },
   {
    "duration": 33,
    "start_time": "2022-09-15T15:28:51.533Z"
   }
  ],
  "colab": {
   "collapsed_sections": [
    "E0vqbgi9ay0H",
    "VUC88oWjTJw2"
   ],
   "name": "yandex_music_project.ipynb",
   "provenance": []
  },
  "kernelspec": {
   "display_name": "Python 3 (ipykernel)",
   "language": "python",
   "name": "python3"
  },
  "language_info": {
   "codemirror_mode": {
    "name": "ipython",
    "version": 3
   },
   "file_extension": ".py",
   "mimetype": "text/x-python",
   "name": "python",
   "nbconvert_exporter": "python",
   "pygments_lexer": "ipython3",
   "version": "3.10.6"
  },
  "toc": {
   "base_numbering": 1,
   "nav_menu": {},
   "number_sections": true,
   "sideBar": true,
   "skip_h1_title": true,
   "title_cell": "Содержание",
   "title_sidebar": "Contents",
   "toc_cell": false,
   "toc_position": {
    "height": "calc(100% - 180px)",
    "left": "10px",
    "top": "150px",
    "width": "288px"
   },
   "toc_section_display": true,
   "toc_window_display": true
  }
 },
 "nbformat": 4,
 "nbformat_minor": 1
}
